{
  "nbformat": 4,
  "nbformat_minor": 0,
  "metadata": {
    "colab": {
      "name": "Python - Variables, Expressions, Statments.ipynb",
      "provenance": [],
      "include_colab_link": true
    },
    "kernelspec": {
      "name": "python3",
      "display_name": "Python 3"
    }
  },
  "cells": [
    {
      "cell_type": "markdown",
      "metadata": {
        "id": "view-in-github",
        "colab_type": "text"
      },
      "source": [
        "<a href=\"https://colab.research.google.com/github/sonal-jharkharia/Python_Fundamental_Training/blob/main/Python_Variables%2C_Expressions%2C_Statments.ipynb\" target=\"_parent\"><img src=\"https://colab.research.google.com/assets/colab-badge.svg\" alt=\"Open In Colab\"/></a>"
      ]
    },
    {
      "cell_type": "markdown",
      "metadata": {
        "id": "_ly3vIo9MMDX"
      },
      "source": [
        "# Variables, Expressions, Statements\n"
      ]
    },
    {
      "cell_type": "markdown",
      "metadata": {
        "id": "YlimLG7WMxvG"
      },
      "source": [
        "## Your First Python Program"
      ]
    },
    {
      "cell_type": "code",
      "metadata": {
        "id": "ylT3UG-jM1C_",
        "outputId": "9948997c-c154-47dd-fa9e-c07036105b16",
        "colab": {
          "base_uri": "https://localhost:8080/",
          "height": 34
        }
      },
      "source": [
        "## Print hello World on the screen\n",
        "print(\"Hello World\")"
      ],
      "execution_count": null,
      "outputs": [
        {
          "output_type": "stream",
          "text": [
            "Hello World\n"
          ],
          "name": "stdout"
        }
      ]
    },
    {
      "cell_type": "markdown",
      "metadata": {
        "id": "xpPSjVX4MaxR"
      },
      "source": [
        "## Values\n",
        "- A value is a chunk of data. It is a basic thing that a program works with.<br>\n",
        "  Eg., 1, 2, 'Hello, World'"
      ]
    },
    {
      "cell_type": "code",
      "metadata": {
        "id": "k8TJdp8kLUZy",
        "outputId": "f2742de2-0cb7-4e43-e674-7d79d4fbcc2c",
        "colab": {
          "base_uri": "https://localhost:8080/",
          "height": 34
        }
      },
      "source": [
        "2 # 2 is a value\n",
        "print(2)"
      ],
      "execution_count": null,
      "outputs": [
        {
          "output_type": "stream",
          "text": [
            "2\n"
          ],
          "name": "stdout"
        }
      ]
    },
    {
      "cell_type": "markdown",
      "metadata": {
        "id": "bqPGpzjPkC_C"
      },
      "source": [
        "## Types\n",
        "- Values are of different types. 1 is a number, 'Hello World' is a string."
      ]
    },
    {
      "cell_type": "code",
      "metadata": {
        "id": "kGwI2oZINewy",
        "outputId": "7d294627-410e-4029-b10b-7ac37bf510ed",
        "colab": {
          "base_uri": "https://localhost:8080/",
          "height": 34
        }
      },
      "source": [
        "type(1) # integer type"
      ],
      "execution_count": null,
      "outputs": [
        {
          "output_type": "execute_result",
          "data": {
            "text/plain": [
              "int"
            ]
          },
          "metadata": {
            "tags": []
          },
          "execution_count": 3
        }
      ]
    },
    {
      "cell_type": "code",
      "metadata": {
        "id": "4Ibtg0OikUjc",
        "colab": {
          "base_uri": "https://localhost:8080/",
          "height": 34
        },
        "outputId": "661a3dd0-6302-4007-f36a-1aeada81a911"
      },
      "source": [
        "type('Hello, World!') # string type"
      ],
      "execution_count": null,
      "outputs": [
        {
          "output_type": "execute_result",
          "data": {
            "text/plain": [
              "str"
            ]
          },
          "metadata": {
            "tags": []
          },
          "execution_count": 4
        }
      ]
    },
    {
      "cell_type": "code",
      "metadata": {
        "id": "Hy2EauVOkaYb",
        "outputId": "f76eaa4e-49ca-425b-e357-7204843ed434",
        "colab": {
          "base_uri": "https://localhost:8080/",
          "height": 34
        }
      },
      "source": [
        "type(3.2) # floating point number type"
      ],
      "execution_count": null,
      "outputs": [
        {
          "output_type": "execute_result",
          "data": {
            "text/plain": [
              "float"
            ]
          },
          "metadata": {
            "tags": []
          },
          "execution_count": 5
        }
      ]
    },
    {
      "cell_type": "code",
      "metadata": {
        "id": "lqi_SzEskeL1",
        "outputId": "cdee7e26-1575-4f2d-d9fb-3affddad31b0",
        "colab": {
          "base_uri": "https://localhost:8080/",
          "height": 34
        }
      },
      "source": [
        "type('17') # string type"
      ],
      "execution_count": null,
      "outputs": [
        {
          "output_type": "execute_result",
          "data": {
            "text/plain": [
              "str"
            ]
          },
          "metadata": {
            "tags": []
          },
          "execution_count": 6
        }
      ]
    },
    {
      "cell_type": "code",
      "metadata": {
        "id": "0-f6QRLsX5aq",
        "colab": {
          "base_uri": "https://localhost:8080/",
          "height": 34
        },
        "outputId": "3939274c-22e7-41e6-9a64-325536ab96a0"
      },
      "source": [
        "type(\"23\")"
      ],
      "execution_count": null,
      "outputs": [
        {
          "output_type": "execute_result",
          "data": {
            "text/plain": [
              "str"
            ]
          },
          "metadata": {
            "tags": []
          },
          "execution_count": 7
        }
      ]
    },
    {
      "cell_type": "markdown",
      "metadata": {
        "id": "imgJ23chkqEU"
      },
      "source": [
        "## Variables\n",
        "- A variable is a name that refers to a value.\n",
        "- An assignment statement creates new variables and gives them values"
      ]
    },
    {
      "cell_type": "code",
      "metadata": {
        "id": "XbB1ykI9k6wc"
      },
      "source": [
        "message = 'Now we are going to do something new'\n",
        "n = 23\n",
        "pi = 3.1417"
      ],
      "execution_count": null,
      "outputs": []
    },
    {
      "cell_type": "markdown",
      "metadata": {
        "id": "HYXsAxu7lIUk"
      },
      "source": [
        "- Type of the variable is the type of the value that it refers to"
      ]
    },
    {
      "cell_type": "code",
      "metadata": {
        "id": "Xswc7jpBlL9S",
        "colab": {
          "base_uri": "https://localhost:8080/",
          "height": 34
        },
        "outputId": "00bedfd9-a26f-46e9-8b8e-e8b87f8b73c3"
      },
      "source": [
        "type(message)"
      ],
      "execution_count": null,
      "outputs": [
        {
          "output_type": "execute_result",
          "data": {
            "text/plain": [
              "str"
            ]
          },
          "metadata": {
            "tags": []
          },
          "execution_count": 10
        }
      ]
    },
    {
      "cell_type": "code",
      "metadata": {
        "id": "-E9vYkOGlQ0Q",
        "colab": {
          "base_uri": "https://localhost:8080/",
          "height": 34
        },
        "outputId": "bca4e15f-b338-45c4-c664-0688b0b06b3c"
      },
      "source": [
        "type(n)"
      ],
      "execution_count": null,
      "outputs": [
        {
          "output_type": "execute_result",
          "data": {
            "text/plain": [
              "int"
            ]
          },
          "metadata": {
            "tags": []
          },
          "execution_count": 11
        }
      ]
    },
    {
      "cell_type": "code",
      "metadata": {
        "id": "nR7SNIBNlN-m",
        "colab": {
          "base_uri": "https://localhost:8080/",
          "height": 34
        },
        "outputId": "96ef6067-d8f7-483c-c66b-8c7764e1d5ee"
      },
      "source": [
        "type(pi)"
      ],
      "execution_count": null,
      "outputs": [
        {
          "output_type": "execute_result",
          "data": {
            "text/plain": [
              "float"
            ]
          },
          "metadata": {
            "tags": []
          },
          "execution_count": 12
        }
      ]
    },
    {
      "cell_type": "markdown",
      "metadata": {
        "id": "4JxDSuRANyF2"
      },
      "source": [
        "## Identifier\n",
        "An identifier is a name used to identify a python object - variable, module, function, object, Class\n",
        "\n",
        "Rules for defining identifiers - \n",
        "- Identifiers cannot be keywords\n",
        "- Identifiers can contain \n",
        "  (a-z), (A-Z), (0-9), or (_) underscore character\n",
        "- Identifiers cannot start with a number\n",
        "- Identifiers cannot contain special symbols ($, @, !, etc)\n",
        "- Identifiers are case sensitive - var_1 is different from Var_1"
      ]
    },
    {
      "cell_type": "markdown",
      "metadata": {
        "id": "YeCBgri7O0Ut"
      },
      "source": [
        "## Keywords\n",
        "Keywords are reserved words in python. Keywords can only be used for specific purposes in python which are fixed."
      ]
    },
    {
      "cell_type": "code",
      "metadata": {
        "id": "IpDQl3jGl868",
        "outputId": "5ecb50ae-e608-4ed0-c364-a686181e7bf8",
        "colab": {
          "base_uri": "https://localhost:8080/",
          "height": 54
        }
      },
      "source": [
        "## print all keywords of python\n",
        "import keyword\n",
        "print(keyword.kwlist)"
      ],
      "execution_count": null,
      "outputs": [
        {
          "output_type": "stream",
          "text": [
            "['False', 'None', 'True', 'and', 'as', 'assert', 'break', 'class', 'continue', 'def', 'del', 'elif', 'else', 'except', 'finally', 'for', 'from', 'global', 'if', 'import', 'in', 'is', 'lambda', 'nonlocal', 'not', 'or', 'pass', 'raise', 'return', 'try', 'while', 'with', 'yield']\n"
          ],
          "name": "stdout"
        }
      ]
    },
    {
      "cell_type": "code",
      "metadata": {
        "id": "nSK4jAkaNlUn"
      },
      "source": [
        "x1 = 3 # valid identifier\n"
      ],
      "execution_count": null,
      "outputs": []
    },
    {
      "cell_type": "code",
      "metadata": {
        "id": "q-WHKZyyP1n5",
        "colab": {
          "base_uri": "https://localhost:8080/",
          "height": 131
        },
        "outputId": "24dcc84e-c27b-478f-cdad-22dacd86d75e"
      },
      "source": [
        "1x = 4 # invalid identifier because starts with number"
      ],
      "execution_count": null,
      "outputs": [
        {
          "output_type": "error",
          "ename": "SyntaxError",
          "evalue": "ignored",
          "traceback": [
            "\u001b[0;36m  File \u001b[0;32m\"<ipython-input-14-f0bf7720e862>\"\u001b[0;36m, line \u001b[0;32m1\u001b[0m\n\u001b[0;31m    1x = 4 # invalid identifier because starts with number\u001b[0m\n\u001b[0m     ^\u001b[0m\n\u001b[0;31mSyntaxError\u001b[0m\u001b[0;31m:\u001b[0m invalid syntax\n"
          ]
        }
      ]
    },
    {
      "cell_type": "code",
      "metadata": {
        "id": "u2oAePAvQOp4"
      },
      "source": [
        "total_marks = 100 # valid identifier with underscore"
      ],
      "execution_count": null,
      "outputs": []
    },
    {
      "cell_type": "markdown",
      "metadata": {
        "id": "qWogWdvRQcqv"
      },
      "source": [
        "## Variable Naming best practices\n",
        "- Start variable names with lower case\n",
        "- Use underscores for readability\n",
        "- Make variable names understandable in context"
      ]
    },
    {
      "cell_type": "code",
      "metadata": {
        "id": "Ih5Ego-uzvoL"
      },
      "source": [
        "total_score = 100 # clear\n",
        "#total_score_in_match = 200\n",
        "ts = 100 # unclear"
      ],
      "execution_count": null,
      "outputs": []
    },
    {
      "cell_type": "markdown",
      "metadata": {
        "id": "DQ7vTKMHmssw"
      },
      "source": [
        "## Operators and Operands\n",
        "- **Operators** are special symbols used to represent operations such as addition or multiplication\n",
        "- An operator is applied to values. The values that an operator is applied to are called **operands**\n",
        "- **+**, **-** , **%**, **/** etc., are a few operators in python."
      ]
    },
    {
      "cell_type": "code",
      "metadata": {
        "id": "Znbcyjc_mrbK",
        "colab": {
          "base_uri": "https://localhost:8080/",
          "height": 34
        },
        "outputId": "54fefac4-60e7-4245-c0ea-5228601cc6b0"
      },
      "source": [
        "2 + 3\n",
        "x = 2\n",
        "y = 3\n",
        "print(x + 2*y)"
      ],
      "execution_count": null,
      "outputs": [
        {
          "output_type": "stream",
          "text": [
            "8\n"
          ],
          "name": "stdout"
        }
      ]
    },
    {
      "cell_type": "markdown",
      "metadata": {
        "id": "qhgYJ4pdnX5U"
      },
      "source": [
        "## Expressions and Statements\n",
        "- An expression is a combination of values, variables and operators\n",
        "- A value or a variable all by itself is also considered and expression\n",
        "- The following are legal expressions : <br>\n",
        "  23 <br>\n",
        "  x <br>\n",
        "  x + 23 <br>"
      ]
    },
    {
      "cell_type": "markdown",
      "metadata": {
        "id": "iciX4k8bn931"
      },
      "source": [
        "- A statement is a unit of code that the python interpreter can execute\n",
        "- We had looked at **assignment** statement earlier\n",
        "- Technically, an expression is also a statement\n",
        "- Main difference: An expression has a value but a statement does not"
      ]
    },
    {
      "cell_type": "code",
      "metadata": {
        "id": "BYp0wA7crWzA"
      },
      "source": [
        "number_of_days_in_week = 7"
      ],
      "execution_count": null,
      "outputs": []
    }
  ]
}