{
  "nbformat": 4,
  "nbformat_minor": 0,
  "metadata": {
    "colab": {
      "name": "While loops.ipynb",
      "provenance": [],
      "include_colab_link": true
    },
    "kernelspec": {
      "name": "python3",
      "display_name": "Python 3"
    }
  },
  "cells": [
    {
      "cell_type": "markdown",
      "metadata": {
        "id": "view-in-github",
        "colab_type": "text"
      },
      "source": [
        "<a href=\"https://colab.research.google.com/github/sonal-jharkharia/Python_Fundamental_Training/blob/main/While_loops.ipynb\" target=\"_parent\"><img src=\"https://colab.research.google.com/assets/colab-badge.svg\" alt=\"Open In Colab\"/></a>"
      ]
    },
    {
      "cell_type": "markdown",
      "metadata": {
        "id": "-NZ9UX4Kvcka"
      },
      "source": [
        "# Loops\n",
        "Agenda \n",
        "- While loops\n",
        "- Break Statements\n",
        "- Continue Statement"
      ]
    },
    {
      "cell_type": "markdown",
      "metadata": {
        "id": "CUjX-hpXve-J"
      },
      "source": [
        "## While loop\n",
        "- A while statement can be used to make a block of code run again and again.\n",
        "- The block of code that will be executed again and again is called the _while clause_ (same as body of while statement)"
      ]
    },
    {
      "cell_type": "markdown",
      "metadata": {
        "id": "lubYyzZsyV2u"
      },
      "source": [
        "## If vs While"
      ]
    },
    {
      "cell_type": "code",
      "metadata": {
        "id": "e5Wqb1cUvXuH",
        "outputId": "ca094a3c-e203-42eb-d27b-8b00bc2004cd",
        "colab": {
          "base_uri": "https://localhost:8080/",
          "height": 34
        }
      },
      "source": [
        "## Example If statemnt\n",
        "print_count = 0\n",
        "if(print_count < 5):\n",
        "  print('Hello World')\n",
        "  print_count = print_count + 1"
      ],
      "execution_count": null,
      "outputs": [
        {
          "output_type": "stream",
          "text": [
            "Hello World\n"
          ],
          "name": "stdout"
        }
      ]
    },
    {
      "cell_type": "code",
      "metadata": {
        "id": "jaQtUfVtyzg4",
        "outputId": "bdf03c78-4857-4d3b-8aeb-2ed03b939fa3",
        "colab": {
          "base_uri": "https://localhost:8080/",
          "height": 103
        }
      },
      "source": [
        "## Example while statement\n",
        "print_count = 0\n",
        "while(print_count < 5):\n",
        "  print('Hello World')\n",
        "  print_count = print_count + 1"
      ],
      "execution_count": null,
      "outputs": [
        {
          "output_type": "stream",
          "text": [
            "Hello World\n",
            "Hello World\n",
            "Hello World\n",
            "Hello World\n",
            "Hello World\n"
          ],
          "name": "stdout"
        }
      ]
    },
    {
      "cell_type": "markdown",
      "metadata": {
        "id": "sKbI4NKry3w7"
      },
      "source": [
        "## Flow charts\n",
        "### If \n",
        "<img src=\"https://drive.google.com/uc?id=1BHRP4ie5xlYBUu5ECnFKOOXZR1GlwR4r\" alt=\"Drawing\" style=\"width: 200px;\"/>\n",
        "\n",
        "### While\n",
        "<img src=\"https://drive.google.com/uc?id=1wJI5jurPBcdmP69bEc3eGxH-1gwMY_zY\" alt=\"Drawing\" style=\"width: 200px;\"/>"
      ]
    },
    {
      "cell_type": "code",
      "metadata": {
        "id": "XNxACHgiy1zS",
        "outputId": "f00dc6fb-0b56-4f3a-bd09-67353592cf6d",
        "colab": {
          "base_uri": "https://localhost:8080/",
          "height": 137
        }
      },
      "source": [
        "## Another example, password checking program\n",
        "password = \"\" ## blank or empty string, initializing the variable password\n",
        "while(password != \"$ecretP@$$word\"): ## as long as the entered password is not correct\n",
        "  print('Please type the correct password')\n",
        "  password = input()\n",
        "print('Thank you!')"
      ],
      "execution_count": null,
      "outputs": [
        {
          "output_type": "stream",
          "text": [
            "Please type the correct password\n",
            "randompassword\n",
            "Please type the correct password\n",
            "password2\n",
            "Please type the correct password\n",
            "$ecretP@$$word\n",
            "Thank you!\n"
          ],
          "name": "stdout"
        }
      ]
    },
    {
      "cell_type": "markdown",
      "metadata": {
        "id": "6IAkGa3T1DjW"
      },
      "source": [
        "#### flowchart\n",
        "<img src=\"https://drive.google.com/uc?id=1BMTAPWt7Em3MD3_EiDLobWzBAQ4MOkpI\" alt=\"Drawing\" style=\"width: 200px;\"/>\n"
      ]
    },
    {
      "cell_type": "markdown",
      "metadata": {
        "id": "X7VcJvXw2Kr9"
      },
      "source": [
        "## Break Statements\n",
        "- a technique to exit out of a while loop's clause (body) early\n",
        "- when execution reaches a break statemnt, it immediately exits the while loop's body"
      ]
    },
    {
      "cell_type": "code",
      "metadata": {
        "id": "Q57MthR-1Mmp",
        "outputId": "dd99b398-f1b0-4238-d731-5cc1039d05e4",
        "colab": {
          "base_uri": "https://localhost:8080/",
          "height": 137
        }
      },
      "source": [
        "## Another way to write our password program\n",
        "password = \"\"\n",
        "while(True):\n",
        "  print('Please type the correct password')\n",
        "  password = input()\n",
        "  if(password == \"$ecretP@$$word\"):\n",
        "    break\n",
        "print('Thank you!')"
      ],
      "execution_count": null,
      "outputs": [
        {
          "output_type": "stream",
          "text": [
            "Please type the correct password\n",
            "wrongpassword\n",
            "Please type the correct password\n",
            "wrongpassword2\n",
            "Please type the correct password\n",
            "$ecretP@$$word\n",
            "Thank you!\n"
          ],
          "name": "stdout"
        }
      ]
    },
    {
      "cell_type": "markdown",
      "metadata": {
        "id": "0ub670_v3UNN"
      },
      "source": [
        "#### flowchart\n",
        "<img src=\"https://drive.google.com/uc?id=1k5BXG-sqXDvGxDrEeZlgmQCwn7piH9h5\" alt=\"Drawing\" style=\"width: 200px;\"/>"
      ]
    },
    {
      "cell_type": "markdown",
      "metadata": {
        "id": "nKm5hQNW4tzK"
      },
      "source": [
        "## Continue Statements\n",
        "- Like break statements, continue statements are used only inside loops\n",
        "- when a program encounters a continue statment, it immediately jumps ahead to the loop condition and re-checks it."
      ]
    },
    {
      "cell_type": "code",
      "metadata": {
        "id": "zUTqxo43262z"
      },
      "source": [
        "## An advanced password program using continue\n",
        "# checks two things, name and password\n",
        "while(True):\n",
        "  print('What is your name?')\n",
        "  name = input()\n",
        "  if(name != 'Hari'):\n",
        "    continue\n",
        "  print('Hello, Hari. What is the password?')\n",
        "  password = input()\n",
        "  if(password == \"$ecretP@$$word\"):\n",
        "    break\n",
        "print('Access granted!')"
      ],
      "execution_count": null,
      "outputs": []
    },
    {
      "cell_type": "markdown",
      "metadata": {
        "id": "BkkdIfHn8Txp"
      },
      "source": [
        "## flowchart\n",
        "<img src=\"https://drive.google.com/uc?id=1_bsoDQtVxLc0EflsHuAxn9zoX72cU5bi\" alt=\"Drawing\" style=\"width: 200px;\"/>"
      ]
    },
    {
      "cell_type": "code",
      "metadata": {
        "id": "rhck40p18b0n"
      },
      "source": [
        ""
      ],
      "execution_count": null,
      "outputs": []
    }
  ]
}