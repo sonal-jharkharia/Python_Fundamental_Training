{
  "nbformat": 4,
  "nbformat_minor": 0,
  "metadata": {
    "colab": {
      "name": "Python - Functions.ipynb",
      "provenance": [],
      "collapsed_sections": [],
      "include_colab_link": true
    },
    "kernelspec": {
      "name": "python3",
      "display_name": "Python 3"
    }
  },
  "cells": [
    {
      "cell_type": "markdown",
      "metadata": {
        "id": "view-in-github",
        "colab_type": "text"
      },
      "source": [
        "<a href=\"https://colab.research.google.com/github/sonal-jharkharia/Python_Fundamental_Training/blob/main/Python_Functions.ipynb\" target=\"_parent\"><img src=\"https://colab.research.google.com/assets/colab-badge.svg\" alt=\"Open In Colab\"/></a>"
      ]
    },
    {
      "cell_type": "markdown",
      "metadata": {
        "id": "i0FzEzhCnRxZ"
      },
      "source": [
        "# Functions in Python\n",
        "\n",
        "- Function is a block of code that performs a specific task.\n",
        "- It makes code reusable, avoids writing duplicate code.\n"
      ]
    },
    {
      "cell_type": "markdown",
      "metadata": {
        "id": "exWIJE9JoLvw"
      },
      "source": [
        "# Syntax of a Function\n",
        "\n",
        "def function_name(input_parameters):\n",
        "\n",
        "&nbsp;&nbsp;&nbsp;&nbsp;&nbsp;&nbsp;\"&nbsp;\"&nbsp;\"<br>\n",
        "&nbsp;&nbsp;&nbsp;&nbsp;&nbsp;&nbsp;Describe about the function<br>\n",
        "&nbsp;&nbsp;&nbsp;&nbsp;&nbsp;&nbsp;\"&nbsp;\"&nbsp;\"\n",
        "<br>\n",
        "<br>\n",
        "&nbsp;&nbsp;&nbsp;&nbsp;&nbsp;&nbsp;Statements\n",
        "\n"
      ]
    },
    {
      "cell_type": "code",
      "metadata": {
        "id": "-ygzgFP0nS4p"
      },
      "source": [
        "#Example\n",
        "def greetings(name):\n",
        "    \"\"\"\n",
        "    Greet Good Morning to the user (This is a doc-string)\n",
        "    \"\"\"\n",
        "    print('Good Morning ' + str(name))"
      ],
      "execution_count": null,
      "outputs": []
    },
    {
      "cell_type": "markdown",
      "metadata": {
        "id": "pWcebDO4qi0S"
      },
      "source": [
        "\n",
        "- IMP: This function has no return statement\n",
        "- Every function has a return value. If there is no return statement, then the return value is none."
      ]
    },
    {
      "cell_type": "code",
      "metadata": {
        "id": "die_4wzUpnS6",
        "outputId": "7d316109-1160-4776-9bc8-b428a1b064cb",
        "colab": {
          "base_uri": "https://localhost:8080/",
          "height": 34
        }
      },
      "source": [
        "# Function Call\n",
        "person = 'Madhava'\n",
        "greetings(person)"
      ],
      "execution_count": null,
      "outputs": [
        {
          "output_type": "stream",
          "text": [
            "Good Morning Madhava\n"
          ],
          "name": "stdout"
        }
      ]
    },
    {
      "cell_type": "markdown",
      "metadata": {
        "id": "5Gv9nAR7ruhg"
      },
      "source": [
        "# Doc String\n",
        "- A documentation string after the first function header."
      ]
    },
    {
      "cell_type": "code",
      "metadata": {
        "id": "3VjBDUB8p9e2",
        "outputId": "fd2f4da3-ee90-4e61-808d-16f582e1af4b",
        "colab": {
          "base_uri": "https://localhost:8080/",
          "height": 69
        }
      },
      "source": [
        "print(greetings.__doc__)"
      ],
      "execution_count": null,
      "outputs": [
        {
          "output_type": "stream",
          "text": [
            "\n",
            "    Greet Good Morning to the user (This is a doc-string)\n",
            "    \n"
          ],
          "name": "stdout"
        }
      ]
    },
    {
      "cell_type": "markdown",
      "metadata": {
        "id": "YsN88SC0sIo4"
      },
      "source": [
        "# Functions with Return Statement\n",
        "- Exit a function and return to the calling position.\n",
        "- <strong>return (expression)</strong>"
      ]
    },
    {
      "cell_type": "code",
      "metadata": {
        "id": "T52CZ8xer-0I"
      },
      "source": [
        "def find_sqr(num):\n",
        "    '''\n",
        "    Finding the square of a number\n",
        "    '''\n",
        "    num_sqr = num*num\n",
        "    return(num_sqr)"
      ],
      "execution_count": null,
      "outputs": []
    },
    {
      "cell_type": "code",
      "metadata": {
        "id": "vcMVKB_Evl75",
        "outputId": "7d2b0fd8-9dda-4219-9886-58c1a98f4cc2",
        "colab": {
          "base_uri": "https://localhost:8080/",
          "height": 34
        }
      },
      "source": [
        "find_sqr(-3)"
      ],
      "execution_count": null,
      "outputs": [
        {
          "output_type": "execute_result",
          "data": {
            "text/plain": [
              "9"
            ]
          },
          "metadata": {
            "tags": []
          },
          "execution_count": 24
        }
      ]
    },
    {
      "cell_type": "code",
      "metadata": {
        "id": "z0lVHKfptcTw",
        "outputId": "d7409f55-2f1d-4bad-89aa-7d39939749ce",
        "colab": {
          "base_uri": "https://localhost:8080/",
          "height": 69
        }
      },
      "source": [
        "# Lets again observe the doc string of this function\n",
        "print(find_sqr.__doc__)"
      ],
      "execution_count": null,
      "outputs": [
        {
          "output_type": "stream",
          "text": [
            "\n",
            "    Finding the square of a number\n",
            "    \n"
          ],
          "name": "stdout"
        }
      ]
    },
    {
      "cell_type": "markdown",
      "metadata": {
        "id": "zBoaFzyKzJPE"
      },
      "source": [
        "# Working of a function"
      ]
    },
    {
      "cell_type": "markdown",
      "metadata": {
        "id": "gSqjFH7yyest"
      },
      "source": [
        "\n",
        "<img src=\"https://drive.google.com/uc?id=1N5dWKlQo3NNg5ojqQCEIlUKOnR8reZI1\" alt=\"Drawing\" width=\"300\"/>"
      ]
    },
    {
      "cell_type": "markdown",
      "metadata": {
        "id": "p5S8dPOjzkH5"
      },
      "source": [
        "# Global and local scope\n",
        "WHAT IS SCOPE?<br>\n",
        "- An area of the source code or a container of variables. \n",
        "- Global Scope - Code outside of all functions\n",
        "- Code in a global scope cannot use local variables.\n",
        "- Global variable can be accessed in a local scope.\n",
        "- Code in one local scope cannot use variables in another local scope."
      ]
    },
    {
      "cell_type": "code",
      "metadata": {
        "id": "D7V01wx9ubJ2",
        "outputId": "b0327e57-6714-4f5f-b71e-e9f460178bef",
        "colab": {
          "base_uri": "https://localhost:8080/",
          "height": 86
        }
      },
      "source": [
        "global_var = \"This is a Global Variable\"\n",
        "def check_scope():\n",
        "    '''\n",
        "    Checking variable scope\n",
        "    '''\n",
        "    global local_var\n",
        "    local_var = \"This is a local variable\"\n",
        "    print(global_var)\n",
        "    print(local_var)\n",
        "\n",
        "check_scope()\n",
        "print(global_var)\n",
        "print(local_var)\n",
        "\n",
        "\n",
        "# use global to make a local variable global"
      ],
      "execution_count": null,
      "outputs": [
        {
          "output_type": "stream",
          "text": [
            "This is a Global Variable\n",
            "This is a local variable\n",
            "This is a Global Variable\n",
            "This is a local variable\n"
          ],
          "name": "stdout"
        }
      ]
    },
    {
      "cell_type": "code",
      "metadata": {
        "id": "-9VjBqgM5McP"
      },
      "source": [
        ""
      ],
      "execution_count": null,
      "outputs": []
    }
  ]
}