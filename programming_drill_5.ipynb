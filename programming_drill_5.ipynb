{
  "nbformat": 4,
  "nbformat_minor": 0,
  "metadata": {
    "colab": {
      "name": "programming_drill_5.ipynb",
      "provenance": [],
      "include_colab_link": true
    },
    "kernelspec": {
      "name": "python3",
      "display_name": "Python 3"
    }
  },
  "cells": [
    {
      "cell_type": "markdown",
      "metadata": {
        "id": "view-in-github",
        "colab_type": "text"
      },
      "source": [
        "<a href=\"https://colab.research.google.com/github/sonal-jharkharia/Python_Fundamental_Training/blob/main/programming_drill_5.ipynb\" target=\"_parent\"><img src=\"https://colab.research.google.com/assets/colab-badge.svg\" alt=\"Open In Colab\"/></a>"
      ]
    },
    {
      "cell_type": "markdown",
      "metadata": {
        "id": "2YLk3Gv4MATN"
      },
      "source": [
        "#Drill #20\n",
        "<img src=\"https://drive.google.com/uc?id=1jFZCf2fOhvOfAPmNW0mMhcCw-vs8Ukfq\" width=\"400\">\n",
        "\n",
        "####Expected Output:\n",
        "<img src=\"https://drive.google.com/uc?id=193u64JKk7kGDiYO07lZeY4_na5loaQDg\" width=\"250\">"
      ]
    },
    {
      "cell_type": "code",
      "metadata": {
        "id": "u5oZF_PtPrV1"
      },
      "source": [
        "### Write your code here"
      ],
      "execution_count": null,
      "outputs": []
    },
    {
      "cell_type": "markdown",
      "metadata": {
        "id": "o5Aik8a3OBO0"
      },
      "source": [
        "# Drill #21\n",
        "<img src=\"https://drive.google.com/uc?id=1W7Es2eYu7P2ge50Phx4ufCeQouQz51oZ\" width=\"400\">\n",
        "\n",
        "#### Expected Output\n",
        "<img src=\"https://drive.google.com/uc?id=1VqcfhTIPgR9OvGOEyng65Mpc6OVJhUMs\" width=\"250\">"
      ]
    },
    {
      "cell_type": "code",
      "metadata": {
        "id": "an9WWw4nL2lk"
      },
      "source": [
        "### Write your code here"
      ],
      "execution_count": null,
      "outputs": []
    },
    {
      "cell_type": "markdown",
      "metadata": {
        "id": "iZ76UVzQPt-s"
      },
      "source": [
        "# Drill #22\n",
        "<img src=\"https://drive.google.com/uc?id=1cU17eW9p4Y4653A-Fb2ZnPIdo9kZHRHx\" width=\"400\"> <br>\n",
        "<img src=\"https://drive.google.com/uc?id=1nIW0lrApKQORj7L28hnnkFM3rpPHZRkq\" width=\"400\">\n",
        "#### Expected Output\n",
        "<img src=\"https://drive.google.com/uc?id=1mhrc2muk2WCTqqMIgwbsEfUYEbScLNL4\"\n",
        "width=\"250\">"
      ]
    },
    {
      "cell_type": "code",
      "metadata": {
        "id": "jABRfu_bM4s9"
      },
      "source": [
        "#### Write your code here"
      ],
      "execution_count": null,
      "outputs": []
    },
    {
      "cell_type": "markdown",
      "metadata": {
        "id": "_twCf-rpU4Bp"
      },
      "source": [
        "#### 22.1 \n",
        "Make new parts of game and change what decisions people can make."
      ]
    },
    {
      "cell_type": "code",
      "metadata": {
        "id": "C2tiPAbQSE66"
      },
      "source": [
        "#### Write your code here"
      ],
      "execution_count": null,
      "outputs": []
    }
  ]
}