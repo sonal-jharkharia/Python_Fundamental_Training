{
  "nbformat": 4,
  "nbformat_minor": 0,
  "metadata": {
    "colab": {
      "name": "Dictionaries.ipynb",
      "provenance": [],
      "collapsed_sections": [],
      "include_colab_link": true
    },
    "kernelspec": {
      "name": "python3",
      "display_name": "Python 3"
    }
  },
  "cells": [
    {
      "cell_type": "markdown",
      "metadata": {
        "id": "view-in-github",
        "colab_type": "text"
      },
      "source": [
        "<a href=\"https://colab.research.google.com/github/sonal-jharkharia/Python_Fundamental_Training/blob/main/Dictionaries.ipynb\" target=\"_parent\"><img src=\"https://colab.research.google.com/assets/colab-badge.svg\" alt=\"Open In Colab\"/></a>"
      ]
    },
    {
      "cell_type": "markdown",
      "metadata": {
        "id": "8b_gjkf-2V84"
      },
      "source": [
        "# Dictionaries in python\n",
        "An unordered collection of items. While other compound data types have only value as an element, a dictionary has a key: value pair.\n",
        "\n",
        "Dictionaries are optimized to retrieve values when the key is known."
      ]
    },
    {
      "cell_type": "markdown",
      "metadata": {
        "id": "ng6xpNo92zOT"
      },
      "source": [
        "# Creating a dictionary"
      ]
    },
    {
      "cell_type": "code",
      "metadata": {
        "id": "RTTsLeX62Ufu"
      },
      "source": [
        "# Empty dictionary\n",
        "my_dict = {}\n",
        "\n",
        "# Dictionary\n",
        "my_dict = {'name': 'Gaura', 1: [2, 4, 3]}\n",
        "\n",
        "# using dict() in-built function\n",
        "my_dict = dict({1:'Gita', 2:'Ramayana'})\n",
        "\n",
        "# from a list of tuples\n",
        "my_dict = dict([(1,'Gita'), (2,'Ramayana')])\n",
        "print(my_dict)"
      ],
      "execution_count": null,
      "outputs": []
    },
    {
      "cell_type": "markdown",
      "metadata": {
        "id": "PaVU_dpWr-Mz"
      },
      "source": [
        "# Accessing elements from a dictionary"
      ]
    },
    {
      "cell_type": "code",
      "metadata": {
        "id": "lvj42v0d3o2s"
      },
      "source": [
        "my_dict = {'name':'Govind', 'age': 26}\n",
        "\n",
        "#print(my_dict['name'])\n",
        "print(my_dict.get('age'))"
      ],
      "execution_count": null,
      "outputs": []
    },
    {
      "cell_type": "markdown",
      "metadata": {
        "id": "QZovZ9oOtWoQ"
      },
      "source": [
        "# Add and change elements in dictionary"
      ]
    },
    {
      "cell_type": "code",
      "metadata": {
        "id": "S-QY0SZwsT2j"
      },
      "source": [
        "my_dict = {'name':'Mukunda', 'age': 26}\n",
        "\n",
        "my_dict['age'] = 17 #Changing the key value\n",
        "print(my_dict)\n",
        "\n",
        "my_dict['address'] = 'Mathura' #Adding a key and its value\n",
        "print(my_dict)"
      ],
      "execution_count": null,
      "outputs": []
    },
    {
      "cell_type": "markdown",
      "metadata": {
        "id": "GcCoTBepMAbi"
      },
      "source": [
        "# Delete or Remove elements from a dictionary\n",
        "- Method 1: **pop()** function removes as item with the provided key and returns the value\n",
        "- Method 2: using **del** keyword to remove individual items or entire dictionary itself. \n"
      ]
    },
    {
      "cell_type": "code",
      "metadata": {
        "id": "--6kDg6s7BJA"
      },
      "source": [
        "squares = {'one':1, 'two':4, 3:9, 4:16, 'five':25}  \n",
        "# print(squares.pop('five'))  \n",
        "# print(squares)\n",
        "\n",
        "del squares['two']  \n",
        "print(squares)\n",
        "\n",
        "del squares"
      ],
      "execution_count": null,
      "outputs": []
    },
    {
      "cell_type": "markdown",
      "metadata": {
        "id": "PgqSSvoQP2LK"
      },
      "source": [
        "# Dictionary methods"
      ]
    },
    {
      "cell_type": "code",
      "metadata": {
        "id": "mAPTe9BUNtZy"
      },
      "source": [
        "squares = {'one':1, 'two':4, 3:9, 4:16, 'five':25}\n",
        "new_dict = squares.copy()\n",
        "print(new_dict)"
      ],
      "execution_count": null,
      "outputs": []
    },
    {
      "cell_type": "code",
      "metadata": {
        "id": "qXZTOnDzQK0K"
      },
      "source": [
        "print(new_dict.items())\n",
        "print(new_dict.keys())\n",
        "print(new_dict.values())\n",
        "# similarly we can print keys and values also"
      ],
      "execution_count": null,
      "outputs": []
    },
    {
      "cell_type": "code",
      "metadata": {
        "id": "I8sYQzAfQX-e"
      },
      "source": [
        " "
      ],
      "execution_count": null,
      "outputs": []
    }
  ]
}