{
  "nbformat": 4,
  "nbformat_minor": 0,
  "metadata": {
    "colab": {
      "name": "Numpy Basics.ipynb",
      "provenance": [],
      "include_colab_link": true
    },
    "kernelspec": {
      "name": "python3",
      "display_name": "Python 3"
    }
  },
  "cells": [
    {
      "cell_type": "markdown",
      "metadata": {
        "id": "view-in-github",
        "colab_type": "text"
      },
      "source": [
        "<a href=\"https://colab.research.google.com/github/sonal-jharkharia/Python_Fundamental_Training/blob/main/Numpy_Basics.ipynb\" target=\"_parent\"><img src=\"https://colab.research.google.com/assets/colab-badge.svg\" alt=\"Open In Colab\"/></a>"
      ]
    },
    {
      "cell_type": "markdown",
      "metadata": {
        "id": "oprHTVDIM6B_"
      },
      "source": [
        "# **Numpy**\n",
        "- One of the most powerful numerical processing library\n",
        "\n",
        "**Numpy Provides** <br>\n",
        "- Extension package for multi-dimensional array\n",
        "- Efficient and convenient scientific computing\n"
      ]
    },
    {
      "cell_type": "code",
      "metadata": {
        "id": "erHHnsoaM74o"
      },
      "source": [
        "# Example: Creating a simple array in numpy\n",
        "import numpy as np\n",
        "a = np.array([1, 2, 3, 4])\n",
        "\n",
        "print(a)\n",
        "print(np.arange(10))"
      ],
      "execution_count": null,
      "outputs": []
    },
    {
      "cell_type": "markdown",
      "metadata": {
        "id": "xnfhzADaU4hg"
      },
      "source": [
        "#### How is it efficient and useful?"
      ]
    },
    {
      "cell_type": "code",
      "metadata": {
        "id": "26FA3zApU51Q"
      },
      "source": [
        "L = range(1000)\n",
        "%timeit [i**2 for i in L]\n",
        "\n",
        "a = np.arange(1000)\n",
        "%timeit a**2"
      ],
      "execution_count": null,
      "outputs": []
    },
    {
      "cell_type": "markdown",
      "metadata": {
        "id": "0lATog3BQxm2"
      },
      "source": [
        "## I. Creating arrays"
      ]
    },
    {
      "cell_type": "code",
      "metadata": {
        "id": "Zwvav2cQQ8jl"
      },
      "source": [
        "a = np.array([1, 3, 4]) # 1-D array (VECTOR)\n",
        "len(a)"
      ],
      "execution_count": null,
      "outputs": []
    },
    {
      "cell_type": "code",
      "metadata": {
        "id": "1601U6sdR6Lo"
      },
      "source": [
        "b = np.array([[1, 2, 3], [3, 5, 6]]) # 2-D Array (MATRIX)\n",
        "\n",
        "print(b)\n",
        "b.shape"
      ],
      "execution_count": null,
      "outputs": []
    },
    {
      "cell_type": "code",
      "metadata": {
        "id": "4f5jy9jXSHbG"
      },
      "source": [
        "c = np.array([[[0, 1], [1, 2]], [[2, 3], [5, 6]]]) # 3-D array (n-dimensional array: TENSOR)"
      ],
      "execution_count": null,
      "outputs": []
    },
    {
      "cell_type": "markdown",
      "metadata": {
        "id": "6LT1RhJnTAZ_"
      },
      "source": [
        "#### Functions for creating arrays"
      ]
    },
    {
      "cell_type": "code",
      "metadata": {
        "id": "4hbDEkQeSW-Y"
      },
      "source": [
        "# using arange function\n",
        "a = np.arange(1, 10, 3) # start - end - step\n",
        "a"
      ],
      "execution_count": null,
      "outputs": []
    },
    {
      "cell_type": "code",
      "metadata": {
        "id": "ydfipSJ-T6-T"
      },
      "source": [
        "# using linspace function\n",
        "b = np.linspace(0, 1, 5) #start - end - number of points\n",
        "b"
      ],
      "execution_count": null,
      "outputs": []
    },
    {
      "cell_type": "code",
      "metadata": {
        "id": "54c7EZOEULgh"
      },
      "source": [
        "# common arrays functions\n",
        "c = np.zeros((3, 3)) # all zeros\n",
        "print('c\\n', c)\n",
        "\n",
        "d = np.ones((2, 2)) # all ones\n",
        "print('d\\n', d)\n",
        "\n",
        "p = np.eye(2, 3) # Ones on the diagonals and zeroes elsewhere\n",
        "print('p\\n', p)"
      ],
      "execution_count": null,
      "outputs": []
    },
    {
      "cell_type": "code",
      "metadata": {
        "id": "8nGeaJ7xUMAX"
      },
      "source": [
        "#Using diag() function\n",
        "a = np.diag([1, 2, 3, 5, 0])\n",
        "print(a)"
      ],
      "execution_count": null,
      "outputs": []
    },
    {
      "cell_type": "code",
      "metadata": {
        "id": "26DtN2AFV3ES"
      },
      "source": [
        "# creating a random array\n",
        "a = np.random.rand(3, 2)\n",
        "print(a)\n",
        " "
      ],
      "execution_count": null,
      "outputs": []
    },
    {
      "cell_type": "markdown",
      "metadata": {
        "id": "z8bWhMb9XOjR"
      },
      "source": [
        "## II. DataTypes"
      ]
    },
    {
      "cell_type": "code",
      "metadata": {
        "id": "GEUjD5WiWOUK"
      },
      "source": [
        "a = np.arange(5)\n",
        "print('a is', a)\n",
        "print(a.dtype)\n",
        "\n",
        "b = np.arange(5, dtype='float64') #explicitly specifing the data type\n",
        "print('b is', b)\n",
        "print(b.dtype)\n"
      ],
      "execution_count": null,
      "outputs": []
    },
    {
      "cell_type": "code",
      "metadata": {
        "id": "mB3wRacLWT1j"
      },
      "source": [
        "# Complex data types\n",
        "d = np.array([1+2j, 3+2j])\n",
        "print(d.dtype)\n",
        "\n",
        "# Boolean data types\n",
        "c = np.array([True, False, True])\n",
        "print(c.dtype)"
      ],
      "execution_count": null,
      "outputs": []
    },
    {
      "cell_type": "markdown",
      "metadata": {
        "id": "zRQXKXlCY42i"
      },
      "source": [
        "## III. Slicing and Indexing "
      ]
    },
    {
      "cell_type": "code",
      "metadata": {
        "id": "tRYOTXtLYGtP"
      },
      "source": [
        "# Indexing\n",
        "a = np.diag([1, 2, 3, 4])\n",
        "print(a)\n",
        "print(a[2, 2])\n",
        "a[2, 2] = 5\n",
        "print(a)"
      ],
      "execution_count": null,
      "outputs": []
    },
    {
      "cell_type": "code",
      "metadata": {
        "id": "XpyE8-KSZNLq"
      },
      "source": [
        "# Slicing\n",
        "a = np.arange(10)\n",
        "print(a)\n",
        "a[1:5:2] # [startindex: endindex(not included): step]"
      ],
      "execution_count": null,
      "outputs": []
    },
    {
      "cell_type": "code",
      "metadata": {
        "id": "wdcvqBwxZht0"
      },
      "source": [
        ""
      ],
      "execution_count": null,
      "outputs": []
    }
  ]
}