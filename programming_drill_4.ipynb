{
  "nbformat": 4,
  "nbformat_minor": 0,
  "metadata": {
    "colab": {
      "name": "programming_drill_4.ipynb",
      "provenance": [],
      "include_colab_link": true
    },
    "kernelspec": {
      "name": "python3",
      "display_name": "Python 3"
    }
  },
  "cells": [
    {
      "cell_type": "markdown",
      "metadata": {
        "id": "view-in-github",
        "colab_type": "text"
      },
      "source": [
        "<a href=\"https://colab.research.google.com/github/sonal-jharkharia/Python_Fundamental_Training/blob/main/programming_drill_4.ipynb\" target=\"_parent\"><img src=\"https://colab.research.google.com/assets/colab-badge.svg\" alt=\"Open In Colab\"/></a>"
      ]
    },
    {
      "cell_type": "markdown",
      "metadata": {
        "id": "BhucSdmiEH3C"
      },
      "source": [
        "# Drill #15\n",
        "<img src=\"https://drive.google.com/uc?id=1Vwskl6-_ETS_WPuvCn7fegQ-Hpv1SD5B\" width=\"500\">\n",
        "\n",
        "#### Expected Output\n",
        "<img src=\"https://drive.google.com/uc?id=1bmGzGlbhhrZdA9D23EPls9KcOjXXp1uG\" width=\"250\">"
      ]
    },
    {
      "cell_type": "code",
      "metadata": {
        "id": "L0LavgHPDyn6"
      },
      "source": [
        "### Write your code here"
      ],
      "execution_count": null,
      "outputs": []
    },
    {
      "cell_type": "markdown",
      "metadata": {
        "id": "u3hl7sRKPVKQ"
      },
      "source": [
        "# Drill #16\n",
        "<img src=\"https://drive.google.com/uc?id=1mSC8jIGJbuIxwNteHxtvPR4mYSWUOSN7\" width=\"500\">\n",
        "\n",
        "# Expected Output\n",
        "<img src=\"https://drive.google.com/uc?id=1y4_327qCXAinHKl4DoJGbycg4qD2Gyr5\" width=\"350\">"
      ]
    },
    {
      "cell_type": "code",
      "metadata": {
        "id": "VIxRMdz5Nvc-"
      },
      "source": [
        "### Write your code here"
      ],
      "execution_count": null,
      "outputs": []
    },
    {
      "cell_type": "markdown",
      "metadata": {
        "id": "ewNxbmOYFlXV"
      },
      "source": [
        "#Drill #17\n",
        "<img src=\"https://drive.google.com/uc?id=1t6dJQmKlm4df5NQ5fnsuZgoVRH1HLcC9\" width=\"500\">\n",
        "\n",
        "### Expected Output\n",
        "<img src=\"https://drive.google.com/uc?id=1riilusrqyYw5H7hw4E8cydt79n3voNQ9\" width=\"300\">"
      ]
    },
    {
      "cell_type": "code",
      "metadata": {
        "id": "niQOYJQyE0pS"
      },
      "source": [
        "### Write your code here"
      ],
      "execution_count": null,
      "outputs": []
    },
    {
      "cell_type": "markdown",
      "metadata": {
        "id": "4j9pe1BJV9DE"
      },
      "source": [
        "# Drill #18\n",
        "<img src=\"https://drive.google.com/uc?id=1X_-RceCPkuhOhSqmGbIZy2ZPRUMNyB_C\" width=\"500\">\n",
        "\n",
        "### Expected Output\n",
        "<img src=\"https://drive.google.com/uc?id=1cVEefhJen7DtHq7UUcYoM2QJaI45lWZB\"\n",
        "width=\"300\">\n"
      ]
    },
    {
      "cell_type": "code",
      "metadata": {
        "id": "i-uYdDhARuvF"
      },
      "source": [
        "### Write your code here"
      ],
      "execution_count": null,
      "outputs": []
    },
    {
      "cell_type": "markdown",
      "metadata": {
        "id": "8YaaOk-0eedA"
      },
      "source": [
        "#Drill #19\n",
        "A function object is a value you can assign to a variable or pass as an argument. <br>\n",
        "<img src=\"https://drive.google.com/uc?id=1lxzwS1zLfv_ZRWLlnZhWxhfsPSutLHMi\" width=\"400\">\n",
        "\n",
        "\n",
        "### Expected Output:\n",
        "<img src=\"https://drive.google.com/uc?id=1Z_Jl4HnMxR_jCmA7-j8Q2wSugYdfxL3e\" width=\"100\">"
      ]
    },
    {
      "cell_type": "code",
      "metadata": {
        "id": "o5Gy_oITYZuu"
      },
      "source": [
        "### Write your code here"
      ],
      "execution_count": null,
      "outputs": []
    }
  ]
}