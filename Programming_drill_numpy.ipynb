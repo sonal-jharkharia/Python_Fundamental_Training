{
  "nbformat": 4,
  "nbformat_minor": 0,
  "metadata": {
    "colab": {
      "name": "Programming drill numpy.ipynb",
      "provenance": [],
      "collapsed_sections": [],
      "include_colab_link": true
    },
    "kernelspec": {
      "name": "python3",
      "display_name": "Python 3"
    }
  },
  "cells": [
    {
      "cell_type": "markdown",
      "metadata": {
        "id": "view-in-github",
        "colab_type": "text"
      },
      "source": [
        "<a href=\"https://colab.research.google.com/github/sonal-jharkharia/Python_Fundamental_Training/blob/main/Programming_drill_numpy.ipynb\" target=\"_parent\"><img src=\"https://colab.research.google.com/assets/colab-badge.svg\" alt=\"Open In Colab\"/></a>"
      ]
    },
    {
      "cell_type": "markdown",
      "metadata": {
        "id": "sSXKsacoHIBG"
      },
      "source": [
        "#Drill #29\n",
        "\n",
        "<img src=\"https://drive.google.com/uc?id=109gQ0yPiTdJ6cBQiL1zyKiH2MD5LKTET\" width=\"700\">\n",
        "\n",
        "# Expected Output\n",
        "<img src=\"https://drive.google.com/uc?id=1BhfG7oMzjDH685GbvW2h8b3bKhqkQeSC\" width=\"700\">\n"
      ]
    },
    {
      "cell_type": "code",
      "metadata": {
        "id": "hdlehAyUCXL4"
      },
      "source": [
        "# Write your own code  here"
      ],
      "execution_count": null,
      "outputs": []
    },
    {
      "cell_type": "markdown",
      "metadata": {
        "id": "4F267pLbK3jh"
      },
      "source": [
        "# Drill #30\n",
        "\n",
        "\n",
        "<img src=\"https://drive.google.com/uc?id=1y7J8HlclDc_200W1oYBVtr3l-66B_2hv\" width=\"700\">\n",
        "\n",
        "# Expected Output\n",
        "<img src=\"https://drive.google.com/uc?id=1HPkRafcIsT7vLp8_2rR5blhjblQZJ450\" width=\"600\">"
      ]
    },
    {
      "cell_type": "code",
      "metadata": {
        "id": "zmcSkXYUGK7m"
      },
      "source": [
        "# Write your own code here"
      ],
      "execution_count": null,
      "outputs": []
    },
    {
      "cell_type": "markdown",
      "metadata": {
        "id": "xtQLxgEOeVES"
      },
      "source": [
        "# Drill #31\n",
        "\n",
        "<img src=\"https://drive.google.com/uc?id=1MEhGhXS_OC1ZisPbEGQonYcoadzvlKZZ\" width=\"700\">\n",
        "<img src=\"https://drive.google.com/uc?id=1R24HyNqLMt8j5u3pABKpGlCDnjgUqrX9\" width=\"1000\">\n",
        "\n",
        "\n",
        "# Expected Output\n",
        "<img src=\"https://drive.google.com/uc?id=1eqiocySYtWeWuD7NV8plOjubjg0waTRC\" width=\"700\">"
      ]
    },
    {
      "cell_type": "code",
      "metadata": {
        "id": "2IO8RVDALpWq"
      },
      "source": [
        "# Write your own code here"
      ],
      "execution_count": null,
      "outputs": []
    },
    {
      "cell_type": "markdown",
      "metadata": {
        "id": "nP9COzuBUOnj"
      },
      "source": [
        "##Drill #32\n",
        "<img src=\"https://drive.google.com/uc?id=11LGUssKKIP6RSXx_fnMWMMMxrOLoLQu2\" width=\"800\">\n",
        "\n",
        "###Expected Output\n",
        "<img src=\"https://drive.google.com/uc?id=17R7LrG_YhIIYJKpxKjKsLm22gt4jYtHn\" width=\"600\">\n"
      ]
    },
    {
      "cell_type": "code",
      "metadata": {
        "id": "-mLX2hIHTW2r",
        "colab": {
          "base_uri": "https://localhost:8080/",
          "height": 323
        },
        "outputId": "a2a75081-cf65-45d9-be49-74d45d4200f4"
      },
      "source": [
        ""
      ],
      "execution_count": null,
      "outputs": [
        {
          "output_type": "stream",
          "text": [
            "a1: \n",
            " [[1 2 3]\n",
            " [4 5 6]] \n",
            " a2: \n",
            " [[10 20 30]\n",
            " [40 50 60]]\n",
            "----------------------------------------------------------------------\n",
            "Horizontal stacking: \n",
            " [[ 1  2  3 10 20 30]\n",
            " [ 4  5  6 40 50 60]]\n",
            "Shape of array after horizontal stacking:  (2, 6)\n",
            "----------------------------------------------------------------------\n",
            "Vertical stacking: \n",
            " [[ 1  2  3]\n",
            " [ 4  5  6]\n",
            " [10 20 30]\n",
            " [40 50 60]]\n",
            "Shape of array after vertical stacking:  (4, 3)\n"
          ],
          "name": "stdout"
        }
      ]
    },
    {
      "cell_type": "code",
      "metadata": {
        "id": "_hEFZA4yVHCq"
      },
      "source": [
        ""
      ],
      "execution_count": null,
      "outputs": []
    }
  ]
}