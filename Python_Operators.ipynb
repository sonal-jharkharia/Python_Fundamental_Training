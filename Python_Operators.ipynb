{
  "nbformat": 4,
  "nbformat_minor": 0,
  "metadata": {
    "colab": {
      "name": "Python Operators.ipynb",
      "provenance": [],
      "collapsed_sections": [],
      "include_colab_link": true
    },
    "kernelspec": {
      "name": "python3",
      "display_name": "Python 3"
    }
  },
  "cells": [
    {
      "cell_type": "markdown",
      "metadata": {
        "id": "view-in-github",
        "colab_type": "text"
      },
      "source": [
        "<a href=\"https://colab.research.google.com/github/sonal-jharkharia/Python_Fundamental_Training/blob/main/Python_Operators.ipynb\" target=\"_parent\"><img src=\"https://colab.research.google.com/assets/colab-badge.svg\" alt=\"Open In Colab\"/></a>"
      ]
    },
    {
      "cell_type": "markdown",
      "metadata": {
        "id": "uCIm2OaGNHKq"
      },
      "source": [
        "# Python Operators\n",
        "- Arithmetic operators\n",
        "- Comparison operators\n",
        "- Logical operators\n",
        "- Assignment operators"
      ]
    },
    {
      "cell_type": "markdown",
      "metadata": {
        "id": "uuyC82r9LMlS"
      },
      "source": [
        "# Arithmetic Operators\n",
        "Arithmetic operators are used to perform mathematical operations like addition, subtraction, multiplication etc.<br>\n",
        "      +  ,  -  ,  *  ,  /  ,  %  ,  //  ,  **\n",
        "- Addition (+)\n",
        "- Subtraction (-)\n",
        "- Multiplication (*)\n",
        "- Division (/)\n",
        "- Modulus (%) : Remainder of the division\n",
        "- Floor Division (//) : GIF of the division result\n",
        "- Exponent (**)"
      ]
    },
    {
      "cell_type": "code",
      "metadata": {
        "id": "xNvG4hDZRAz4"
      },
      "source": [
        "# EXAMPLE\n",
        "x = 12\n",
        "y = 2\n",
        "\n",
        "print(x ** y)"
      ],
      "execution_count": null,
      "outputs": []
    },
    {
      "cell_type": "markdown",
      "metadata": {
        "id": "pPpQHzkiZtUz"
      },
      "source": [
        "### Boolean data-type\n",
        "Represents the truth value True and False."
      ]
    },
    {
      "cell_type": "code",
      "metadata": {
        "id": "CobfWjgsZ631"
      },
      "source": [
        "p = False\n",
        "print(type(p))"
      ],
      "execution_count": null,
      "outputs": []
    },
    {
      "cell_type": "markdown",
      "metadata": {
        "id": "dAZp9fdBQDec"
      },
      "source": [
        "# Comparison Operators\n",
        "Used to compare values and returns TRUE or FALSE as per the condition.\n",
        "- Greater than, > \n",
        "- Less than, < \n",
        "- Equal to, == \n",
        "- Not equal to, != \n",
        "- Greater than equal to, >= \n",
        "- Less than equal to, <= "
      ]
    },
    {
      "cell_type": "code",
      "metadata": {
        "id": "3WU7Iy_JQCau"
      },
      "source": [
        "p = 19\n",
        "q = 23\n",
        "print(p != q)"
      ],
      "execution_count": null,
      "outputs": []
    },
    {
      "cell_type": "markdown",
      "metadata": {
        "id": "lOKxXG_RWTSp"
      },
      "source": [
        "# Logical Operators\n",
        "\n",
        "- <strong>and, or, not</strong> operators"
      ]
    },
    {
      "cell_type": "code",
      "metadata": {
        "id": "HW-VKKmONG9i"
      },
      "source": [
        "x = True\n",
        "y = False\n",
        "print(x or y)"
      ],
      "execution_count": null,
      "outputs": []
    },
    {
      "cell_type": "markdown",
      "metadata": {
        "id": "oILZ3aI3YntE"
      },
      "source": [
        "# Assignment Operators\n",
        "\n",
        "Purpose: Assign values to variables.\n",
        "Eg: =,&nbsp;&nbsp; +=,&nbsp;&nbsp; -=,&nbsp;&nbsp; *=,&nbsp;&nbsp; /=,&nbsp;&nbsp; %=,&nbsp;&nbsp; //=,&nbsp;&nbsp; **=,&nbsp;&nbsp;  are assignment operators."
      ]
    },
    {
      "cell_type": "code",
      "metadata": {
        "id": "_k9ggnl3LP9S"
      },
      "source": [
        "b = 12\n",
        "b += 2\n",
        "print(b)"
      ],
      "execution_count": null,
      "outputs": []
    },
    {
      "cell_type": "code",
      "metadata": {
        "id": "XVc1AQZ-0Zuf"
      },
      "source": [
        ""
      ],
      "execution_count": null,
      "outputs": []
    }
  ]
}