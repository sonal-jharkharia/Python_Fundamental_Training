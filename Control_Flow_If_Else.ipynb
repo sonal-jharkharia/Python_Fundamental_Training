{
  "nbformat": 4,
  "nbformat_minor": 0,
  "metadata": {
    "colab": {
      "name": "Control Flow - If Else.ipynb",
      "provenance": [],
      "include_colab_link": true
    },
    "kernelspec": {
      "name": "python3",
      "display_name": "Python 3"
    }
  },
  "cells": [
    {
      "cell_type": "markdown",
      "metadata": {
        "id": "view-in-github",
        "colab_type": "text"
      },
      "source": [
        "<a href=\"https://colab.research.google.com/github/sonal-jharkharia/Python_Fundamental_Training/blob/main/Control_Flow_If_Else.ipynb\" target=\"_parent\"><img src=\"https://colab.research.google.com/assets/colab-badge.svg\" alt=\"Open In Colab\"/></a>"
      ]
    },
    {
      "cell_type": "markdown",
      "metadata": {
        "id": "tWwR47stoEoE"
      },
      "source": [
        "# AGENDA\n",
        "- If Statement\n",
        "- Else Statement\n",
        "- Elif Statement\n",
        "- Nested If Statement\n"
      ]
    },
    {
      "cell_type": "markdown",
      "metadata": {
        "id": "sNdjuMFD2raf"
      },
      "source": [
        "# If Statements\n",
        "- Controlflow diagram of If-statements in Python"
      ]
    },
    {
      "cell_type": "markdown",
      "metadata": {
        "id": "9LaWFDLsuo_c"
      },
      "source": [
        "\n",
        "<img src=\"https://drive.google.com/uc?id=0BwNkduBnePt2S3dfd2xzUkdTVFk\" alt=\"Drawing\" style=\"width: 200px;\"/>"
      ]
    },
    {
      "cell_type": "markdown",
      "metadata": {
        "id": "BM5IBSZG6mkQ"
      },
      "source": [
        "- Program checks if the test expression/condition is True or False.\n",
        "- If True, it will execute the indented statements\n",
        "- If False, it will skip the indented statements without executing them."
      ]
    },
    {
      "cell_type": "code",
      "metadata": {
        "id": "QfJA3dlIof4G",
        "outputId": "2b3ab7b2-8c98-41c4-922a-f91a2a6b5f37",
        "colab": {
          "base_uri": "https://localhost:8080/",
          "height": 54
        }
      },
      "source": [
        "# Example (Is your name correct?)\n",
        "name = 'Gauranga'\n",
        "if name == 'Gauranga':\n",
        "    print('Hey Gauranga')\n",
        "print('end')"
      ],
      "execution_count": null,
      "outputs": [
        {
          "output_type": "stream",
          "text": [
            "Hey Gauranga\n",
            "end\n"
          ],
          "name": "stdout"
        }
      ]
    },
    {
      "cell_type": "markdown",
      "metadata": {
        "id": "htkImEMC7Ae3"
      },
      "source": [
        "# Else Statements\n",
        "- Controlflow diagram of If-Else statements in Python"
      ]
    },
    {
      "cell_type": "markdown",
      "metadata": {
        "id": "v0olxXY47OJJ"
      },
      "source": [
        "\n",
        "\n",
        "<img src=\"https://drive.google.com/uc?id=0BwNkduBnePt2dWFId3BsWjQwZEU\" alt=\"Drawing\" style=\"width: 200px;\"/>"
      ]
    },
    {
      "cell_type": "code",
      "metadata": {
        "id": "fXBtfwu95gsJ",
        "outputId": "9eacd7a0-fc7a-4f24-fa80-c17756a09c83",
        "colab": {
          "base_uri": "https://localhost:8080/",
          "height": 35
        }
      },
      "source": [
        "# Example (Is it raining?)\n",
        "raining = False\n",
        "if raining == True:\n",
        "    print('Take an umbrella')\n",
        "else:\n",
        "    print('Go ahead')"
      ],
      "execution_count": null,
      "outputs": [
        {
          "output_type": "stream",
          "text": [
            "Go ahead\n"
          ],
          "name": "stdout"
        }
      ]
    },
    {
      "cell_type": "markdown",
      "metadata": {
        "id": "D7fACC6083yR"
      },
      "source": [
        "# Elif Statements\n",
        "- Controlflow diagram of Elif statements in Python"
      ]
    },
    {
      "cell_type": "markdown",
      "metadata": {
        "id": "rkKz1yxh-XJi"
      },
      "source": [
        "\n",
        "\n",
        "<img src=\"https://drive.google.com/uc?id=0BwNkduBnePt2dTBMSXMzdHZkam8\" alt=\"Drawing\" style=\"width: 200px;\"/>"
      ]
    },
    {
      "cell_type": "code",
      "metadata": {
        "id": "wgumIUcz-Etm",
        "outputId": "588f9bcb-8cda-41da-8ac5-9760949ec415",
        "colab": {
          "base_uri": "https://localhost:8080/",
          "height": 54
        }
      },
      "source": [
        "#Example (name, age)\n",
        "name = 'Nitai'\n",
        "age = 100\n",
        "if name == 'Gaura':\n",
        "    print('You are not Nitai')\n",
        "elif age < 120:\n",
        "    print('Thats too old')\n",
        "elif age == 100:\n",
        "    print('Thats incredible')\n",
        "else:\n",
        "    print('Leave it')\n",
        "\n",
        "print('end')"
      ],
      "execution_count": null,
      "outputs": [
        {
          "output_type": "stream",
          "text": [
            "Thats too old\n",
            "end\n"
          ],
          "name": "stdout"
        }
      ]
    },
    {
      "cell_type": "markdown",
      "metadata": {
        "id": "rQkwr3PqBxJ9"
      },
      "source": [
        "# Nested if Statements"
      ]
    },
    {
      "cell_type": "code",
      "metadata": {
        "id": "qOlgmJyKAUGI",
        "outputId": "43c037bc-008a-4ff8-8d0a-478498780c41",
        "colab": {
          "base_uri": "https://localhost:8080/",
          "height": 35
        }
      },
      "source": [
        "#Example (finding whether a number is +ve or -ve)\n",
        "\n",
        "num = -10\n",
        "if num >= 0:\n",
        "    if num == 0:\n",
        "        print('zero')\n",
        "    else:\n",
        "        print('positive')\n",
        "else:\n",
        "    print('negative')\n",
        "\n"
      ],
      "execution_count": null,
      "outputs": [
        {
          "output_type": "stream",
          "text": [
            "negative\n"
          ],
          "name": "stdout"
        }
      ]
    },
    {
      "cell_type": "code",
      "metadata": {
        "id": "iyDf3MNMCh0h"
      },
      "source": [
        ""
      ],
      "execution_count": null,
      "outputs": []
    }
  ]
}