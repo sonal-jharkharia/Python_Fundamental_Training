{
  "nbformat": 4,
  "nbformat_minor": 0,
  "metadata": {
    "colab": {
      "name": "programming_drill_3.ipynb",
      "provenance": [],
      "include_colab_link": true
    },
    "kernelspec": {
      "name": "python3",
      "display_name": "Python 3"
    }
  },
  "cells": [
    {
      "cell_type": "markdown",
      "metadata": {
        "id": "view-in-github",
        "colab_type": "text"
      },
      "source": [
        "<a href=\"https://colab.research.google.com/github/sonal-jharkharia/Python_Fundamental_Training/blob/main/programming_drill_3.ipynb\" target=\"_parent\"><img src=\"https://colab.research.google.com/assets/colab-badge.svg\" alt=\"Open In Colab\"/></a>"
      ]
    },
    {
      "cell_type": "markdown",
      "metadata": {
        "id": "8GceV11ItfCq"
      },
      "source": [
        "# Drill #11\n",
        "<img src=\"https://drive.google.com/uc?id=1KziD8gWKHs8aPI0OgJGYkbWisjUdHn6t\" width=\"400\">\n",
        "\n",
        "#### Expected Output\n",
        "<img src=\"https://drive.google.com/uc?id=1O0y1sqSsXI61CeW9ppaHgX4-YuBPGtWR\" width=\"250\">\n"
      ]
    },
    {
      "cell_type": "code",
      "metadata": {
        "id": "AysXk24zCfvQ",
        "outputId": "7d1508be-f89f-4360-a318-1cedd0221a4b",
        "colab": {
          "base_uri": "https://localhost:8080/",
          "height": 68
        }
      },
      "source": [
        "### Write your code here"
      ],
      "execution_count": null,
      "outputs": [
        {
          "output_type": "stream",
          "text": [
            "arg1: Machine Learning, arg2:Data Science\n",
            "arg1: First!\n",
            "I got nothing to print\n"
          ],
          "name": "stdout"
        }
      ]
    },
    {
      "cell_type": "markdown",
      "metadata": {
        "id": "Q43TbTUaugqt"
      },
      "source": [
        "If you encounter errors, ask yourself the following questions:\n",
        " - Did you start your function definition with ```def```?\n",
        " - Does your function name have only characters and ```_``` (underscore) characters?\n",
        " - Did you put an open parenthesis just after the function name?\n",
        " - Did you put your arguments after the parenthesis ( separated by commas?\n",
        " - Did you put a close parenthesis and a colon ```):``` after the arguments?\n",
        " - Did you indent all lines of code you want in the function four spaces? No more, no less\n",
        " - Did you end your function by going back to writing with no indent (also called _dedenting_)\n",
        "\n",
        " When you run (_call_ or _use_) a function, check these things:\n",
        " - Did you call/use/run the function by typing its name correctly?\n",
        " - Did you put the ```(``` character after the name to run it?\n",
        " - Did you put the values you want into the parenthesis separated by commas?\n",
        " - Did you end the function call with a ```)``` character?\n",
        " <br>\n",
        " \n",
        "**Remember** that we mean the same thing when we say _run_, _use_ or _call_ a function \n"
      ]
    },
    {
      "cell_type": "markdown",
      "metadata": {
        "id": "WvVKv43d8g4V"
      },
      "source": [
        "#Drill #12\n",
        "<img src=\"https://drive.google.com/uc?id=1owL5UeOunHSqQ41G8PS-YLb12st1xHaw\" width=\"400\">\n",
        "\n",
        "#### Expected Output\n",
        "<img src=\"https://drive.google.com/uc?id=1ZMI0WbXvMpz2l2NHl2Jqt6ww9ErUJvDE\" width=\"300\">\n",
        "\n"
      ]
    },
    {
      "cell_type": "code",
      "metadata": {
        "id": "o5crIxDPwKL-"
      },
      "source": [
        "#### Write your code here"
      ],
      "execution_count": null,
      "outputs": []
    },
    {
      "cell_type": "markdown",
      "metadata": {
        "id": "am6nY_mJ3yBp"
      },
      "source": [
        "#Drill #13 - Functions within functions\n",
        "<img src=\"https://drive.google.com/uc?id=1amAbIEgZAp-iTYMUxHVo-oT5Z9btjy8P\" width=\"400\">\n",
        "\n",
        "#### Expected Output\n",
        "<img src=\"https://drive.google.com/uc?id=1iNZC4hgLlBJI0jYJHCbEmlVzOFN7iq4m\" width=\"300\">"
      ]
    },
    {
      "cell_type": "code",
      "metadata": {
        "id": "VhpRTLCX11G1",
        "outputId": "0745d716-76d9-45b4-daa5-680ec8274144",
        "colab": {
          "base_uri": "https://localhost:8080/",
          "height": 103
        }
      },
      "source": [
        "### Write your code here"
      ],
      "execution_count": null,
      "outputs": [
        {
          "output_type": "stream",
          "text": [
            "***************Identity Proof***************\n",
            "Name: Hari\n",
            "Age: 16\n",
            "Gender: Male\n",
            "***************Identity Proof***************\n"
          ],
          "name": "stdout"
        }
      ]
    },
    {
      "cell_type": "markdown",
      "metadata": {
        "id": "XFN8Tb1gtNRQ"
      },
      "source": [
        "#Drill #14 - Functions using other functions\n",
        "<img src=\"https://drive.google.com/uc?id=1UC2CAhaFVNtkJDttmFto4QYfMUNABij8\" width=\"400\">\n",
        "\n",
        "<img src=\"https://drive.google.com/uc?id=1ENvVBzjTSZgePRdj6Zs9JPrYFq-kogky\" width=\"250\">"
      ]
    },
    {
      "cell_type": "code",
      "metadata": {
        "id": "nVgUHzIvtqUi"
      },
      "source": [
        "### Write your code here"
      ],
      "execution_count": null,
      "outputs": []
    }
  ]
}