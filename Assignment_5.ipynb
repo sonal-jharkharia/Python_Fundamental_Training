{
  "nbformat": 4,
  "nbformat_minor": 0,
  "metadata": {
    "colab": {
      "name": "Assignment 5.ipynb",
      "provenance": [],
      "collapsed_sections": [],
      "include_colab_link": true
    },
    "kernelspec": {
      "name": "python3",
      "display_name": "Python 3"
    }
  },
  "cells": [
    {
      "cell_type": "markdown",
      "metadata": {
        "id": "view-in-github",
        "colab_type": "text"
      },
      "source": [
        "<a href=\"https://colab.research.google.com/github/sonal-jharkharia/Python_Fundamental_Training/blob/main/Assignment_5.ipynb\" target=\"_parent\"><img src=\"https://colab.research.google.com/assets/colab-badge.svg\" alt=\"Open In Colab\"/></a>"
      ]
    },
    {
      "cell_type": "markdown",
      "metadata": {
        "id": "OEF5yWrV_h41"
      },
      "source": [
        "Use recursion to solve the problems."
      ]
    },
    {
      "cell_type": "markdown",
      "metadata": {
        "id": "Dk2q7qJt_lYY"
      },
      "source": [
        "# Q. Natural Sum\n",
        "Write a function that takes an arguemnt n and computes the sum $1 + 2 + 3 + \\ldots +n$ recursively."
      ]
    },
    {
      "cell_type": "code",
      "metadata": {
        "id": "Ky77jttY_c9A"
      },
      "source": [
        "def natural_sum(n):\n",
        "  ### Write your code here"
      ],
      "execution_count": null,
      "outputs": []
    },
    {
      "cell_type": "code",
      "metadata": {
        "id": "OFPqTvHgAFGF"
      },
      "source": [
        "\"\"\"Test Cases\"\"\"\n",
        "assert natural_sum(1) == 1\n",
        "assert natural_sum(10) == 55\n",
        "print(f\"Test cases passed! {chr(0x1F44D)}\")"
      ],
      "execution_count": null,
      "outputs": []
    },
    {
      "cell_type": "markdown",
      "metadata": {
        "id": "AdmSPaq-_5HJ"
      },
      "source": [
        "#Q. Recursively Min\n",
        "Write a recursive function that finds and returns the minimum element in an array.\n"
      ]
    },
    {
      "cell_type": "code",
      "metadata": {
        "id": "VFHBLosvABK7"
      },
      "source": [
        "def findmin(arr):\n",
        "  ### Write your code here"
      ],
      "execution_count": null,
      "outputs": []
    },
    {
      "cell_type": "code",
      "metadata": {
        "id": "8spUYp8oAc9b"
      },
      "source": [
        "\"\"\"Test Cases\"\"\"\n",
        "assert findmin([2, 3, 2, 4, 7, 8, 9]) == 2\n",
        "assert findmin([1]) == 1\n",
        "print(f\"Test cases passed! {chr(0x1F44D)}\")"
      ],
      "execution_count": null,
      "outputs": []
    },
    {
      "cell_type": "markdown",
      "metadata": {
        "id": "wf1-NubMEUkW"
      },
      "source": [
        "# Q.Recursive Palindrome\n",
        "Write a recursive function that takes a string and returns whether the string is a palindrome or not. (Function should return a bool ```True``` or ```False```)"
      ]
    },
    {
      "cell_type": "code",
      "metadata": {
        "id": "vSfaF9sRBPC-"
      },
      "source": [
        "def isPalindrome(s):\n",
        "  ### Write your code here"
      ],
      "execution_count": null,
      "outputs": []
    },
    {
      "cell_type": "code",
      "metadata": {
        "id": "xiiG88UfBPad"
      },
      "source": [
        "\"\"\"Test Cases\"\"\"\n",
        "assert isPalindrome(\"abbaa\") == False\n",
        "assert isPalindrome(\"Was it A Rat I saw\") == True"
      ],
      "execution_count": null,
      "outputs": []
    },
    {
      "cell_type": "markdown",
      "metadata": {
        "id": "JadE5TmTGNe9"
      },
      "source": [
        "#Q. Change Pi\n",
        "Write a function that takes a string and replaces all occurences of pi with 3.14. This should be done using recursion instead of loops (iteration). "
      ]
    },
    {
      "cell_type": "code",
      "metadata": {
        "id": "dXU0fjjBF2ve"
      },
      "source": [
        "def changePi(s):\n",
        "  ### Write your code here"
      ],
      "execution_count": null,
      "outputs": []
    },
    {
      "cell_type": "code",
      "metadata": {
        "id": "7DRvjjklGmpz"
      },
      "source": [
        "\"\"\"Test Cases\"\"\"\n",
        "assert changePi(\"pixyzpi\") == \"3.14xyz3.14\"\n",
        "assert changePi(\"pixypiabpi\") == \"3.14xy3.14ab3.14\""
      ],
      "execution_count": null,
      "outputs": []
    },
    {
      "cell_type": "markdown",
      "metadata": {
        "id": "GLwJxlAcH9WM"
      },
      "source": [
        "#Q. "
      ]
    }
  ]
}