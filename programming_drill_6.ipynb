{
  "nbformat": 4,
  "nbformat_minor": 0,
  "metadata": {
    "colab": {
      "name": "programming_drill_6.ipynb",
      "provenance": [],
      "collapsed_sections": [],
      "include_colab_link": true
    },
    "kernelspec": {
      "name": "python3",
      "display_name": "Python 3"
    }
  },
  "cells": [
    {
      "cell_type": "markdown",
      "metadata": {
        "id": "view-in-github",
        "colab_type": "text"
      },
      "source": [
        "<a href=\"https://colab.research.google.com/github/sonal-jharkharia/Python_Fundamental_Training/blob/main/programming_drill_6.ipynb\" target=\"_parent\"><img src=\"https://colab.research.google.com/assets/colab-badge.svg\" alt=\"Open In Colab\"/></a>"
      ]
    },
    {
      "cell_type": "markdown",
      "metadata": {
        "id": "rHKozONN38LF"
      },
      "source": [
        "#Drill #23\n",
        "<img src=\"https://drive.google.com/uc?id=169lw1cIPwYqUbpY9SxUwUHJhTKSbJid7\" width=\"700\">\n",
        "\n",
        "#### Expected Output\n",
        "<img src=\"https://drive.google.com/uc?id=1sbTsUAvgn-GEgimm_IEvv_58rLbUxovy\" width=\"400\">"
      ]
    },
    {
      "cell_type": "code",
      "metadata": {
        "id": "NStJlgl62Kp8"
      },
      "source": [
        "#### Write your code here"
      ],
      "execution_count": null,
      "outputs": []
    },
    {
      "cell_type": "markdown",
      "metadata": {
        "id": "3-zjNUyf5lUG"
      },
      "source": [
        "# Drill #24\n",
        "<img src=\"https://drive.google.com/uc?id=18MUCU7iPd68Kyb5tnv1ZlzzYROhNWnqp\" width=\"700\">\n",
        "\n",
        "## Expected Output\n",
        "<img src=\"https://drive.google.com/uc?id=1XnXzP-G-TtmKaynurnwb2F77Biigfh58\" width=\"500\">"
      ]
    },
    {
      "cell_type": "code",
      "metadata": {
        "id": "7qW-3fwv3i7i"
      },
      "source": [
        "## Write your code here"
      ],
      "execution_count": null,
      "outputs": []
    },
    {
      "cell_type": "markdown",
      "metadata": {
        "id": "Qt5uGr2udp3y"
      },
      "source": [
        "#Drill #25\n",
        "<img src=\"https://drive.google.com/uc?id=1hKejI4MsqhSWAvrsQvCwiND9KeROQl_E\" width=\"700\">\n",
        "\n",
        "#### Expected Output\n",
        "<img src=\"https://drive.google.com/uc?id=1yZ-wjCv0ao1NIk5TYSupqOMjbxjoVq7K\" width=\"600\">"
      ]
    },
    {
      "cell_type": "code",
      "metadata": {
        "id": "jpcSDENB6T8B"
      },
      "source": [
        "### Write your code here"
      ],
      "execution_count": null,
      "outputs": []
    }
  ]
}