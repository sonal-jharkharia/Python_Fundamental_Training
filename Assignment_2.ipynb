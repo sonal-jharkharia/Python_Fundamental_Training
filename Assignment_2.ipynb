{
  "nbformat": 4,
  "nbformat_minor": 0,
  "metadata": {
    "colab": {
      "name": "Assignment 2.ipynb",
      "provenance": [],
      "collapsed_sections": [],
      "include_colab_link": true
    },
    "kernelspec": {
      "name": "python3",
      "display_name": "Python 3"
    }
  },
  "cells": [
    {
      "cell_type": "markdown",
      "metadata": {
        "id": "view-in-github",
        "colab_type": "text"
      },
      "source": [
        "<a href=\"https://colab.research.google.com/github/sonal-jharkharia/Python_Fundamental_Training/blob/main/Assignment_2.ipynb\" target=\"_parent\"><img src=\"https://colab.research.google.com/assets/colab-badge.svg\" alt=\"Open In Colab\"/></a>"
      ]
    },
    {
      "cell_type": "markdown",
      "metadata": {
        "id": "85Po9342eFZZ"
      },
      "source": [
        "##Q. Min Min Min\n",
        "Write a program that does the following\n",
        "- Takes 3 numbers as input from the user\n",
        "- Finds minimum of the 3 numbers and prints it"
      ]
    },
    {
      "cell_type": "code",
      "metadata": {
        "id": "wPjz3AvIeYPG"
      },
      "source": [
        "### Write your code here"
      ],
      "execution_count": null,
      "outputs": []
    },
    {
      "cell_type": "markdown",
      "metadata": {
        "id": "7GZnA2DVZnfg"
      },
      "source": [
        "#Q. Proving Fermat\n",
        "Fermat's last theorem says that there are no positive integers $a, b, c$ such that \n",
        "$$\n",
        "a^n + b^n = c^n\n",
        "$$\n",
        "for any values of $n > 2$\n",
        "- Write a function named ```check_fermat``` that takes four parameters - ```a, b, c``` and ```n``` and checks to see if fermat's theorem holds. If ```n > 2``` and it turns out to be true that \n",
        "$$\n",
        "a^n + b^n = c^n\n",
        "$$ the function should print, \"Oh No! Fermat was wrong!\". Otherwise the function should print, \"No that doesn't work\"\n",
        "- Write a program that takes four inputs from the users - ```a, b, c``` and ```n``` and converts them to integers and uses check_fermat to check whether they violate Fermat's theorem."
      ]
    },
    {
      "cell_type": "code",
      "metadata": {
        "id": "5ca0eTDbZZG4"
      },
      "source": [
        "### Write your code here"
      ],
      "execution_count": null,
      "outputs": []
    },
    {
      "cell_type": "markdown",
      "metadata": {
        "id": "htwKREd7bD_g"
      },
      "source": [
        "#Q. Potential triangularity\n",
        "If you are given three sticks, you may or may not be able to arrange them in a triangle. For example,if one of the sticks is 12inches long and the other two are  1inch long, it is clear that you will not be able to get the short sticks to meet in the middle. For any three lengths, there is a simple test to see if it is possible to form a triangle. \n",
        "\n",
        "_If any of the three lengths is greater than the sum of the other two, then you cannot form a triangle. Otherwise, you can. (If the sum of two lengths equals the third, they form what is called a “degenerate” triangle or a straight line segment.)_\n",
        "\n",
        "- Write a function named ```is_triangle``` that takes three integers as arguments, and that prints either \"Yes\" or \"No\", depending on whether you can or cannot form a triangle using sticks of given lengths.\n",
        "- Write a function that prompts the user to input three stick lengths, converts them to integers, and uses is_triangle to check whether sitcks with the given lengths can form a triangle. "
      ]
    },
    {
      "cell_type": "code",
      "metadata": {
        "id": "QI1ZvUzLcWSS"
      },
      "source": [
        "### Write your code here"
      ],
      "execution_count": null,
      "outputs": []
    },
    {
      "cell_type": "markdown",
      "metadata": {
        "id": "KOR45AN7hL4e"
      },
      "source": [
        "#Q. Basic Calculator\n",
        "- Write a function that takes three arguments - ```op1, op2``` and ```operator``` and prints the result ```op1 operator op2```. <br>\n",
        "Eg., for ```op1 = 1```, ```op2 = 2``` and ```operator = '+' ```, the function prints ```3``` as the result (```1 + 2```). <br>\n",
        "Assume that the operator can be one of the following : ```+, -, *, /, %``` <br>\n",
        "- Write a program that takes 3 inputs from the user - two numbers and an operator and uses the calculator function to print the result."
      ]
    },
    {
      "cell_type": "code",
      "metadata": {
        "id": "65ifLibhhM3c"
      },
      "source": [
        "#### Write your code here"
      ],
      "execution_count": null,
      "outputs": []
    }
  ]
}