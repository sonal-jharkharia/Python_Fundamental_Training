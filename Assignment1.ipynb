{
  "nbformat": 4,
  "nbformat_minor": 0,
  "metadata": {
    "colab": {
      "name": "Assignment1.ipynb",
      "provenance": [],
      "include_colab_link": true
    },
    "kernelspec": {
      "name": "python3",
      "display_name": "Python 3"
    }
  },
  "cells": [
    {
      "cell_type": "markdown",
      "metadata": {
        "id": "view-in-github",
        "colab_type": "text"
      },
      "source": [
        "<a href=\"https://colab.research.google.com/github/sonal-jharkharia/Python_Fundamental_Training/blob/main/Assignment1.ipynb\" target=\"_parent\"><img src=\"https://colab.research.google.com/assets/colab-badge.svg\" alt=\"Open In Colab\"/></a>"
      ]
    },
    {
      "cell_type": "markdown",
      "metadata": {
        "id": "xgPa5ZQFiQar"
      },
      "source": [
        "#Q. Interest Compounded\n",
        "The Formula for computing compound interest is as follows - \n",
        "\\begin{equation}\n",
        "A = P(1 + \\frac{r}{n})^{nt}\n",
        "\\end{equation}\n",
        "Write a function that takes as inputs $P, r, n, t$ and prints the total amount that has to be paid."
      ]
    },
    {
      "cell_type": "code",
      "metadata": {
        "id": "-nUYyV1NiuC6"
      },
      "source": [
        "def compound_interest(p, r, n, t):\n",
        "  ### Write your code here"
      ],
      "execution_count": null,
      "outputs": []
    },
    {
      "cell_type": "code",
      "metadata": {
        "id": "Z4CjrFloivnh"
      },
      "source": [
        "### Write code to test your function here"
      ],
      "execution_count": null,
      "outputs": []
    },
    {
      "cell_type": "markdown",
      "metadata": {
        "id": "1ZnXZJJQjK-q"
      },
      "source": [
        "#Q. User power\n",
        "Write a program that takes two inputs from the user $a$ and $b$ and prints the value $a^b$"
      ]
    },
    {
      "cell_type": "code",
      "metadata": {
        "id": "4gSGzXICjY4X"
      },
      "source": [
        "### Write your code here"
      ],
      "execution_count": null,
      "outputs": []
    },
    {
      "cell_type": "markdown",
      "metadata": {
        "id": "ktdZ7wmG_CQc"
      },
      "source": [
        "#Q. GCD and LCM\n",
        "Write a program that takes two inputs from the user $a$ and $b$ and prints their gcd and lcm. (Use functions from math library)\n"
      ]
    },
    {
      "cell_type": "code",
      "metadata": {
        "id": "ANzcJahd_vcL"
      },
      "source": [
        "### Write your code here"
      ],
      "execution_count": null,
      "outputs": []
    },
    {
      "cell_type": "markdown",
      "metadata": {
        "id": "bVDRuUDqNVRb"
      },
      "source": [
        "##Q. Right Justify\n",
        "Python has a function called ```len``` that returns the _length of a string_. <br>\n",
        "Write a function that takes a string ```s``` as a parameter and prints the string with enough leading spaces so that the last letter of the string is in column 70 of the display. <br>\n",
        "```\n",
        "right_justify('Hari')\n",
        "```\n",
        "Expected Output: <br>\n",
        "<img src=\"https://drive.google.com/uc?id=1DaifS8HV5PE7HbUvSbdj_N2Q-t88Wr8Q\" width=\"400\">\n",
        "\n",
        "\n"
      ]
    },
    {
      "cell_type": "code",
      "metadata": {
        "id": "ZXLMeoiuZhL9"
      },
      "source": [
        "def right_justify(s):\n",
        "  ### Write your code here"
      ],
      "execution_count": null,
      "outputs": []
    },
    {
      "cell_type": "code",
      "metadata": {
        "id": "5GGu7KB7i27E"
      },
      "source": [
        "### Write code to test your function here"
      ],
      "execution_count": null,
      "outputs": []
    },
    {
      "cell_type": "markdown",
      "metadata": {
        "id": "KsC-3mHZa8Zh"
      },
      "source": [
        "#Q. Do Anything Twice\n",
        "Refer to Drill 19(programming drill - 4) for this question. <br>\n",
        "- Modify ```do_twice``` so that it takes two arguments - a function object and a value, and calls the function twice, passing value as argument.\n",
        "- Define a new function ```do_four``` that takes a function object and a value and calls the function four times. There should only be two statements in the body of the function.\n"
      ]
    },
    {
      "cell_type": "code",
      "metadata": {
        "id": "3NMeZgbfZt6E"
      },
      "source": [
        "def do_twice(f, v):\n",
        "  \"\"\"\n",
        "  This function calls any function object that is passed to it twice passing v as the argument\n",
        "\n",
        "  Input:\n",
        "    f: function object\n",
        "    v: value\n",
        "  \"\"\"\n",
        "  ### Write your code here"
      ],
      "execution_count": null,
      "outputs": []
    },
    {
      "cell_type": "code",
      "metadata": {
        "id": "TzNdGRxSdi4V"
      },
      "source": [
        "def do_four(f, v):\n",
        "  \"\"\"\n",
        "  This function calls any function object that is passed to it four times passing v as the argument\n",
        "\n",
        "  Input:\n",
        "    f: function object\n",
        "    v: value\n",
        "  \"\"\"\n",
        "  ### Write your code here"
      ],
      "execution_count": null,
      "outputs": []
    },
    {
      "cell_type": "code",
      "metadata": {
        "id": "hbtZYLPqhTJh"
      },
      "source": [
        "### Write some code to test your functions here"
      ],
      "execution_count": null,
      "outputs": []
    },
    {
      "cell_type": "markdown",
      "metadata": {
        "id": "dnK2S6Y6MUnL"
      },
      "source": [
        "#Q. Grid art\n",
        "Write a function that draws a grid like the following: <br>\n",
        "<img src=\"https://drive.google.com/uc?id=1a4-dj7bd4f8aYATscJiMgAkZi087n8Ie\" width=\"200\">"
      ]
    },
    {
      "cell_type": "code",
      "metadata": {
        "id": "muJBmDEdMML0"
      },
      "source": [
        "def draw_grid_art():\n",
        "  ### Write your code here\n",
        "  "
      ],
      "execution_count": null,
      "outputs": []
    },
    {
      "cell_type": "markdown",
      "metadata": {
        "id": "W2Gq1-znmCWh"
      },
      "source": [
        "Write a function that prints a similar grid but with four rows and four columns."
      ]
    },
    {
      "cell_type": "code",
      "metadata": {
        "id": "DFyd554ljoif"
      },
      "source": [
        "def draw_grid_art_four():\n",
        "  ### Write your code here"
      ],
      "execution_count": null,
      "outputs": []
    }
  ]
}