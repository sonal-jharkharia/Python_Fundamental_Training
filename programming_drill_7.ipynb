{
  "nbformat": 4,
  "nbformat_minor": 0,
  "metadata": {
    "colab": {
      "name": "programming_drill_7.ipynb",
      "provenance": [],
      "collapsed_sections": [],
      "include_colab_link": true
    },
    "kernelspec": {
      "name": "python3",
      "display_name": "Python 3"
    }
  },
  "cells": [
    {
      "cell_type": "markdown",
      "metadata": {
        "id": "view-in-github",
        "colab_type": "text"
      },
      "source": [
        "<a href=\"https://colab.research.google.com/github/sonal-jharkharia/Python_Fundamental_Training/blob/main/programming_drill_7.ipynb\" target=\"_parent\"><img src=\"https://colab.research.google.com/assets/colab-badge.svg\" alt=\"Open In Colab\"/></a>"
      ]
    },
    {
      "cell_type": "markdown",
      "metadata": {
        "id": "LwRm_X6wpq5L"
      },
      "source": [
        "#Drill #26\n",
        "<img src=\"https://drive.google.com/uc?id=1y7J8HlclDc_200W1oYBVtr3l-66B_2hv\" width=\"700\">\n",
        "\n",
        "#Expected Output\n",
        "<img src=\"https://drive.google.com/uc?id=1HPkRafcIsT7vLp8_2rR5blhjblQZJ450\" width=\"650\">"
      ]
    },
    {
      "cell_type": "code",
      "metadata": {
        "id": "bGaA_J_Bpapm"
      },
      "source": [
        "### Write your code here"
      ],
      "execution_count": null,
      "outputs": []
    },
    {
      "cell_type": "markdown",
      "metadata": {
        "id": "nk5zDtNMtJSI"
      },
      "source": [
        "# Drill #27\n",
        "<img src=\"https://drive.google.com/uc?id=1eH9ep0AX9B7t6841wqWzgF5Z_3yXfolK\" width=\"700\">\n",
        "\n",
        "# Expected Output\n",
        "<img src=\"https://drive.google.com/uc?id=1s9igAQj39y7jp4u4kWQEYKy_Rh0bStH-\" width=\"400\">"
      ]
    },
    {
      "cell_type": "code",
      "metadata": {
        "id": "ZSXxlsTVOL_D"
      },
      "source": [
        ""
      ],
      "execution_count": null,
      "outputs": []
    },
    {
      "cell_type": "code",
      "metadata": {
        "id": "SfYRKcY-tCOE"
      },
      "source": [
        "### Write your code here"
      ],
      "execution_count": null,
      "outputs": []
    },
    {
      "cell_type": "markdown",
      "metadata": {
        "id": "IYxSb5vAuoQs"
      },
      "source": [
        "# Drill #28\n",
        "<img src=\"https://drive.google.com/uc?id=1uchcSeNEcXeL-a5uRNAte-tQduVcds-X\" width=\"700\"> //\n",
        "<img src=\"https://drive.google.com/uc?id=16hZqIZ4GYCy-OWRVG4h1-M-_x__thrKt\" width=\"700\"> //\n",
        "<img src=\"https://drive.google.com/uc?id=1Ktb4Wf0A82_aD_L0otp74o3lyIjQuXCn\" width=\"700\"> //\n",
        "\n",
        "# Expected Output\n",
        "<img src=\"https://drive.google.com/uc?id=1_GcsstP7aMtm1vAUh4k6AaK5kaWDqO7V\" width=\"400\">"
      ]
    },
    {
      "cell_type": "code",
      "metadata": {
        "id": "6NfW4brctG9D"
      },
      "source": [
        "### Write your code here"
      ],
      "execution_count": null,
      "outputs": []
    }
  ]
}