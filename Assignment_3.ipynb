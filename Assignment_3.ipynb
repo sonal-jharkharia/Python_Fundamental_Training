{
  "nbformat": 4,
  "nbformat_minor": 0,
  "metadata": {
    "colab": {
      "name": "Assignment 3.ipynb",
      "provenance": [],
      "include_colab_link": true
    },
    "kernelspec": {
      "name": "python3",
      "display_name": "Python 3"
    }
  },
  "cells": [
    {
      "cell_type": "markdown",
      "metadata": {
        "id": "view-in-github",
        "colab_type": "text"
      },
      "source": [
        "<a href=\"https://colab.research.google.com/github/sonal-jharkharia/Python_Fundamental_Training/blob/main/Assignment_3.ipynb\" target=\"_parent\"><img src=\"https://colab.research.google.com/assets/colab-badge.svg\" alt=\"Open In Colab\"/></a>"
      ]
    },
    {
      "cell_type": "markdown",
      "metadata": {
        "id": "YCKRJLaYcrOU"
      },
      "source": [
        "#Q. Even Sum\n",
        "Write a function that takes an argument ```n``` and returns sum of all even numbers $2, 4, \\ldots$ upto $n$"
      ]
    },
    {
      "cell_type": "code",
      "metadata": {
        "id": "GbbyVwn_k1YW"
      },
      "source": [
        "## Write your code here"
      ],
      "execution_count": null,
      "outputs": []
    },
    {
      "cell_type": "markdown",
      "metadata": {
        "id": "OmWQSgEbc9Tj"
      },
      "source": [
        "#Q. Intersection\n",
        "Write a function that takes two lists ```l1``` and ```l2``` as arguments and returns a list containing elements that are common to both lists without containing any duplicates."
      ]
    },
    {
      "cell_type": "code",
      "metadata": {
        "id": "jw6MAM8hdTzI"
      },
      "source": [
        "### Write your code here"
      ],
      "execution_count": null,
      "outputs": []
    },
    {
      "cell_type": "markdown",
      "metadata": {
        "id": "yWcvFuaNdSs-"
      },
      "source": [
        "#Q. Primality\n",
        "Write a function that takes a number ```n``` as argument and returns ```True``` if the number is prime and ```False``` otherwise."
      ]
    },
    {
      "cell_type": "code",
      "metadata": {
        "id": "FqZmuu-FdtnR"
      },
      "source": [
        "### Write your code here"
      ],
      "execution_count": null,
      "outputs": []
    },
    {
      "cell_type": "markdown",
      "metadata": {
        "id": "5oNKdGnQdvwb"
      },
      "source": [
        "#Q. Digit Count and Sum\n",
        "Write a function that takes a number ```n``` as input and returns a tuple of two values - the number of digits in that number and sum of digits in that number."
      ]
    },
    {
      "cell_type": "code",
      "metadata": {
        "id": "qXYtFx4ueOpq"
      },
      "source": [
        "### Write your code here"
      ],
      "execution_count": null,
      "outputs": []
    },
    {
      "cell_type": "markdown",
      "metadata": {
        "id": "3gjiztaOeSNg"
      },
      "source": [
        "#Q. Reverse Word Order\n",
        "Write a function that takes as argument a string containing multiple words and returns a string containing the same words in reverse order. \\\\\n",
        "Eg., ```input = 'India is a democracy'; output = 'democracy a is India' ```"
      ]
    },
    {
      "cell_type": "code",
      "metadata": {
        "id": "-R6gbrxceePP"
      },
      "source": [
        "### Write your code here"
      ],
      "execution_count": null,
      "outputs": []
    },
    {
      "cell_type": "markdown",
      "metadata": {
        "id": "MIUKUUWxe-i_"
      },
      "source": [
        "#Q. Palindromes\n",
        "Write a function that takes as argument a string and returns ```True``` if the string is a palindrome and ```False``` otherwise. \\\\\n",
        "A palindrome is a string that reads the same backwards and forwards. \\\\\n",
        "Eg., ```'aabbaa'``` and ```'aacbbcaa'``` are palindromes. ```'aacca'``` and ```'acab'``` are not. \\\\\n",
        "(Ignore whitespace inside strings. For eg., ```'Was It A Rat I Saw'``` is a palindrome)"
      ]
    },
    {
      "cell_type": "code",
      "metadata": {
        "id": "auXCyggugIFp"
      },
      "source": [
        "### Write your code here"
      ],
      "execution_count": null,
      "outputs": []
    },
    {
      "cell_type": "markdown",
      "metadata": {
        "id": "F7faqFS4gob3"
      },
      "source": [
        "#Q. Pascal Triangle\n",
        "Write a function that takes an argument n as input and returns a string containing a pascal triangle of n rows. (https://en.wikipedia.org/wiki/Pascal%27s_triangle)"
      ]
    },
    {
      "cell_type": "code",
      "metadata": {
        "id": "tVTmDoF-howj"
      },
      "source": [
        "### Write your code here"
      ],
      "execution_count": null,
      "outputs": []
    },
    {
      "cell_type": "markdown",
      "metadata": {
        "id": "in3pF1jeiOyV"
      },
      "source": [
        ""
      ]
    }
  ]
}