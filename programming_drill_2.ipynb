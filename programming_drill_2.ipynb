{
  "nbformat": 4,
  "nbformat_minor": 0,
  "metadata": {
    "colab": {
      "name": "programming_drill_2.ipynb",
      "provenance": [],
      "include_colab_link": true
    },
    "kernelspec": {
      "name": "python3",
      "display_name": "Python 3"
    }
  },
  "cells": [
    {
      "cell_type": "markdown",
      "metadata": {
        "id": "view-in-github",
        "colab_type": "text"
      },
      "source": [
        "<a href=\"https://colab.research.google.com/github/sonal-jharkharia/Python_Fundamental_Training/blob/main/programming_drill_2.ipynb\" target=\"_parent\"><img src=\"https://colab.research.google.com/assets/colab-badge.svg\" alt=\"Open In Colab\"/></a>"
      ]
    },
    {
      "cell_type": "markdown",
      "metadata": {
        "id": "_7XILk0twanK"
      },
      "source": [
        "# Drill #5 - More variables and printing\n",
        "- In this drill, you will use f-strings feature of python. <br> They make formatting strings a lot easier than other methods.\n",
        "\n",
        "<img src=\"https://drive.google.com/uc?id=1Z1p8oma05HbgPG47fRwj_qL-Ge6CVeQO\" width = \"400\">\n",
        "\n",
        "#### Expected Output\n",
        "<img src=\"https://drive.google.com/uc?id=1sa_T4RAEdtQg2c31j-_XMq5zcQc3Tii9\" width = \"250\">"
      ]
    },
    {
      "cell_type": "code",
      "metadata": {
        "id": "6CwvAxCL61Oq",
        "outputId": "3817af7c-d5e9-40e6-f12d-fc9db2b3402c",
        "colab": {
          "base_uri": "https://localhost:8080/",
          "height": 120
        }
      },
      "source": [
        "### Write your code here"
      ],
      "execution_count": null,
      "outputs": [
        {
          "output_type": "stream",
          "text": [
            "Let's talk about Hari\n",
            "He's 74 inches tall.\n",
            "He's 70 kgs heavy.\n",
            "Isn't that too heavy?\n",
            "He's got Blue eyes and Black complexion\n",
            "If you add 16, 74 and 70, you get 160\n"
          ],
          "name": "stdout"
        }
      ]
    },
    {
      "cell_type": "markdown",
      "metadata": {
        "id": "ZkX4arpN0HRW"
      },
      "source": [
        "### 5.1\n",
        "Change the names of the variables to remove my from each of them. Try to make the code run again with the new names."
      ]
    },
    {
      "cell_type": "code",
      "metadata": {
        "id": "QUIAf66fyRO1"
      },
      "source": [
        "### Write your code here"
      ],
      "execution_count": null,
      "outputs": []
    },
    {
      "cell_type": "markdown",
      "metadata": {
        "id": "nwKp6MvJ0Zpz"
      },
      "source": [
        "### 5.2\n",
        "Write some variables to convert weight from kilograms to pounds and height from inches to centimeters. Do not just type in the measurements. Use math formulas to convert."
      ]
    },
    {
      "cell_type": "code",
      "metadata": {
        "id": "t0HLo_O10Sg5"
      },
      "source": [
        "### Write your code here"
      ],
      "execution_count": null,
      "outputs": []
    },
    {
      "cell_type": "markdown",
      "metadata": {
        "id": "bbVtD6KU42zA"
      },
      "source": [
        "# Drill #6\n",
        "Observe and learn about a new way of formatting strings using ```format``` <br>\n",
        "<img src=\"https://drive.google.com/uc?id=12cTwehguVS2-hE3ID0VHKKxdkr5WcBho\" width=\"400\">\n",
        "\n",
        "##### Expected Output\n",
        "<img src=\"https://drive.google.com/uc?id=1Ood5DWeL7FBp6R9xr6wbqFvq0rnDEzo-\" width=\"250\">"
      ]
    },
    {
      "cell_type": "code",
      "metadata": {
        "id": "GgkcKOrD88mc",
        "outputId": "3c7ee347-80d8-4cda-b54c-c317d8194fc1",
        "colab": {
          "base_uri": "https://localhost:8080/",
          "height": 120
        }
      },
      "source": [
        "### Write your code here"
      ],
      "execution_count": null,
      "outputs": [
        {
          "output_type": "stream",
          "text": [
            "There are 10 types of people\n",
            "Those who know binary and those who don't.\n",
            "I said: There are 10 types of people\n",
            "I also said: 'Those who know binary and those who don't.'\n",
            "Isn't that joke so funny?!False\n",
            "This is the left side of..a string with a right side.\n"
          ],
          "name": "stdout"
        }
      ]
    },
    {
      "cell_type": "markdown",
      "metadata": {
        "id": "vd-aLAbB-R4p"
      },
      "source": [
        "#### 6.1\n",
        "When something is enclosed in single-quotes (') or double quotes (\"\"), python considers it a string. <br>\n",
        "At how many places in the code is there a string inside another string?"
      ]
    },
    {
      "cell_type": "code",
      "metadata": {
        "id": "DznSUeV79q0U"
      },
      "source": [
        "## Write your answer here"
      ],
      "execution_count": null,
      "outputs": []
    },
    {
      "cell_type": "markdown",
      "metadata": {
        "id": "LEODBvxD-vU6"
      },
      "source": [
        "#### 6.2\n",
        "Observe how adding strings ```w``` and ```e``` using a ```+``` makes them longer. <br>Create two strings of your own and print the result of adding them using a ```+``` "
      ]
    },
    {
      "cell_type": "code",
      "metadata": {
        "id": "4LXkvkEf_FH4"
      },
      "source": [
        "### Write your code here"
      ],
      "execution_count": null,
      "outputs": []
    },
    {
      "cell_type": "markdown",
      "metadata": {
        "id": "-zOVla2RAgeu"
      },
      "source": [
        "# Breaking Code\n",
        "Moving forward, try to break the code that you have written so that it throws an error. <br>\n",
        "Try to experiment and see the different ways in which you can break the code and the different kinds of errors that you can make it throw. <br>\n",
        "Do this for all the drills going forward. This will help you develop your expertise in debugging."
      ]
    },
    {
      "cell_type": "code",
      "metadata": {
        "id": "ciuSV3SjA1HO"
      },
      "source": [
        "### Break the code from the previous drill, to throw an error."
      ],
      "execution_count": null,
      "outputs": []
    },
    {
      "cell_type": "markdown",
      "metadata": {
        "id": "AEnwRvb3BL0O"
      },
      "source": [
        "#Drill #7\n",
        "<img src=\"https://drive.google.com/uc?id=1siwGm9a5ZnTsjBEUjLwxkK1d_DS6hwOB\" width=\"400\">\n",
        "\n",
        "##### Expected Output\n",
        "<img src=\"https://drive.google.com/uc?id=1mZyMsyJcI27AIFiE4OZrJQR9Cqb0LLdq\" width=\"250\">\n"
      ]
    },
    {
      "cell_type": "code",
      "metadata": {
        "id": "8kdNp3ogDr6A"
      },
      "source": [
        "### Write your code here"
      ],
      "execution_count": null,
      "outputs": []
    },
    {
      "cell_type": "markdown",
      "metadata": {
        "id": "bmlXA2j6DW0G"
      },
      "source": [
        "# Drill #8\n",
        "- ```\\n``` (backslash n) inserts a _new line character_ at that point in the string. This lets us create strings that span multiple lines.\n",
        "\n",
        "<img src=\"https://drive.google.com/uc?id=1WuIZPNCGTJ7JvXV0lx1qzgjYBoNKr-Qm\" width=\"400\">\n",
        "\n",
        "#### Expected Output\n",
        "<img src=\"https://drive.google.com/uc?id=12xmND2VZSNFiZloKwtWY3Nn3NMmMCQtv\"\n",
        "width=\"250\"> <br>\n"
      ]
    },
    {
      "cell_type": "code",
      "metadata": {
        "id": "5ttp7Ls-Q9rc"
      },
      "source": [
        "### Write your code here"
      ],
      "execution_count": null,
      "outputs": []
    },
    {
      "cell_type": "markdown",
      "metadata": {
        "id": "7QJuv7BwcJ-T"
      },
      "source": [
        "# Drill #9 - Taking Data from users\n",
        "<img src=\"https://drive.google.com/uc?id=1q8MCFxBlcpUMhpf1pWeihYA_zXDU-Ve0\" width=\"400\">\n",
        "\n",
        "##### Expected Output\n",
        "<img src=\"https://drive.google.com/uc?id=1SV9Fj5L1yt5z6sKXWGZEq1WRr5kFMplt\" width=\"250\">"
      ]
    },
    {
      "cell_type": "code",
      "metadata": {
        "id": "pTiVIY07Rkdb"
      },
      "source": [
        "#### Write your code here"
      ],
      "execution_count": null,
      "outputs": []
    },
    {
      "cell_type": "markdown",
      "metadata": {
        "id": "gga_fUr1IYOm"
      },
      "source": [
        "#### 9.1\n",
        "Write another “form” like this to ask some other questions."
      ]
    },
    {
      "cell_type": "code",
      "metadata": {
        "id": "v6JWSAHeRpeT"
      },
      "source": [
        "#### Write your code here"
      ],
      "execution_count": null,
      "outputs": []
    },
    {
      "cell_type": "markdown",
      "metadata": {
        "id": "_woE1VsCLEz3"
      },
      "source": [
        "#Drill #10 - Taking input with prompts\n",
        "<img src=\"https://drive.google.com/uc?id=1CudaeeHzmT22bPqgtvnPUcPnzF_0tqVY\" width=\"400\">\n",
        "\n",
        "##### Expected Output <br>\n",
        "<img src=\"https://drive.google.com/uc?id=1oNKn5PsPDOlVmvKN5WZU8NgJwErrPHT_\" width=\"300\">\n",
        "\n"
      ]
    },
    {
      "cell_type": "code",
      "metadata": {
        "id": "gGc9vU6qM17w"
      },
      "source": [
        "### Write your code here."
      ],
      "execution_count": null,
      "outputs": []
    }
  ]
}