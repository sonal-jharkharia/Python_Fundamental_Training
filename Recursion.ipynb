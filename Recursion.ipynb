{
  "nbformat": 4,
  "nbformat_minor": 0,
  "metadata": {
    "colab": {
      "name": "Recursion.ipynb",
      "provenance": [],
      "include_colab_link": true
    },
    "kernelspec": {
      "name": "python3",
      "display_name": "Python 3"
    }
  },
  "cells": [
    {
      "cell_type": "markdown",
      "metadata": {
        "id": "view-in-github",
        "colab_type": "text"
      },
      "source": [
        "<a href=\"https://colab.research.google.com/github/sonal-jharkharia/Python_Fundamental_Training/blob/main/Recursion.ipynb\" target=\"_parent\"><img src=\"https://colab.research.google.com/assets/colab-badge.svg\" alt=\"Open In Colab\"/></a>"
      ]
    },
    {
      "cell_type": "code",
      "metadata": {
        "id": "Ioc5TXuE0Yaa",
        "outputId": "1260ff6d-0c9a-4bd0-88c3-4f4612ddb837",
        "colab": {
          "base_uri": "https://localhost:8080/",
          "height": 321
        }
      },
      "source": [
        "## Youtube video lesson\n",
        "\n",
        "from IPython.display import YouTubeVideo\n",
        "YouTubeVideo('IhbRQZXdMeE')"
      ],
      "execution_count": null,
      "outputs": [
        {
          "output_type": "execute_result",
          "data": {
            "text/html": [
              "\n",
              "        <iframe\n",
              "            width=\"400\"\n",
              "            height=\"300\"\n",
              "            src=\"https://www.youtube.com/embed/IhbRQZXdMeE\"\n",
              "            frameborder=\"0\"\n",
              "            allowfullscreen\n",
              "        ></iframe>\n",
              "        "
            ],
            "text/plain": [
              "<IPython.lib.display.YouTubeVideo at 0x7f0ab123e160>"
            ]
          },
          "metadata": {
            "tags": []
          },
          "execution_count": 10
        }
      ]
    },
    {
      "cell_type": "markdown",
      "metadata": {
        "id": "eWTwg9kCW2Zu"
      },
      "source": [
        "# Recursive Functions\n",
        "A function calling itself.<br>\n",
        "Calling the same function inside a function.\n",
        "\n",
        "### Merits\n",
        "- Makes the code look cleaner\n",
        "- Breaks complex task into simpler sub-problems\n",
        "- Best for sequence generation\n",
        "\n",
        "### De-merits\n",
        "- Take up a lot of memory and time\n",
        "- Hard to debug\n",
        "- Logic is not so straight forward"
      ]
    },
    {
      "cell_type": "code",
      "metadata": {
        "id": "aEubWxPFW5Ca"
      },
      "source": [
        "# Example (FACTORIAL)\n",
        "\n",
        "def fact(num):\n",
        "    \"\"\"\n",
        "    A function that computes the factorial of a given number.\n",
        "    Inputs:\n",
        "      num: A number whose factorial is computed\n",
        "    Outputs:\n",
        "      return: Factorial Value of the input num\n",
        "    \"\"\"\n",
        "    # CODE\n",
        "    if num == 1:\n",
        "        return 1\n",
        "    else:\n",
        "        return (num * fact(num-1))"
      ],
      "execution_count": null,
      "outputs": []
    },
    {
      "cell_type": "code",
      "metadata": {
        "id": "mg4LEsRtXO_0",
        "outputId": "e068d7e3-3971-45c0-ac7c-848e591dd471",
        "colab": {
          "base_uri": "https://localhost:8080/",
          "height": 34
        }
      },
      "source": [
        "num = 6\n",
        "print('Factorial of {0} is {1}'.format(num, fact(num)))"
      ],
      "execution_count": null,
      "outputs": [
        {
          "output_type": "stream",
          "text": [
            "Factorial of 6 is 720\n"
          ],
          "name": "stdout"
        }
      ]
    },
    {
      "cell_type": "markdown",
      "metadata": {
        "id": "YKzNxxikfJTe"
      },
      "source": [
        "## Working of Recursion\n",
        "\n",
        "<img src=\"https://drive.google.com/uc?id=1gxaBowHwzQqpLxrrEg_Ste3B9B7L42YN\" alt=\"Drawing\" style=\"width: 200px;\"/>"
      ]
    },
    {
      "cell_type": "code",
      "metadata": {
        "id": "zTBC6h8eYOji",
        "outputId": "3e8762e8-e5f3-4591-e951-bedc6305a943",
        "colab": {
          "base_uri": "https://localhost:8080/",
          "height": 208
        }
      },
      "source": [
        "# Example (FIBONACCI  SEQUENCE)\n",
        "\n",
        "def fibo(num):\n",
        "    \"\"\"\n",
        "    A function with recursion to get fibonacci sequence\n",
        "    \"\"\"\n",
        "    if num <= 1:\n",
        "        return num\n",
        "    else:\n",
        "        return fibo(num-1) + fibo(num-2)\n",
        "\n",
        "num_terms = 10\n",
        "print(\"Fibonacci Sequence\")\n",
        "for num in range(num_terms):\n",
        "    print(fibo(num))"
      ],
      "execution_count": null,
      "outputs": [
        {
          "output_type": "stream",
          "text": [
            "Fibonacci Sequence\n",
            "0\n",
            "1\n",
            "1\n",
            "2\n",
            "3\n",
            "5\n",
            "8\n",
            "13\n",
            "21\n",
            "34\n"
          ],
          "name": "stdout"
        }
      ]
    },
    {
      "cell_type": "code",
      "metadata": {
        "id": "pYrcRfM4ZmRF"
      },
      "source": [
        ""
      ],
      "execution_count": null,
      "outputs": []
    }
  ]
}