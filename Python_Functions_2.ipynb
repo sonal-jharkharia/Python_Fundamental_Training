{
  "nbformat": 4,
  "nbformat_minor": 0,
  "metadata": {
    "colab": {
      "name": "Python - Functions 2.ipynb",
      "provenance": [],
      "include_colab_link": true
    },
    "kernelspec": {
      "name": "python3",
      "display_name": "Python 3"
    }
  },
  "cells": [
    {
      "cell_type": "markdown",
      "metadata": {
        "id": "view-in-github",
        "colab_type": "text"
      },
      "source": [
        "<a href=\"https://colab.research.google.com/github/sonal-jharkharia/Python_Fundamental_Training/blob/main/Python_Functions_2.ipynb\" target=\"_parent\"><img src=\"https://colab.research.google.com/assets/colab-badge.svg\" alt=\"Open In Colab\"/></a>"
      ]
    },
    {
      "cell_type": "markdown",
      "metadata": {
        "id": "_ApoYgORyqsB"
      },
      "source": [
        "#### Type Conversion Functions\n",
        "- Built-in functions in python to convert data from one type to another"
      ]
    },
    {
      "cell_type": "code",
      "metadata": {
        "id": "k25_Uf9kyOQS",
        "colab": {
          "base_uri": "https://localhost:8080/",
          "height": 51
        },
        "outputId": "b80eaab9-2cd8-44b5-dc40-b69a9d7e1072"
      },
      "source": [
        "print(type(3))\n",
        "x = 4.0\n",
        "print(type(x))"
      ],
      "execution_count": null,
      "outputs": [
        {
          "output_type": "stream",
          "text": [
            "<class 'int'>\n",
            "<class 'float'>\n"
          ],
          "name": "stdout"
        }
      ]
    },
    {
      "cell_type": "code",
      "metadata": {
        "id": "tITNH2GtDieq",
        "colab": {
          "base_uri": "https://localhost:8080/",
          "height": 68
        },
        "outputId": "55def106-8261-4fb0-c7d7-615d6295899a"
      },
      "source": [
        "x = 3\n",
        "y = float(x)\n",
        "z = int(y)\n",
        "print(type(x))\n",
        "print(type(y))\n",
        "print(type(z))"
      ],
      "execution_count": null,
      "outputs": [
        {
          "output_type": "stream",
          "text": [
            "<class 'int'>\n",
            "<class 'float'>\n",
            "<class 'int'>\n"
          ],
          "name": "stdout"
        }
      ]
    },
    {
      "cell_type": "code",
      "metadata": {
        "id": "0mwQw-hMD7qT",
        "colab": {
          "base_uri": "https://localhost:8080/",
          "height": 51
        },
        "outputId": "d2da39e1-45ac-467f-8a89-b911896f2200"
      },
      "source": [
        "a = str(x)\n",
        "print(type(a))\n",
        "b = int(a)\n",
        "print(type(b))\n"
      ],
      "execution_count": null,
      "outputs": [
        {
          "output_type": "stream",
          "text": [
            "<class 'str'>\n",
            "<class 'int'>\n"
          ],
          "name": "stdout"
        }
      ]
    },
    {
      "cell_type": "code",
      "metadata": {
        "id": "YXyWoEDzENgu",
        "colab": {
          "base_uri": "https://localhost:8080/",
          "height": 68
        },
        "outputId": "3bd8910a-6226-453b-d012-083eddcf0f5c"
      },
      "source": [
        "s = int(input('Enter a number:'))\n",
        "t = int(input('Enter another number:'))\n",
        "### The result of input function is always a value of type str\n",
        "print(s + t)"
      ],
      "execution_count": null,
      "outputs": [
        {
          "output_type": "stream",
          "text": [
            "Enter a number:12\n",
            "Enter another number:13\n",
            "25\n"
          ],
          "name": "stdout"
        }
      ]
    },
    {
      "cell_type": "code",
      "metadata": {
        "id": "BwKGsKlS05k5",
        "outputId": "544ef8e3-644d-4509-feb3-c6a707d55dc0",
        "colab": {
          "base_uri": "https://localhost:8080/",
          "height": 51
        }
      },
      "source": [
        "import math\n",
        "degrees = 45\n",
        "radians = degrees/360.0 * 2 * math.pi\n",
        "\n",
        "sin_value = math.sin(radians)\n",
        "print(f'sin_value: {sin_value}')\n",
        "\n",
        "## Compare it to its actual value\n",
        "actual_value = 1/math.sqrt(2)\n",
        "print(f'actual_value:{actual_value}')"
      ],
      "execution_count": null,
      "outputs": [
        {
          "output_type": "stream",
          "text": [
            "sin_value: 0.7071067811865475\n",
            "actual_value:0.7071067811865475\n"
          ],
          "name": "stdout"
        }
      ]
    },
    {
      "cell_type": "markdown",
      "metadata": {
        "id": "HzPkzV3X1pox"
      },
      "source": [
        "#### Composition\n",
        "You can call one function from within another. This ability is called composition."
      ]
    },
    {
      "cell_type": "code",
      "metadata": {
        "id": "CTjUBP7Z1EkW",
        "outputId": "243276c0-b5c2-429c-c03a-be3549d7220f",
        "colab": {
          "base_uri": "https://localhost:8080/",
          "height": 51
        }
      },
      "source": [
        "x1 = math.sin(degrees/360.0 * 2 * math.pi)\n",
        "print(x1)\n",
        "x2 = math.exp(math.log(x1 + 1))\n",
        "print(x2)"
      ],
      "execution_count": null,
      "outputs": [
        {
          "output_type": "stream",
          "text": [
            "0.7071067811865475\n",
            "1.7071067811865475\n"
          ],
          "name": "stdout"
        }
      ]
    },
    {
      "cell_type": "markdown",
      "metadata": {
        "id": "bVucQAO43O6c"
      },
      "source": [
        "#### Flow of execution\n",
        "- A function has to be defined before its first use.\n",
        "- Deﬁning a function creates a variable with the same name.\n",
        "- Statements inside a function are not executed until the function is called.\n",
        "- A function call is like a detour in the ﬂow of execution. \n",
        "- Instead of going to the next statement, the ﬂow jumps to the body of the function, executes all the statements there, and then comes back to pick up where it left off. \n",
        "- This can get complicated to visualize because functions can call other functions.\n",
        "- When you read a program, you don’t always want to read from top to bottom. Sometimes it makes more sense if you follow the ﬂow of execution.\n"
      ]
    },
    {
      "cell_type": "code",
      "metadata": {
        "id": "U08gn9TIMcu7"
      },
      "source": [
        "def add(x, y):\n",
        "  ## x, y are parameters of add\n",
        "  sum_ = x + y\n",
        "  print(sum_)"
      ],
      "execution_count": null,
      "outputs": []
    },
    {
      "cell_type": "code",
      "metadata": {
        "id": "eQq0Nx9dM1TY",
        "colab": {
          "base_uri": "https://localhost:8080/",
          "height": 34
        },
        "outputId": "e11d09f8-052c-4ba9-c668-00a07f0167f3"
      },
      "source": [
        "y = add\n",
        "type(y)\n",
        "y(2, 3)"
      ],
      "execution_count": null,
      "outputs": [
        {
          "output_type": "stream",
          "text": [
            "5\n"
          ],
          "name": "stdout"
        }
      ]
    },
    {
      "cell_type": "code",
      "metadata": {
        "id": "RglgYVcuMdTp",
        "colab": {
          "base_uri": "https://localhost:8080/",
          "height": 34
        },
        "outputId": "004d2460-aa87-451e-beb1-3070cf32bf46"
      },
      "source": [
        "a = 2\n",
        "b = 4\n",
        "add(a, b) # a, b are arguments to function add\n",
        "print(a*b)"
      ],
      "execution_count": null,
      "outputs": [
        {
          "output_type": "stream",
          "text": [
            "5\n"
          ],
          "name": "stdout"
        }
      ]
    },
    {
      "cell_type": "code",
      "metadata": {
        "id": "U4VR1wqG3Op6",
        "outputId": "5c11d242-41d7-452d-fe65-34d212becdee",
        "colab": {
          "base_uri": "https://localhost:8080/",
          "height": 34
        }
      },
      "source": [
        "print(print_lyrics) ## Value is a function object which has type 'function'"
      ],
      "execution_count": null,
      "outputs": [
        {
          "output_type": "stream",
          "text": [
            "<function print_lyrics at 0x7f155501d8c8>\n"
          ],
          "name": "stdout"
        }
      ]
    },
    {
      "cell_type": "markdown",
      "metadata": {
        "id": "hdISixZDHmIw"
      },
      "source": [
        "#### Arguments and Parameters\n",
        "- Values that are passed to a function are called arguments\n",
        "- Arguments are assigned to parameters inside the function body\n",
        "- Variables and parameters are local"
      ]
    },
    {
      "cell_type": "code",
      "metadata": {
        "id": "OfWUJ2iRHxUL"
      },
      "source": [
        ""
      ],
      "execution_count": null,
      "outputs": []
    },
    {
      "cell_type": "markdown",
      "metadata": {
        "id": "-4CEL0AMIyiw"
      },
      "source": [
        "#### Fruitful functions and Void functions\n",
        "- Some functions yield or ```return``` results. These are fruitful functions\n",
        "- Other functions perform some action but don't return a value. They are called ```void functions```\n",
        "- If you call a fruitful function by itself, the value is lost forever!\n",
        "- Void functions might display something on the screen or have some effect but they don't return a value. If you try to assign the result to a variable, you get a special value called ```None```\n",
        "- The value ```None``` is not the same as the string ```'None'```"
      ]
    },
    {
      "cell_type": "code",
      "metadata": {
        "id": "Z0TRuCBSJ3fw",
        "colab": {
          "base_uri": "https://localhost:8080/",
          "height": 51
        },
        "outputId": "0771ef5a-2456-4c4c-b01d-386286aebf27"
      },
      "source": [
        "def add_fruitful(x, y):\n",
        "  return x+y\n",
        "\n",
        "def add_void(x, y):\n",
        "  print(x+y)\n",
        "\n",
        "add_fruitful(2, 3)\n",
        "a = add_fruitful(2, 3)\n",
        "b = add_void(2, 3)\n",
        "print(f'Value of a is {a}, b is {b}')"
      ],
      "execution_count": null,
      "outputs": [
        {
          "output_type": "stream",
          "text": [
            "5\n",
            "Value of a is 5, b is None\n"
          ],
          "name": "stdout"
        }
      ]
    },
    {
      "cell_type": "markdown",
      "metadata": {
        "id": "LylnmAI-46i4"
      },
      "source": [
        "#### Importing with from\n",
        "- You can import modules using ```import``` keyword\n",
        "- If you import ```math```, you get a module object named math. <br>\n",
        "The module object contains constants like ```pi``` and functions like ```sin``` and ```exp```\n",
        "- As an alternative, you can import an object from a module like this:\n",
        "```\n",
        "  from math import pi\n",
        "```\n",
        "```\n",
        "from math import *\n",
        "```\n",
        "- Advantage of importing everything from a module is that code can be more concise, but disadvantage is conflict between names defined in different modules"
      ]
    },
    {
      "cell_type": "code",
      "metadata": {
        "id": "wALKY_MJQjNf",
        "colab": {
          "base_uri": "https://localhost:8080/",
          "height": 216
        },
        "outputId": "3f42124c-7037-4a71-a984-81ccc5aa53fb"
      },
      "source": [
        "import math\n",
        "print(math.pi)\n",
        "print(pi)"
      ],
      "execution_count": null,
      "outputs": [
        {
          "output_type": "stream",
          "text": [
            "3.141592653589793\n"
          ],
          "name": "stdout"
        },
        {
          "output_type": "error",
          "ename": "NameError",
          "evalue": "ignored",
          "traceback": [
            "\u001b[0;31m---------------------------------------------------------------------------\u001b[0m",
            "\u001b[0;31mNameError\u001b[0m                                 Traceback (most recent call last)",
            "\u001b[0;32m<ipython-input-27-19b9a9db8a2c>\u001b[0m in \u001b[0;36m<module>\u001b[0;34m()\u001b[0m\n\u001b[1;32m      1\u001b[0m \u001b[0;32mimport\u001b[0m \u001b[0mmath\u001b[0m\u001b[0;34m\u001b[0m\u001b[0;34m\u001b[0m\u001b[0m\n\u001b[1;32m      2\u001b[0m \u001b[0mprint\u001b[0m\u001b[0;34m(\u001b[0m\u001b[0mmath\u001b[0m\u001b[0;34m.\u001b[0m\u001b[0mpi\u001b[0m\u001b[0;34m)\u001b[0m\u001b[0;34m\u001b[0m\u001b[0;34m\u001b[0m\u001b[0m\n\u001b[0;32m----> 3\u001b[0;31m \u001b[0mprint\u001b[0m\u001b[0;34m(\u001b[0m\u001b[0mpi\u001b[0m\u001b[0;34m)\u001b[0m\u001b[0;34m\u001b[0m\u001b[0;34m\u001b[0m\u001b[0m\n\u001b[0m",
            "\u001b[0;31mNameError\u001b[0m: name 'pi' is not defined"
          ]
        }
      ]
    },
    {
      "cell_type": "code",
      "metadata": {
        "id": "P3WPjrYTPFhR",
        "colab": {
          "base_uri": "https://localhost:8080/",
          "height": 34
        },
        "outputId": "0b3b5bf5-4223-4eb2-cf9e-4ee712c44558"
      },
      "source": [
        "from math import pi\n",
        "print(pi)"
      ],
      "execution_count": null,
      "outputs": [
        {
          "output_type": "stream",
          "text": [
            "3.141592653589793\n"
          ],
          "name": "stdout"
        }
      ]
    },
    {
      "cell_type": "code",
      "metadata": {
        "id": "vofIVRTePJiu",
        "colab": {
          "base_uri": "https://localhost:8080/",
          "height": 68
        },
        "outputId": "aa0b0662-9f7b-4c39-808b-8891d189cad8"
      },
      "source": [
        "from math import *\n",
        "print(pi)\n",
        "print(e)\n",
        "print(sin(2*pi))"
      ],
      "execution_count": null,
      "outputs": [
        {
          "output_type": "stream",
          "text": [
            "3.141592653589793\n",
            "2.718281828459045\n",
            "-2.4492935982947064e-16\n"
          ],
          "name": "stdout"
        }
      ]
    },
    {
      "cell_type": "code",
      "metadata": {
        "id": "rPBoAhr-PV-L"
      },
      "source": [
        ""
      ],
      "execution_count": null,
      "outputs": []
    }
  ]
}