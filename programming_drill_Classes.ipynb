{
  "nbformat": 4,
  "nbformat_minor": 0,
  "metadata": {
    "colab": {
      "name": "programming_drill_Classes.ipynb",
      "provenance": [],
      "collapsed_sections": [],
      "include_colab_link": true
    },
    "kernelspec": {
      "name": "python3",
      "display_name": "Python 3"
    }
  },
  "cells": [
    {
      "cell_type": "markdown",
      "metadata": {
        "id": "view-in-github",
        "colab_type": "text"
      },
      "source": [
        "<a href=\"https://colab.research.google.com/github/sonal-jharkharia/Python_Fundamental_Training/blob/main/programming_drill_Classes.ipynb\" target=\"_parent\"><img src=\"https://colab.research.google.com/assets/colab-badge.svg\" alt=\"Open In Colab\"/></a>"
      ]
    },
    {
      "cell_type": "markdown",
      "metadata": {
        "id": "8noiUxzmrYXj"
      },
      "source": [
        "Classes are used to define User-Defined types. That means you can define your own types such as ```List``` or ```Dictionary``` but with different methods and for different purposes. <br><br>\n",
        "As an example let us define a type called ```Point``` to define points in 2d space. <br><br>\n",
        "There are several ways we might represent points in Python:\n",
        "  - We could store the coordinates separately in two variables, x and y.\n",
        "  - We could store the coordinates as elements in a list or tuple\n",
        "  - We could create a new type to represent points as objects.\n",
        "  <br>\n",
        "<img src = \"https://drive.google.com/uc?id=1ZIOM2UXvwFJxueSjspWQbVC9OmsflQ_q\">\n",
        "\n",
        "\n",
        "####Expected Output\n",
        "<img src=\"https://drive.google.com/uc?id=1VBNEMl-E5wrnGnVrOKVHBkc_N14lzr9B\">"
      ]
    },
    {
      "cell_type": "code",
      "metadata": {
        "id": "826QNFWiq26v"
      },
      "source": [
        "### Write your code here"
      ],
      "execution_count": null,
      "outputs": []
    },
    {
      "cell_type": "markdown",
      "metadata": {
        "id": "JGqaZo-nt1_8"
      },
      "source": [
        "### Attributes\n",
        "\n",
        "<img src=\"https://drive.google.com/uc?id=1YIhMXlP730r8wpX7gjztG1Asy5dI1X_T\">\n",
        "\n",
        "#### Expected Output\n",
        "<img src=\"https://drive.google.com/uc?id=1ECrkgHvXNcI-31K6RjQ0ihxc5WEBv04W\">"
      ]
    },
    {
      "cell_type": "code",
      "metadata": {
        "id": "xguZiCussswo"
      },
      "source": [
        "### Write your code here"
      ],
      "execution_count": null,
      "outputs": []
    },
    {
      "cell_type": "markdown",
      "metadata": {
        "id": "07WaK7q12nml"
      },
      "source": [
        "### Rectangles\n",
        "Sometimes it is obvious what the attributes of an object should be. But other times it is not so. <br>\n",
        "For eg., suppose we have to create a class to represent Rectangles. What attributes would you use to specify the location and size of a rectangle? <br>Ignore angle for simplicity, assume rectangle is either horizontal or vertical.\n",
        "\n",
        "There are two possible representations we can use :\n",
        "- You could specify one corner of the rectangle (or the center), the width, and the height\n",
        "- You could specify two opposing corners\n",
        "\n",
        "It is not obvious which representation is better. So let us use the first one.\n",
        "\n",
        "<img src=\"https://drive.google.com/uc?id=1toy-zCkN5WWVVwdZ9Zji1VbSO9yr63jI\">\n",
        "\n",
        "<br>\n",
        "\n",
        "<img src=\"https://drive.google.com/uc?id=1emAtDb60jsjfQYXMQbZsz2SkBYE0CtaJ\">\n",
        "\n",
        "#### Expected Output\n",
        "<img src=\"https://drive.google.com/uc?id=1N88as4AOJDO5O6zsfKwNU08s3a-zVm0g\">\n",
        "\n"
      ]
    },
    {
      "cell_type": "code",
      "metadata": {
        "id": "1qkp-TiptGN3"
      },
      "source": [
        "### Write your code here"
      ],
      "execution_count": null,
      "outputs": []
    },
    {
      "cell_type": "markdown",
      "metadata": {
        "id": "HKhTtm4FEvIb"
      },
      "source": [
        "### Methods\n",
        "Methods are functions with which you can interact with the object. <br>\n",
        "\n",
        "```__init__``` is a special method used to initialize data attributes <br>\n",
        "Python automatically calls this method each time a new object of a class is created. <br>\n",
        "\n",
        "<img src=\"https://drive.google.com/uc?id=1uuTw_Vsx96c5LQd7E2we8ioiDdKTxv12\">\n",
        "\n",
        "<br>\n",
        "\n",
        "#### Expected Output\n",
        "<img src=\"https://drive.google.com/uc?id=1xJEjoruPt59zYZrOu0wWyn_eKgk23_6X\">"
      ]
    },
    {
      "cell_type": "code",
      "metadata": {
        "id": "G5yYtL6I-noY"
      },
      "source": [
        "### Write your code here\n"
      ],
      "execution_count": null,
      "outputs": []
    },
    {
      "cell_type": "markdown",
      "metadata": {
        "id": "yCGh5q32SGlN"
      },
      "source": [
        "<img src=\"https://drive.google.com/uc?id=1AVdWZXl0cCVao8CbQbw-rviL_4CLa4H5\">\n",
        "\n",
        "<br>\n",
        "\n",
        "#### Expected Output:\n",
        "<img src=\"https://drive.google.com/uc?id=1eozKCGTXkmX75bF1Qyuk2BzhjakehiDF\">\n",
        "\n"
      ]
    },
    {
      "cell_type": "code",
      "metadata": {
        "id": "uejNE3hXHW6J"
      },
      "source": [
        "### Write your code here"
      ],
      "execution_count": null,
      "outputs": []
    },
    {
      "cell_type": "markdown",
      "metadata": {
        "id": "fDmnamWmSeDn"
      },
      "source": [
        "### Printing objects\n",
        "<img src = \"https://drive.google.com/uc?id=16t6JXwAsr4yOnnhlUE5t_AvtMTzzuAwj\">\n",
        "\n",
        "#### Expected Output\n",
        "<img src = \"https://drive.google.com/uc?id=1pPwWRSlI1G3bDpRuH4ln9mJALauwUye4\">"
      ]
    },
    {
      "cell_type": "code",
      "metadata": {
        "id": "MRNQbfMLHYwk"
      },
      "source": [
        "### Write your code here"
      ],
      "execution_count": null,
      "outputs": []
    },
    {
      "cell_type": "markdown",
      "metadata": {
        "id": "bulvCBOpS8NR"
      },
      "source": [
        "<img src=\"https://drive.google.com/uc?id=1FQjC5LAj0YSO-RyRhE3A5FmPF3jVO_Tw\">\n",
        "\n",
        "### Expected Output:\n",
        "<img src=\"https://drive.google.com/uc?id=1JC62RYWl9EvpdQaOR0UrMM2CW3mZZSh6\">"
      ]
    },
    {
      "cell_type": "code",
      "metadata": {
        "id": "KsdcDv3nKGWn"
      },
      "source": [
        "### Write your code here"
      ],
      "execution_count": null,
      "outputs": []
    }
  ]
}