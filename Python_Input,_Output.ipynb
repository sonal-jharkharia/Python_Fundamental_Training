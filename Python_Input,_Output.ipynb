{
  "nbformat": 4,
  "nbformat_minor": 0,
  "metadata": {
    "colab": {
      "name": "Python - Input, Output.ipynb",
      "provenance": [],
      "collapsed_sections": [],
      "include_colab_link": true
    },
    "kernelspec": {
      "name": "python3",
      "display_name": "Python 3"
    }
  },
  "cells": [
    {
      "cell_type": "markdown",
      "metadata": {
        "id": "view-in-github",
        "colab_type": "text"
      },
      "source": [
        "<a href=\"https://colab.research.google.com/github/sonal-jharkharia/Python_Fundamental_Training/blob/main/Python_Input%2C_Output.ipynb\" target=\"_parent\"><img src=\"https://colab.research.google.com/assets/colab-badge.svg\" alt=\"Open In Colab\"/></a>"
      ]
    },
    {
      "cell_type": "markdown",
      "metadata": {
        "id": "ZRhGjyzUfaOo"
      },
      "source": [
        "# AGENDA\n",
        "1. Python Output\n",
        "2. Python Input"
      ]
    },
    {
      "cell_type": "markdown",
      "metadata": {
        "id": "a7fO4HUUgM9m"
      },
      "source": [
        "# Python Output\n",
        "- Using print() function to output data to a standard output device."
      ]
    },
    {
      "cell_type": "code",
      "metadata": {
        "id": "LKgm67fWfbL3",
        "colab": {
          "base_uri": "https://localhost:8080/",
          "height": 51
        },
        "outputId": "3919f3fd-a9c7-46e8-bdd3-5c673208c352"
      },
      "source": [
        "print('This sentence is output to the screen')\n",
        "a = 5\n",
        "print('The value of a is', a)"
      ],
      "execution_count": null,
      "outputs": [
        {
          "output_type": "stream",
          "text": [
            "This sentence is output to the screen\n",
            "The value of a is 5\n"
          ],
          "name": "stdout"
        }
      ]
    },
    {
      "cell_type": "markdown",
      "metadata": {
        "id": "aebwiKqVsmQ8"
      },
      "source": [
        "- OUTPUT FORMATTING"
      ]
    },
    {
      "cell_type": "code",
      "metadata": {
        "id": "zPKOVsS3gi-d",
        "colab": {
          "base_uri": "https://localhost:8080/",
          "height": 68
        },
        "outputId": "7c6c5d4d-6805-473a-d27c-fea2b1d19f54"
      },
      "source": [
        "print('I love {0} and {1}'.format('bread','butter')) ## {} are placeholders\n",
        "print('I love {1} and {0}'.format('bread','butter'))\n",
        "\n",
        "print('I love {0}, {2} and {1}'.format('bread', 'butter', 'cheese'))"
      ],
      "execution_count": null,
      "outputs": [
        {
          "output_type": "stream",
          "text": [
            "I love bread and butter\n",
            "I love butter and bread\n",
            "I love bread, cheese and butter\n"
          ],
          "name": "stdout"
        }
      ]
    },
    {
      "cell_type": "code",
      "metadata": {
        "id": "qgc_eymXFG3W",
        "colab": {
          "base_uri": "https://localhost:8080/",
          "height": 51
        },
        "outputId": "6efffa5f-af51-415a-f65b-2231501c62fc"
      },
      "source": [
        "b = 'Butter'\n",
        "c = 'Cheese'\n",
        "print(f'I love {b} and {c}')\n",
        "print('I love {} and {}'.format(b, c))"
      ],
      "execution_count": null,
      "outputs": [
        {
          "output_type": "stream",
          "text": [
            "I love Butter and Cheese\n",
            "I love Butter and Cheese\n"
          ],
          "name": "stdout"
        }
      ]
    },
    {
      "cell_type": "code",
      "metadata": {
        "id": "B34HxIkTs0c2"
      },
      "source": [
        "print('Goodmorning {name}'.format(name = 'Krishna'))"
      ],
      "execution_count": null,
      "outputs": []
    },
    {
      "cell_type": "markdown",
      "metadata": {
        "id": "XwbSenhttwm5"
      },
      "source": [
        "# Python Input\n",
        "\n",
        "- What if our program is dynamic and the variables are not hard-coded in the source code.\n",
        "- <strong>input()</strong> function allow the user to give input to the code.\n"
      ]
    },
    {
      "cell_type": "code",
      "metadata": {
        "id": "AnbLTQ9ntUGD",
        "colab": {
          "base_uri": "https://localhost:8080/",
          "height": 68
        },
        "outputId": "f49ca466-e637-4e4c-bfdd-f530ff8ad642"
      },
      "source": [
        "print('enter a number:')\n",
        "x = input()\n",
        "print(f'You have entered {x}')\n",
        "#print(x * 3)"
      ],
      "execution_count": null,
      "outputs": [
        {
          "output_type": "stream",
          "text": [
            "enter a number:\n",
            "45\n",
            "You have entered 45\n"
          ],
          "name": "stdout"
        }
      ]
    },
    {
      "cell_type": "code",
      "metadata": {
        "id": "zDl1Fab3FoYn",
        "colab": {
          "base_uri": "https://localhost:8080/",
          "height": 51
        },
        "outputId": "61c6e92c-906d-4f24-d5c3-653ea9369963"
      },
      "source": [
        "x = input('Enter a number: ')\n",
        "print(f'Are you sure you want to enter {x}')"
      ],
      "execution_count": null,
      "outputs": [
        {
          "output_type": "stream",
          "text": [
            "Enter a number: 56\n",
            "Are you sure you want to enter 56\n"
          ],
          "name": "stdout"
        }
      ]
    },
    {
      "cell_type": "code",
      "metadata": {
        "id": "H8muPtWyGMDi"
      },
      "source": [
        ""
      ],
      "execution_count": null,
      "outputs": []
    }
  ]
}