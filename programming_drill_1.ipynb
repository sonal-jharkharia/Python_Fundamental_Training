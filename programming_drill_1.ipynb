{
  "nbformat": 4,
  "nbformat_minor": 0,
  "metadata": {
    "colab": {
      "name": "programming_drill_1.ipynb",
      "provenance": []
    },
    "kernelspec": {
      "name": "python3",
      "display_name": "Python 3"
    }
  },
  "cells": [
    {
      "cell_type": "markdown",
      "metadata": {
        "id": "GNJbDM4HV9J8"
      },
      "source": [
        "1. Write exercises into this notebook. \n",
        "2. Run the exercises you wrote. Make sure they match the expected output.\n",
        "3. Fix them when they are broken. \n",
        "4. Repeat."
      ]
    },
    {
      "cell_type": "markdown",
      "metadata": {
        "id": "QoXNSVtrVgvb"
      },
      "source": [
        "## Drill #1 - Intro to print<br>\n",
        "<img src=\"https://drive.google.com/uc?id=1HCwzFtQKoV3fZYK4_Eo9P-CApIL8geQi\" width=\"300\"> \n",
        "#### Expected output\n",
        "<img src=\"https://drive.google.com/uc?id=1tAXjMEO7BBHLZepK1Zgiy1G6S1NHCPKY\" width=\"200\">\n"
      ]
    },
    {
      "cell_type": "code",
      "metadata": {
        "id": "3O3pXk93BMlV",
        "outputId": "b46b8bf4-bc21-4255-ce4a-8bc7421e5b7c",
        "colab": {
          "base_uri": "https://localhost:8080/",
          "height": 34
        }
      },
      "source": [
        "## Write your code here\n",
        "print(\"hello world\")"
      ],
      "execution_count": null,
      "outputs": [
        {
          "output_type": "stream",
          "text": [
            "hello world\n"
          ],
          "name": "stdout"
        }
      ]
    },
    {
      "cell_type": "markdown",
      "metadata": {
        "id": "1dq3VrP8Xil8"
      },
      "source": [
        "#### 1.2 Make your script print another line"
      ]
    },
    {
      "cell_type": "code",
      "metadata": {
        "id": "558jwU0CCHYG"
      },
      "source": [
        "## Write your code here"
      ],
      "execution_count": null,
      "outputs": []
    },
    {
      "cell_type": "markdown",
      "metadata": {
        "id": "MCra17UCXslF"
      },
      "source": [
        "# Drill #2 - Comments <br>\n",
        "<img src=\"https://drive.google.com/uc?id=1SUDq-JoqLdajc03i9Ag76GIpTUeJliW1\" width=\"500\">\n",
        "\n",
        "#### Expected Output\n",
        "<img src=\"https://drive.google.com/uc?id=1ym7NnsNgRJJ6gKsM0IIu1mA7PC63Kb9T\" width=\"250\">"
      ]
    },
    {
      "cell_type": "code",
      "metadata": {
        "id": "19pWn_d0Xrad"
      },
      "source": [
        "## Write your code here (Write all of it, including the comments)\n",
        "#single line comments\n"
      ],
      "execution_count": null,
      "outputs": []
    },
    {
      "cell_type": "markdown",
      "metadata": {
        "id": "gvjj1NTNaFeN"
      },
      "source": [
        "### 2.1 \n",
        "Start at the last line, and check each word in reverse against what you should have typed. If you find more mistakes, fix them. (This is a trick to make sure you do not attach meaning to any part of code and are able to look at each piece exactly. It is a handy trick to catch errors)"
      ]
    },
    {
      "cell_type": "code",
      "metadata": {
        "id": "aCNK7PxIXzDX"
      },
      "source": [
        "## Write your code here"
      ],
      "execution_count": null,
      "outputs": []
    },
    {
      "cell_type": "markdown",
      "metadata": {
        "id": "myAZjSq4awLj"
      },
      "source": [
        "### 2.2 \n",
        "Read what you typed above out loud, including saying each character by its name. If you find more mistakes, fix them."
      ]
    },
    {
      "cell_type": "code",
      "metadata": {
        "id": "fKX_ltdFZhgu"
      },
      "source": [
        "## Write your code here"
      ],
      "execution_count": null,
      "outputs": []
    },
    {
      "cell_type": "markdown",
      "metadata": {
        "id": "SVIoH6EE1ZoH"
      },
      "source": [
        "# Drill #3 - Mathematical operations\n",
        "Type in the following code exactly before you run it. <br><br>\n",
        "<img src=\"https://drive.google.com/uc?id=1FvLTSNJ84Da_KHSczhxg0Q0Wgf7Z3DDa\" width=\"400\"><br>\n",
        "#### Expected Output\n",
        "<img src=\"https://drive.google.com/uc?id=1NulYhDSBqL3-7EzbYwSl5RaHHaZIvB73\" width=\"200\">"
      ]
    },
    {
      "cell_type": "code",
      "metadata": {
        "id": "4mGB9iw_1cP5",
        "outputId": "e8cf3416-e002-4b75-e2e1-c422d014ef07",
        "colab": {
          "base_uri": "https://localhost:8080/",
          "height": 185
        }
      },
      "source": [
        "## Write your code here\n",
        "list=[1,2,3]\n",
        "list(2)"
      ],
      "execution_count": null,
      "outputs": [
        {
          "output_type": "error",
          "ename": "TypeError",
          "evalue": "ignored",
          "traceback": [
            "\u001b[0;31m---------------------------------------------------------------------------\u001b[0m",
            "\u001b[0;31mTypeError\u001b[0m                                 Traceback (most recent call last)",
            "\u001b[0;32m<ipython-input-2-dbd7397603e0>\u001b[0m in \u001b[0;36m<module>\u001b[0;34m()\u001b[0m\n\u001b[1;32m      1\u001b[0m \u001b[0mlist\u001b[0m\u001b[0;34m=\u001b[0m\u001b[0;34m[\u001b[0m\u001b[0;36m1\u001b[0m\u001b[0;34m,\u001b[0m\u001b[0;36m2\u001b[0m\u001b[0;34m,\u001b[0m\u001b[0;36m3\u001b[0m\u001b[0;34m]\u001b[0m\u001b[0;34m\u001b[0m\u001b[0;34m\u001b[0m\u001b[0m\n\u001b[0;32m----> 2\u001b[0;31m \u001b[0mlist\u001b[0m\u001b[0;34m(\u001b[0m\u001b[0;36m2\u001b[0m\u001b[0;34m)\u001b[0m\u001b[0;34m\u001b[0m\u001b[0;34m\u001b[0m\u001b[0m\n\u001b[0m",
            "\u001b[0;31mTypeError\u001b[0m: 'list' object is not callable"
          ]
        }
      ]
    },
    {
      "cell_type": "markdown",
      "metadata": {
        "id": "70z8KFY84v7K"
      },
      "source": [
        "### 3.1 \n",
        "Find something you need to calculate and write the code that does it."
      ]
    },
    {
      "cell_type": "code",
      "metadata": {
        "id": "bSWEB1vV3JvF"
      },
      "source": [
        "## Write your code here"
      ],
      "execution_count": null,
      "outputs": []
    },
    {
      "cell_type": "markdown",
      "metadata": {
        "id": "TE_URpDk5IZg"
      },
      "source": [
        "### 3.2 \n",
        "You can use parentheses to change the order of operations. For eg., 2 + (3 * 5) is different from (2 + 3)*5. <br> Play with parentheses to see how the results change."
      ]
    },
    {
      "cell_type": "code",
      "metadata": {
        "id": "-H6gAYG55qBj"
      },
      "source": [
        "## Write your code here"
      ],
      "execution_count": null,
      "outputs": []
    },
    {
      "cell_type": "markdown",
      "metadata": {
        "id": "AMRJ75_JY8Ep"
      },
      "source": [
        "#Drill #4 - Variables\n",
        "<img src=\"https://drive.google.com/uc?id=1k2pTmgJ6pwKqC8xY9GQg83qfKry8TUci\" width=\"400\">\n",
        "\n",
        "### Expected Output\n",
        "<img src=\"https://drive.google.com/uc?id=1GjRjri4bjr7rEgq8hKwZ2fWDH6ld3EOU\" width=\"300\">"
      ]
    },
    {
      "cell_type": "markdown",
      "metadata": {
        "id": "A5j13VELdoV9"
      },
      "source": [
        "###4.1 \n",
        "Check what happens if you use 50.0 instead of 50 for capacity_classroom. (Decimal numbers such as 50.0 are called floating point numbers)\n"
      ]
    },
    {
      "cell_type": "code",
      "metadata": {
        "id": "1x0QH2NecBEc"
      },
      "source": [
        "### Write your code here"
      ],
      "execution_count": null,
      "outputs": []
    },
    {
      "cell_type": "markdown",
      "metadata": {
        "id": "Lf5cNYOBh1dz"
      },
      "source": [
        "###4.2\n",
        "Add a comment before each line in the code to describe what that line of code is doing in plain english."
      ]
    },
    {
      "cell_type": "code",
      "metadata": {
        "id": "AYE9BvA5cTxC"
      },
      "source": [
        "### Write your code here"
      ],
      "execution_count": null,
      "outputs": []
    }
  ]
}