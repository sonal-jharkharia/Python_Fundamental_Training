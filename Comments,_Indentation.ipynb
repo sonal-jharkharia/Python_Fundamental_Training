{
  "nbformat": 4,
  "nbformat_minor": 0,
  "metadata": {
    "colab": {
      "name": "Comments, Indentation",
      "provenance": [],
      "include_colab_link": true
    },
    "kernelspec": {
      "name": "python3",
      "display_name": "Python 3"
    }
  },
  "cells": [
    {
      "cell_type": "markdown",
      "metadata": {
        "id": "view-in-github",
        "colab_type": "text"
      },
      "source": [
        "<a href=\"https://colab.research.google.com/github/sonal-jharkharia/Python_Fundamental_Training/blob/main/Comments%2C_Indentation.ipynb\" target=\"_parent\"><img src=\"https://colab.research.google.com/assets/colab-badge.svg\" alt=\"Open In Colab\"/></a>"
      ]
    },
    {
      "cell_type": "markdown",
      "metadata": {
        "id": "ZRfVtGB_ioOH"
      },
      "source": [
        "# Comments, Indentation"
      ]
    },
    {
      "cell_type": "markdown",
      "metadata": {
        "id": "-Xpa0zhmo_PG"
      },
      "source": [
        "# COMMENTS"
      ]
    },
    {
      "cell_type": "markdown",
      "metadata": {
        "id": "5_Km4gPWpEl5"
      },
      "source": [
        "### Single line comments\n",
        "- Comment are used to explain the code and make it more readable. <br>\n",
        "- They do not get executed while running a code.\n",
        "- We use hash(#) symbol to write a comment"
      ]
    },
    {
      "cell_type": "code",
      "metadata": {
        "id": "ZcjTeoETpB73",
        "outputId": "b22f8c21-b6ba-463d-fcd4-a6bd1be3cec3",
        "colab": {
          "base_uri": "https://localhost:8080/",
          "height": 34
        }
      },
      "source": [
        "# This is a comment\n",
        "#This is an example\n",
        "print(\"Hello World\") # This is a call to print function"
      ],
      "execution_count": null,
      "outputs": [
        {
          "output_type": "stream",
          "text": [
            "Hello World\n"
          ],
          "name": "stdout"
        }
      ]
    },
    {
      "cell_type": "markdown",
      "metadata": {
        "id": "JhLMgiDiqGJf"
      },
      "source": [
        "### Multi-Line Comments\n",
        "- Using hash(#) in the starting of each line.\n",
        "- Using three single quotes ' ' '  or three double quotes \" \" \"\n"
      ]
    },
    {
      "cell_type": "code",
      "metadata": {
        "id": "A5Ra5GBKqia7"
      },
      "source": [
        "#First way to write \n",
        "#a multiple line \n",
        "#comment"
      ],
      "execution_count": null,
      "outputs": []
    },
    {
      "cell_type": "code",
      "metadata": {
        "id": "hMXnSZEZqrQ3",
        "outputId": "c0382832-0e1f-4a18-d084-a238fbce3575",
        "colab": {
          "base_uri": "https://localhost:8080/",
          "height": 34
        }
      },
      "source": [
        "'''Comments are\n",
        "written using \n",
        "three single quotes'''\n",
        "print(\"hello World\")"
      ],
      "execution_count": null,
      "outputs": [
        {
          "output_type": "stream",
          "text": [
            "hello World\n"
          ],
          "name": "stdout"
        }
      ]
    },
    {
      "cell_type": "code",
      "metadata": {
        "id": "lv_knpzYq1cH",
        "outputId": "70033c0d-05eb-415e-b75a-fa1279e3a832",
        "colab": {
          "base_uri": "https://localhost:8080/",
          "height": 34
        }
      },
      "source": [
        "\"\"\"This can \n",
        "be done using three\n",
        "double quotes also\"\"\"\n",
        "print('Hello World')"
      ],
      "execution_count": null,
      "outputs": [
        {
          "output_type": "stream",
          "text": [
            "Hello World\n"
          ],
          "name": "stdout"
        }
      ]
    },
    {
      "cell_type": "markdown",
      "metadata": {
        "id": "dPn8BytCranm"
      },
      "source": [
        "# INDENTATION IN PYTHON\n",
        "- Spaces and tabs that are used at the beginning of a statement. \n",
        "- Amount of indentation is your choice, but it must be consistent.\n",
        "- TIP: Its good to use 2 or 4 whitespaces for indentation."
      ]
    },
    {
      "cell_type": "code",
      "metadata": {
        "id": "zCiRTTHxrDo5",
        "outputId": "11225b21-8c99-4c32-b4cd-a24329110bf9",
        "colab": {
          "base_uri": "https://localhost:8080/",
          "height": 68
        }
      },
      "source": [
        "# Example of indentation\n",
        "a = 1 \n",
        "if a == 1: # If-else statements will be discussed later.\n",
        " print(a)\n",
        " b = 1\n",
        " if b == 2:\n",
        "   print(b)\n",
        " print(b)\n",
        "\n",
        "\n",
        "print('end') #Indentation error will come if not matched properly"
      ],
      "execution_count": null,
      "outputs": [
        {
          "output_type": "stream",
          "text": [
            "1\n",
            "1\n",
            "end\n"
          ],
          "name": "stdout"
        }
      ]
    },
    {
      "cell_type": "code",
      "metadata": {
        "id": "QPnv7P8X8s-N",
        "colab": {
          "base_uri": "https://localhost:8080/",
          "height": 51
        },
        "outputId": "1dc57397-1d69-490b-86b2-9bf4a243455a"
      },
      "source": [
        "def square_root(x):\n",
        "  print(x)\n",
        "  return x**(0.5)\n",
        "\n",
        "square_root(2)\n",
        "    "
      ],
      "execution_count": null,
      "outputs": [
        {
          "output_type": "stream",
          "text": [
            "2\n"
          ],
          "name": "stdout"
        },
        {
          "output_type": "execute_result",
          "data": {
            "text/plain": [
              "1.4142135623730951"
            ]
          },
          "metadata": {
            "tags": []
          },
          "execution_count": 14
        }
      ]
    },
    {
      "cell_type": "code",
      "metadata": {
        "id": "vs_eBPrq9txZ"
      },
      "source": [
        ""
      ],
      "execution_count": null,
      "outputs": []
    }
  ]
}