{
  "nbformat": 4,
  "nbformat_minor": 0,
  "metadata": {
    "colab": {
      "name": "Strings.ipynb",
      "provenance": [],
      "collapsed_sections": [],
      "include_colab_link": true
    },
    "kernelspec": {
      "name": "python3",
      "display_name": "Python 3"
    }
  },
  "cells": [
    {
      "cell_type": "markdown",
      "metadata": {
        "id": "view-in-github",
        "colab_type": "text"
      },
      "source": [
        "<a href=\"https://colab.research.google.com/github/sonal-jharkharia/Python_Fundamental_Training/blob/main/Strings.ipynb\" target=\"_parent\"><img src=\"https://colab.research.google.com/assets/colab-badge.svg\" alt=\"Open In Colab\"/></a>"
      ]
    },
    {
      "cell_type": "markdown",
      "metadata": {
        "id": "0svJSD1bSk6j"
      },
      "source": [
        "## Strings"
      ]
    },
    {
      "cell_type": "markdown",
      "metadata": {
        "id": "RgTsTNDDYCTh"
      },
      "source": [
        "- Datatype for storing text data\n",
        "- Similar to list in many ways - concatenation, replication, usage with ```for```, ```in``` and ```not in``` operators, ```len()``` function etc"
      ]
    },
    {
      "cell_type": "code",
      "metadata": {
        "id": "MGojYK93SfOZ",
        "outputId": "12d75b10-735e-4ebc-f38f-81955f04835d",
        "colab": {
          "base_uri": "https://localhost:8080/",
          "height": 34
        }
      },
      "source": [
        "## Example of string\n",
        "my_string = \"Hello World\" # use single/double quotes for representing a piece of text data as a string\n",
        "print(type(my_string))"
      ],
      "execution_count": null,
      "outputs": [
        {
          "output_type": "stream",
          "text": [
            "<class 'str'>\n"
          ],
          "name": "stdout"
        }
      ]
    },
    {
      "cell_type": "markdown",
      "metadata": {
        "id": "3r2nnAnbYc-X"
      },
      "source": [
        "#### Concatenation and replication\n",
        "- Use ```+``` for concatenation and ```*``` for replication"
      ]
    },
    {
      "cell_type": "code",
      "metadata": {
        "id": "DaxHcXo2YnuM",
        "outputId": "af321b41-9d64-4d8f-e94c-f25d9ec15a21",
        "colab": {
          "base_uri": "https://localhost:8080/",
          "height": 34
        }
      },
      "source": [
        "### Examples of concatenation and replication\n",
        "str1 = \"Hello,\"\n",
        "str2 = \"World\"\n",
        "# print(str1 + str2 + \"2019 \" + \"!\")\n",
        "\n",
        "print((str1 + str2)*2)"
      ],
      "execution_count": null,
      "outputs": [
        {
          "output_type": "stream",
          "text": [
            "Hello,WorldHello,World\n"
          ],
          "name": "stdout"
        }
      ]
    },
    {
      "cell_type": "markdown",
      "metadata": {
        "id": "KfNLBUFPanBZ"
      },
      "source": [
        "#### String literals\n",
        "- String literals may use single quotes ```''``` or double quotes ```\"\"```\n",
        "- Benefit of using double quotes is that they may contain single quotes"
      ]
    },
    {
      "cell_type": "code",
      "metadata": {
        "id": "_8b5or4bbb99",
        "outputId": "6c03a135-2878-4260-d8d0-77905e8575e2",
        "colab": {
          "base_uri": "https://localhost:8080/",
          "height": 34
        }
      },
      "source": [
        "## Examples of string literals\n",
        "str1 = 'Hello'\n",
        "str2 = \"Hello\"\n",
        "# print(str1 == str2)\n",
        "\n",
        "## I've got to learn python\n",
        "str1 = \"I've got to learn python\" ## apostrophe is confused as end of string because both are the same character\n",
        "print(str1)"
      ],
      "execution_count": null,
      "outputs": [
        {
          "output_type": "stream",
          "text": [
            "I've got to learn python\n"
          ],
          "name": "stdout"
        }
      ]
    },
    {
      "cell_type": "markdown",
      "metadata": {
        "id": "c3tsAA-Xbepc"
      },
      "source": [
        "###### Escape characters\n",
        "- Escape characters change the usual meaning of a character in a specific context"
      ]
    },
    {
      "cell_type": "code",
      "metadata": {
        "id": "RszO1Pu1beJV",
        "outputId": "7cc45dce-fb85-4aca-ad71-109d8ac1b303",
        "colab": {
          "base_uri": "https://localhost:8080/",
          "height": 34
        }
      },
      "source": [
        "## Eg., \\', \\\" ## \\ is known as backslash character. Used to escape characters, means give special meaning to them\n",
        "str1 = \"I've got to learn python\"\n",
        "str2 = 'I\\'ve got to learn python' ## earlier the meaning of the single quote was a closing quote, \n",
        "                                  ## but now it simply means the single quote character. \n",
        "# print(str2)\n",
        "\n",
        "dialogue = \"He said, \\\"I've got to learn python \\\"\"\n",
        "print(dialogue)"
      ],
      "execution_count": null,
      "outputs": [
        {
          "output_type": "stream",
          "text": [
            "He said, \"I've got to learn python \"\n"
          ],
          "name": "stdout"
        }
      ]
    },
    {
      "cell_type": "code",
      "metadata": {
        "id": "tJBGuQ-Ub8tv",
        "outputId": "df153846-20ab-4c38-8a48-01b1d6f342ef",
        "colab": {
          "base_uri": "https://localhost:8080/",
          "height": 51
        }
      },
      "source": [
        "## Eg., \\n,\n",
        "## \\n is used to print a newline at that position\n",
        "str_two_sents = \"I have to learn python. \\nI am taking a course.\"\n",
        "print(str_two_sents)"
      ],
      "execution_count": null,
      "outputs": [
        {
          "output_type": "stream",
          "text": [
            "I have to learn python. \n",
            "I am taking a course.\n"
          ],
          "name": "stdout"
        }
      ]
    },
    {
      "cell_type": "markdown",
      "metadata": {
        "id": "HuglG68iccRk"
      },
      "source": [
        "#### Raw strings\n",
        "- Place ```r``` before a string to make it a raw string. All escape characters are ignored in a raw string"
      ]
    },
    {
      "cell_type": "code",
      "metadata": {
        "id": "EihI8Uukca63",
        "outputId": "1f3b2b8f-6658-45d7-eace-32d9639f38a6",
        "colab": {
          "base_uri": "https://localhost:8080/",
          "height": 68
        }
      },
      "source": [
        "## Example of raw strings\n",
        "str_two_sents = \"I have to learn python. \\nI am taking a course.\"\n",
        "print(str_two_sents)\n",
        "\n",
        "raw_str = r\"I have to learn python. \\nI am taking a course.\"\n",
        "print(raw_str)"
      ],
      "execution_count": null,
      "outputs": [
        {
          "output_type": "stream",
          "text": [
            "I have to learn python. \n",
            "I am taking a course.\n",
            "I have to learn python. \\nI am taking a course.\n"
          ],
          "name": "stdout"
        }
      ]
    },
    {
      "cell_type": "markdown",
      "metadata": {
        "id": "xzIgMIBlcjji"
      },
      "source": [
        "#### Multiline strings\n",
        "- Use triple quotes to create multiline strings"
      ]
    },
    {
      "cell_type": "code",
      "metadata": {
        "id": "U9XCmIHJcnCb",
        "outputId": "7f343e29-40cc-4df3-c76f-ee96b7a1e5aa",
        "colab": {
          "base_uri": "https://localhost:8080/",
          "height": 51
        }
      },
      "source": [
        "### Example of multi-line strings.\n",
        "str_two_sents_multiline = '''I have to learn python.\n",
        "I am taking a course. '''\n",
        "print(str_two_sents_multiline)"
      ],
      "execution_count": null,
      "outputs": [
        {
          "output_type": "stream",
          "text": [
            "I have to learn python.\n",
            "I am taking a course. \n"
          ],
          "name": "stdout"
        }
      ]
    },
    {
      "cell_type": "code",
      "metadata": {
        "id": "aPL1lH9SnNCI",
        "outputId": "065810da-eea7-4665-d424-6cb1811083d7",
        "colab": {
          "base_uri": "https://localhost:8080/",
          "height": 51
        }
      },
      "source": [
        "str_two_sents_multiline = \"\"\"I have to learn python.\n",
        "I am taking a course. \"\"\"\n",
        "print(str_two_sents_multiline)"
      ],
      "execution_count": null,
      "outputs": [
        {
          "output_type": "stream",
          "text": [
            "I have to learn python.\n",
            "I am taking a course. \n"
          ],
          "name": "stdout"
        }
      ]
    },
    {
      "cell_type": "code",
      "metadata": {
        "id": "fVxL4Js5dNrF"
      },
      "source": [
        "### Example of multi-line comments and docstrings\n",
        "## docstrings are used in python for documenting code\n",
        "def sum(a, b):\n",
        "  \"\"\"\n",
        "  This is a function that adds two numbers.\n",
        "  Inputs:\n",
        "  a:Int\n",
        "  b:Int\n",
        "\n",
        "  Outputs\n",
        "  sum_:Int, sum of a and b\n",
        "  \"\"\"\n",
        "  sum_ = a  + b\n",
        "  return sum_\n"
      ],
      "execution_count": null,
      "outputs": []
    },
    {
      "cell_type": "markdown",
      "metadata": {
        "id": "R27-xmzFc-c1"
      },
      "source": [
        "#### Indexing and slicing strings\n",
        "- Same as how you do for lists"
      ]
    },
    {
      "cell_type": "code",
      "metadata": {
        "id": "X0ZYn87yc9XW",
        "outputId": "7a0d9654-b267-40f7-c9ec-e990c8edc40d",
        "colab": {
          "base_uri": "https://localhost:8080/",
          "height": 68
        }
      },
      "source": [
        "## Examples of indexing and slicing\n",
        "str_1 = \"HelloHari\"\n",
        "## This can be thought of as a list of characters\n",
        "# len(str_1)\n",
        "print(str_1[0])\n",
        "print(str_1[6])\n",
        "\n",
        "print(str_1[-2])"
      ],
      "execution_count": null,
      "outputs": [
        {
          "output_type": "stream",
          "text": [
            "H\n",
            "a\n",
            "r\n"
          ],
          "name": "stdout"
        }
      ]
    },
    {
      "cell_type": "code",
      "metadata": {
        "id": "rERqrMcrrtiV",
        "outputId": "df24b418-21d7-498b-d962-71d617463c90",
        "colab": {
          "base_uri": "https://localhost:8080/",
          "height": 86
        }
      },
      "source": [
        "print(str_1[2:5])\n",
        "print(str_1[2:-1])\n",
        "print(str_1[:-1])\n",
        "print(str_1[:])"
      ],
      "execution_count": null,
      "outputs": [
        {
          "output_type": "stream",
          "text": [
            "llo\n",
            "lloHar\n",
            "HelloHar\n",
            "HelloHari\n"
          ],
          "name": "stdout"
        }
      ]
    },
    {
      "cell_type": "markdown",
      "metadata": {
        "id": "m3eiSFZob1rE"
      },
      "source": [
        "#### ```in``` and ```not in``` operators with strings  "
      ]
    },
    {
      "cell_type": "code",
      "metadata": {
        "id": "SVvcj7uGdolv",
        "outputId": "2a5d3dac-b358-42c9-b2f1-bb7129d00814",
        "colab": {
          "base_uri": "https://localhost:8080/",
          "height": 51
        }
      },
      "source": [
        "## Examples of usage of in and not in operators\n",
        "l = [1, 4, 9, 7]\n",
        "print(4 in l)\n",
        "print(13 in l)"
      ],
      "execution_count": null,
      "outputs": [
        {
          "output_type": "stream",
          "text": [
            "True\n",
            "False\n"
          ],
          "name": "stdout"
        }
      ]
    },
    {
      "cell_type": "code",
      "metadata": {
        "id": "v35opXSEsPZT",
        "outputId": "232f59da-46cf-478b-85d8-196c6cafce80",
        "colab": {
          "base_uri": "https://localhost:8080/",
          "height": 51
        }
      },
      "source": [
        "print('r' in str_1)\n",
        "print('x' not in str_1)"
      ],
      "execution_count": null,
      "outputs": [
        {
          "output_type": "stream",
          "text": [
            "True\n",
            "True\n"
          ],
          "name": "stdout"
        }
      ]
    },
    {
      "cell_type": "code",
      "metadata": {
        "id": "bgJIDfk-sdjk",
        "outputId": "66fb4c7a-cc7b-4897-c086-a86b2db7aa25",
        "colab": {
          "base_uri": "https://localhost:8080/",
          "height": 51
        }
      },
      "source": [
        "print('Hari' in str_1)\n",
        "print('hari' in str_1)"
      ],
      "execution_count": null,
      "outputs": [
        {
          "output_type": "stream",
          "text": [
            "True\n",
            "False\n"
          ],
          "name": "stdout"
        }
      ]
    },
    {
      "cell_type": "markdown",
      "metadata": {
        "id": "Zzrywu2Pd6ya"
      },
      "source": [
        "#### Commonly used String methods\n",
        "- ```upper```, ```lower```, ```isupper```, ```islower``` methods\n",
        "- These methods do not change the string itself and instead return a new value"
      ]
    },
    {
      "cell_type": "code",
      "metadata": {
        "id": "L7snfBtcd_Kh",
        "outputId": "7f4d6081-3f8c-4868-d5c8-4e4cfa6ea054",
        "colab": {
          "base_uri": "https://localhost:8080/",
          "height": 34
        }
      },
      "source": [
        "## Examples of upper and lower\n",
        "# print(str_1.upper())\n",
        "# print(str_1)\n",
        "# print(str_1.lower())\n",
        "\n",
        "str_1 = str_1.upper()\n",
        "print(str_1)"
      ],
      "execution_count": null,
      "outputs": [
        {
          "output_type": "stream",
          "text": [
            "HELLOHARI\n"
          ],
          "name": "stdout"
        }
      ]
    },
    {
      "cell_type": "markdown",
      "metadata": {
        "id": "kB2bjy5teq1O"
      },
      "source": [
        "- ```isupper``` and ```islower``` return ```True``` if there is atleast one alphabet in a string and if all of the alphabets present are upper or lower respectively. It returns ```False``` otherwise"
      ]
    },
    {
      "cell_type": "code",
      "metadata": {
        "id": "BZv5bORqe59y",
        "outputId": "96225ae4-5e49-460e-f0f6-a312e4f24a6c",
        "colab": {
          "base_uri": "https://localhost:8080/",
          "height": 68
        }
      },
      "source": [
        "### Examples of isupper and islower\n",
        "print(str_1.isupper())\n",
        "print(str_1.islower())\n",
        "print('999'.isupper())"
      ],
      "execution_count": null,
      "outputs": [
        {
          "output_type": "stream",
          "text": [
            "True\n",
            "False\n",
            "False\n"
          ],
          "name": "stdout"
        }
      ]
    },
    {
      "cell_type": "markdown",
      "metadata": {
        "id": "Sqlep7H5e93l"
      },
      "source": [
        "- ```startswith``` and ```endswith``` methods\n",
        "- useful for comparison other than ```==```"
      ]
    },
    {
      "cell_type": "code",
      "metadata": {
        "id": "pAkQ-rNgfbXQ",
        "outputId": "7bfbaaf9-ea94-4248-a4ab-bdf78e04bcbc",
        "colab": {
          "base_uri": "https://localhost:8080/",
          "height": 86
        }
      },
      "source": [
        "#### Examples of startswith and endswith\n",
        "print(str_1)\n",
        "print(str_1.startswith('HEL'))\n",
        "print(str_1.endswith('HARI'))\n",
        "print(str_1.endswith('LOHA'))\n",
        "\n",
        "## state of a registered vehicle based on license plate"
      ],
      "execution_count": null,
      "outputs": [
        {
          "output_type": "stream",
          "text": [
            "HELLOHARI\n",
            "True\n",
            "True\n",
            "False\n"
          ],
          "name": "stdout"
        }
      ]
    },
    {
      "cell_type": "markdown",
      "metadata": {
        "id": "nTO24negfZe6"
      },
      "source": [
        "- ```join``` and ```split```\n",
        "- ```join``` is called on a string, gets passed a list of strings and returns a string"
      ]
    },
    {
      "cell_type": "code",
      "metadata": {
        "id": "cH4-3rzIfN7y",
        "outputId": "58cbfb0f-6f65-4315-f2d1-ee1516736cdb",
        "colab": {
          "base_uri": "https://localhost:8080/",
          "height": 34
        }
      },
      "source": [
        "### Example of using join \n",
        "print(','.join(['Hari', 'Madhav', 'Ram', 'Shyam']))"
      ],
      "execution_count": null,
      "outputs": [
        {
          "output_type": "stream",
          "text": [
            "Hari,Madhav,Ram,Shyam\n"
          ],
          "name": "stdout"
        }
      ]
    },
    {
      "cell_type": "markdown",
      "metadata": {
        "id": "V6stjeblfxwf"
      },
      "source": [
        "- ```split``` is called on a string, gets passed a string and returns a list of strings"
      ]
    },
    {
      "cell_type": "code",
      "metadata": {
        "id": "Yi93UXpvf3E0",
        "outputId": "adeaeb33-03f4-4909-9a35-45d9533d9eaf",
        "colab": {
          "base_uri": "https://localhost:8080/",
          "height": 34
        }
      },
      "source": [
        "### Example of using split\n",
        "names_str = \"Hari,Madhav,Ram,Shyam\"\n",
        "names_list = names_str.split(',')\n",
        "print(names_list)"
      ],
      "execution_count": null,
      "outputs": [
        {
          "output_type": "stream",
          "text": [
            "['Hari', 'Madhav', 'Ram', 'Shyam']\n"
          ],
          "name": "stdout"
        }
      ]
    },
    {
      "cell_type": "code",
      "metadata": {
        "id": "Gjt6qAVLvURI",
        "outputId": "4bc3eee0-aa6b-4a14-f309-5c7e2a566936",
        "colab": {
          "base_uri": "https://localhost:8080/",
          "height": 34
        }
      },
      "source": [
        "names_str = \"Hari Madhav Ram Shyam\"\n",
        "names_list = names_str.split(' ')\n",
        "print(names_list)"
      ],
      "execution_count": null,
      "outputs": [
        {
          "output_type": "stream",
          "text": [
            "['Hari', 'Madhav', 'Ram', 'Shyam']\n"
          ],
          "name": "stdout"
        }
      ]
    },
    {
      "cell_type": "markdown",
      "metadata": {
        "id": "J-7YsHjugEkh"
      },
      "source": [
        "- Removing white space with ```strip```, ```rstrip``` and ```lstrip``` methods"
      ]
    },
    {
      "cell_type": "code",
      "metadata": {
        "id": "c53h30kSvfgc",
        "outputId": "f88194a1-a215-420f-957a-dbfe765d7f9f",
        "colab": {
          "base_uri": "https://localhost:8080/",
          "height": 68
        }
      },
      "source": [
        "## Examples\n",
        "names_str = \"    Hari     Madhav    Ram     Shyam          \"\n",
        "print(names_str.strip())\n",
        "print(names_str.rstrip())\n",
        "print(names_str.lstrip())"
      ],
      "execution_count": null,
      "outputs": [
        {
          "output_type": "stream",
          "text": [
            "Hari,     Madhav,    Ram,     Shyam\n",
            "    Hari,     Madhav,    Ram,     Shyam\n",
            "Hari,     Madhav,    Ram,     Shyam          \n"
          ],
          "name": "stdout"
        }
      ]
    },
    {
      "cell_type": "markdown",
      "metadata": {
        "id": "wtXDpWkdgEoI"
      },
      "source": [
        ""
      ]
    }
  ]
}