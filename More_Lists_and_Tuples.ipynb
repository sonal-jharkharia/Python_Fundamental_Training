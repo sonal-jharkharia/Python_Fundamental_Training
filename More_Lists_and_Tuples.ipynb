{
  "nbformat": 4,
  "nbformat_minor": 0,
  "metadata": {
    "kernelspec": {
      "display_name": "Python 3",
      "language": "python",
      "name": "python3"
    },
    "language_info": {
      "codemirror_mode": {
        "name": "ipython",
        "version": 3
      },
      "file_extension": ".py",
      "mimetype": "text/x-python",
      "name": "python",
      "nbconvert_exporter": "python",
      "pygments_lexer": "ipython3",
      "version": "3.6.9"
    },
    "colab": {
      "name": "More Lists and Tuples",
      "provenance": [],
      "collapsed_sections": [
        "81QhRSaR6dmU",
        "Po9P8B-Y6dml",
        "yw-1_RyQxdpT"
      ],
      "include_colab_link": true
    }
  },
  "cells": [
    {
      "cell_type": "markdown",
      "metadata": {
        "id": "view-in-github",
        "colab_type": "text"
      },
      "source": [
        "<a href=\"https://colab.research.google.com/github/sonal-jharkharia/Python_Fundamental_Training/blob/main/More_Lists_and_Tuples.ipynb\" target=\"_parent\"><img src=\"https://colab.research.google.com/assets/colab-badge.svg\" alt=\"Open In Colab\"/></a>"
      ]
    },
    {
      "cell_type": "markdown",
      "metadata": {
        "id": "6S8_PvXY6dly"
      },
      "source": [
        "## Lists - 2"
      ]
    },
    {
      "cell_type": "markdown",
      "metadata": {
        "id": "-DBIbg_86dl0"
      },
      "source": [
        "### Len function\n",
        "- The ```len``` function is used to get the length of a list"
      ]
    },
    {
      "cell_type": "code",
      "metadata": {
        "id": "SXRiN_Td6dl1",
        "outputId": "b2f34e3e-2aac-48b9-a382-e21b572ecf67",
        "colab": {
          "base_uri": "https://localhost:8080/",
          "height": 51
        }
      },
      "source": [
        "## Eg., of using len function\n",
        "my_list = [1, 'Hari', 2, 3, 4]\n",
        "print(len(my_list))\n",
        "\n",
        "print(len([1, 2, 3, 4, 5, 6]))"
      ],
      "execution_count": null,
      "outputs": [
        {
          "output_type": "stream",
          "text": [
            "5\n",
            "6\n"
          ],
          "name": "stdout"
        }
      ]
    },
    {
      "cell_type": "markdown",
      "metadata": {
        "id": "hLnQAaJv6dl5"
      },
      "source": [
        "### Removing items from list\n",
        "- The ```del``` statement can be used to delete items at an index in a list.\n",
        "- All the items in the list after the deleted item will be moved up one index"
      ]
    },
    {
      "cell_type": "code",
      "metadata": {
        "id": "iTfLLz8l6dl6",
        "outputId": "e3b5ed18-08d7-4ea6-e0fd-930754a4d76a",
        "colab": {
          "base_uri": "https://localhost:8080/",
          "height": 51
        }
      },
      "source": [
        "my_list = [1, 'ram', 2, 'shyam']\n",
        "\n",
        "del my_list[0]\n",
        "print('List after 1 deletion {}'.format(my_list))\n",
        "\n",
        "del my_list[1]\n",
        "print('List after 2 deletion {}'.format(my_list))"
      ],
      "execution_count": null,
      "outputs": [
        {
          "output_type": "stream",
          "text": [
            "List after 1 deletion ['ram', 2, 'shyam']\n",
            "List after 2 deletion ['ram', 'shyam']\n"
          ],
          "name": "stdout"
        }
      ]
    },
    {
      "cell_type": "markdown",
      "metadata": {
        "id": "zHCMq46i6dl-"
      },
      "source": [
        "### Iterating over lists using ```for``` loops\n"
      ]
    },
    {
      "cell_type": "markdown",
      "metadata": {
        "id": "wV-VZFHS6dl_"
      },
      "source": [
        "- We have used ```for``` loop to execute a block of code a certain number of times\n",
        "- Technically a ```for``` loop repeats a block of code once for each item in a list value"
      ]
    },
    {
      "cell_type": "code",
      "metadata": {
        "id": "qw66ZG0ZOzyq",
        "outputId": "275ca6eb-8d91-4e93-890f-2f271012b05c",
        "colab": {
          "base_uri": "https://localhost:8080/",
          "height": 103
        }
      },
      "source": [
        "for i in range(5):\n",
        "  print('Hello Hari')"
      ],
      "execution_count": null,
      "outputs": [
        {
          "output_type": "stream",
          "text": [
            "Hello Hari\n",
            "Hello Hari\n",
            "Hello Hari\n",
            "Hello Hari\n",
            "Hello Hari\n"
          ],
          "name": "stdout"
        }
      ]
    },
    {
      "cell_type": "code",
      "metadata": {
        "id": "j6rIQ_wF6dmA",
        "outputId": "7ba15127-a69f-47c1-927e-a6ac7ed97d71",
        "colab": {
          "base_uri": "https://localhost:8080/",
          "height": 34
        }
      },
      "source": [
        "print(type(range(4)))"
      ],
      "execution_count": null,
      "outputs": [
        {
          "output_type": "stream",
          "text": [
            "<class 'range'>\n"
          ],
          "name": "stdout"
        }
      ]
    },
    {
      "cell_type": "markdown",
      "metadata": {
        "id": "ElBr31cX6dmD"
      },
      "source": [
        "- ```range``` function returns a range object that is similar to a list\n",
        "- For eg., range(4) is similar to the list $[0, 1, 2, 3]$"
      ]
    },
    {
      "cell_type": "code",
      "metadata": {
        "id": "Kee6l4zx6dmE",
        "outputId": "db022dc7-00b1-41f3-e027-b42c2147e01f",
        "colab": {
          "base_uri": "https://localhost:8080/",
          "height": 86
        }
      },
      "source": [
        "for i in range(4):\n",
        "    print(i)"
      ],
      "execution_count": null,
      "outputs": [
        {
          "output_type": "stream",
          "text": [
            "0\n",
            "1\n",
            "2\n",
            "3\n"
          ],
          "name": "stdout"
        }
      ]
    },
    {
      "cell_type": "code",
      "metadata": {
        "id": "B7bZoQkX6dmH",
        "outputId": "93e1c807-64ea-48bb-a679-2a330f9595ff",
        "colab": {
          "base_uri": "https://localhost:8080/",
          "height": 86
        }
      },
      "source": [
        "l = [0, 1, 2, 3]\n",
        "for i in l:\n",
        "    print(i)"
      ],
      "execution_count": null,
      "outputs": [
        {
          "output_type": "stream",
          "text": [
            "0\n",
            "1\n",
            "2\n",
            "3\n"
          ],
          "name": "stdout"
        }
      ]
    },
    {
      "cell_type": "code",
      "metadata": {
        "id": "cJtInsQl6dmK",
        "outputId": "09e78805-fc44-4b9e-a41c-e0c19521e4ba",
        "colab": {
          "base_uri": "https://localhost:8080/",
          "height": 86
        }
      },
      "source": [
        "fruit_juice_menu = ['Apple', 'Mango', 'Banana', 'Grape']\n",
        "## print the juices in the fruit juice menu\n",
        "for fruit in fruit_juice_menu:\n",
        "  print('I serve {} juice'.format(fruit))  "
      ],
      "execution_count": null,
      "outputs": [
        {
          "output_type": "stream",
          "text": [
            "I serve Apple juice\n",
            "I serve Mango juice\n",
            "I serve Banana juice\n",
            "I serve Grape juice\n"
          ],
          "name": "stdout"
        }
      ]
    },
    {
      "cell_type": "code",
      "metadata": {
        "id": "LCqrVrYN6dmN",
        "outputId": "77232e75-a5bc-4050-fa8d-27274427e541",
        "colab": {
          "base_uri": "https://localhost:8080/",
          "height": 137
        }
      },
      "source": [
        "## Example of using for loop with lists\n",
        "## Find the maximum number in a list of numbers\n",
        "def maximum(l):\n",
        "  maximum_number = l[0]  ## initialize variable here ## holds the maximum of all numbers seen till now\n",
        "                         ## initialize variable to the first number in the list\n",
        "  ## look at each number in the list l and compare it with the maximum_number. \n",
        "  ## If the number is greater than maximum_number then update the maximum_number.\n",
        "  for number in l:\n",
        "    if(number > maximum_number):\n",
        "      maximum_number = number\n",
        "    print(number, maximum_number)\n",
        "  return maximum_number\n",
        "\n",
        "print(maximum([3, 4, 7, 9, 12, 3]))\n",
        "  "
      ],
      "execution_count": null,
      "outputs": [
        {
          "output_type": "stream",
          "text": [
            "3 3\n",
            "4 4\n",
            "7 7\n",
            "9 9\n",
            "12 12\n",
            "3 12\n",
            "12\n"
          ],
          "name": "stdout"
        }
      ]
    },
    {
      "cell_type": "markdown",
      "metadata": {
        "id": "t3IWZ5YJ6dmQ"
      },
      "source": [
        "##### Practice problem"
      ]
    },
    {
      "cell_type": "code",
      "metadata": {
        "id": "bGNPrGk_6dmR"
      },
      "source": [
        "## Practice problem ##\n",
        "## Find the average value of a list of numbers\n",
        "def average(l):\n",
        "  ## Your code here\n",
        "  return avg\n",
        "\n",
        "l = [1, 2, 3, 4, 5] ## average(l) should return 3"
      ],
      "execution_count": null,
      "outputs": []
    },
    {
      "cell_type": "markdown",
      "metadata": {
        "id": "81QhRSaR6dmU"
      },
      "source": [
        "#### Combining ```len``` and ```range``` - a common technique"
      ]
    },
    {
      "cell_type": "code",
      "metadata": {
        "id": "9qO2YaMk6dmV",
        "outputId": "982d1d92-b516-478b-f536-abbb3ad1b556",
        "colab": {
          "base_uri": "https://localhost:8080/",
          "height": 86
        }
      },
      "source": [
        "names = ['Hari', 'Madhav', 'Govind', 'Ram']\n",
        "for i in range(len(names)):\n",
        "    print('At position {} is {}'.format(i, names[i]))"
      ],
      "execution_count": null,
      "outputs": [
        {
          "output_type": "stream",
          "text": [
            "At position 0 is Hari\n",
            "At position 1 is Madhav\n",
            "At position 2 is Govind\n",
            "At position 3 is Ram\n"
          ],
          "name": "stdout"
        }
      ]
    },
    {
      "cell_type": "code",
      "metadata": {
        "id": "QUAddorsVKsz",
        "outputId": "412257a5-dd4f-4ef0-c0a3-b35e055356ab",
        "colab": {
          "base_uri": "https://localhost:8080/",
          "height": 86
        }
      },
      "source": [
        "for i in names:\n",
        "  print(i)"
      ],
      "execution_count": null,
      "outputs": [
        {
          "output_type": "stream",
          "text": [
            "Hari\n",
            "Madhav\n",
            "Govind\n",
            "Ram\n"
          ],
          "name": "stdout"
        }
      ]
    },
    {
      "cell_type": "code",
      "metadata": {
        "id": "7CQmMayKVRoT",
        "outputId": "8c066be0-6037-4b90-dbaa-d127f2b5826b",
        "colab": {
          "base_uri": "https://localhost:8080/",
          "height": 86
        }
      },
      "source": [
        "for i in range(len(names)):\n",
        "  print(i)"
      ],
      "execution_count": null,
      "outputs": [
        {
          "output_type": "stream",
          "text": [
            "0\n",
            "1\n",
            "2\n",
            "3\n"
          ],
          "name": "stdout"
        }
      ]
    },
    {
      "cell_type": "code",
      "metadata": {
        "id": "yti0GIP56dmY",
        "outputId": "ee7d43d3-3041-4f75-cc95-4bbfea1ad0d4",
        "colab": {
          "base_uri": "https://localhost:8080/",
          "height": 34
        }
      },
      "source": [
        "## Example - Find the index in a list where an item is repeating\n",
        "l = [1, 2, 3, 5, 6, 6, 8]\n",
        "def repeating_index(l):\n",
        "  r = None\n",
        "  for i in range(1, len(l)): ## i loops over the index values - 0, 1, 2, \n",
        "    if(l[i] == l[i-1]):\n",
        "      r = i - 1   ## r holds the index where an item is repeating\n",
        "      break\n",
        "  return r\n",
        "\n",
        "print(repeating_index(l))"
      ],
      "execution_count": null,
      "outputs": [
        {
          "output_type": "stream",
          "text": [
            "4\n"
          ],
          "name": "stdout"
        }
      ]
    },
    {
      "cell_type": "markdown",
      "metadata": {
        "id": "ZHJF5uxU6dmb"
      },
      "source": [
        "##### Practice problem"
      ]
    },
    {
      "cell_type": "code",
      "metadata": {
        "id": "UUFGgZMC6dmc"
      },
      "source": [
        "## Example - Find the indices in a list where the item is a multiple of 7\n",
        "def multiple_7(l):\n",
        "  return indices_7 ## list of all indices where the item is a multiple of 7\n",
        "\n",
        "l = [2, 3, 7, 4, 14, 9] ## multiple_7 should return [2, 4]"
      ],
      "execution_count": null,
      "outputs": []
    },
    {
      "cell_type": "markdown",
      "metadata": {
        "id": "Po9P8B-Y6dml"
      },
      "source": [
        "#### ```in``` and ```not in``` operators"
      ]
    },
    {
      "cell_type": "markdown",
      "metadata": {
        "id": "QAex3pgq6dmm"
      },
      "source": [
        "- ```in``` and ```not in``` are binary operators\n",
        "- They connect two values - an item to search for and a list in which that item may be found\n",
        "- The expression evaluates to True if the item is present in the list and it evaluates to False if the item is not present in the list"
      ]
    },
    {
      "cell_type": "code",
      "metadata": {
        "id": "YcrtfAaU6dmn",
        "outputId": "dfc28f1f-d80e-4be5-c055-50ea5d434502",
        "colab": {
          "base_uri": "https://localhost:8080/",
          "height": 34
        }
      },
      "source": [
        "##Examples of usage of in and not in\n",
        "names = ['Hari', 'Govinda', 'Madhava', 'Damodara']\n",
        "# print('Govinda' in names)\n",
        "# print('Rama' in names)\n",
        "\n",
        "# print('Shyama' not in names)\n",
        "# print('Damodara' not in names)"
      ],
      "execution_count": null,
      "outputs": [
        {
          "output_type": "stream",
          "text": [
            "False\n"
          ],
          "name": "stdout"
        }
      ]
    },
    {
      "cell_type": "code",
      "metadata": {
        "id": "EzFQzJV36dmq",
        "outputId": "5ce27a76-a58d-47f6-f0a4-adb80ff9579d",
        "colab": {
          "base_uri": "https://localhost:8080/",
          "height": 34
        }
      },
      "source": [
        "## Solved problem\n",
        "## Take a list. Create a list of numbers which are not in that list\n",
        "l = [2, 5, 9, 11, 13]\n",
        "\n",
        "## Task - create a list of all numbers from 1 to 20 which are not in l\n",
        "notl = [] ## initialize to empty list\n",
        "for num in range(1, 21):\n",
        "  if(num not in l):\n",
        "    notl = notl + [num]\n",
        "\n",
        "print(notl)"
      ],
      "execution_count": null,
      "outputs": [
        {
          "output_type": "stream",
          "text": [
            "[1, 3, 4, 6, 7, 8, 10, 12, 14, 15, 16, 17, 18, 19, 20]\n"
          ],
          "name": "stdout"
        }
      ]
    },
    {
      "cell_type": "markdown",
      "metadata": {
        "id": "gH7nBF0pweAt"
      },
      "source": [
        "## Methods on Lists\n",
        "- A method is the same as a function, except it is \"called on\" a value\n",
        "- The method call comes after a value and is separated by a ```.``` (fullstop/period)"
      ]
    },
    {
      "cell_type": "code",
      "metadata": {
        "id": "5sJ0Xq6fYzDs",
        "outputId": "e99f13fd-ae6c-4dcc-b8a2-7841e73ad97b",
        "colab": {
          "base_uri": "https://localhost:8080/",
          "height": 34
        }
      },
      "source": [
        "l = [1, 2, 3]\n",
        "l.index(2)"
      ],
      "execution_count": null,
      "outputs": [
        {
          "output_type": "execute_result",
          "data": {
            "text/plain": [
              "1"
            ]
          },
          "metadata": {
            "tags": []
          },
          "execution_count": 31
        }
      ]
    },
    {
      "cell_type": "markdown",
      "metadata": {
        "id": "cLS5co36w2X0"
      },
      "source": [
        "##### Finding elements with ```index``` method\n",
        "- Returns the index of an item in a list if it is present in the list\n",
        "- If the item is not present in the list, it throws an error ValueError"
      ]
    },
    {
      "cell_type": "code",
      "metadata": {
        "id": "IwiWjIV6wTMT",
        "outputId": "2303b4f1-da39-457a-a005-ae2907e0d84b",
        "colab": {
          "base_uri": "https://localhost:8080/",
          "height": 199
        }
      },
      "source": [
        "## Example using index method\n",
        "names = ['Hari', 'Govinda', 'Madhava', 'Damodara']\n",
        "# names.index('Govinda')\n",
        "# names.index('Damodara')\n",
        "names.index('Murari')"
      ],
      "execution_count": null,
      "outputs": [
        {
          "output_type": "error",
          "ename": "ValueError",
          "evalue": "ignored",
          "traceback": [
            "\u001b[0;31m---------------------------------------------------------------------------\u001b[0m",
            "\u001b[0;31mValueError\u001b[0m                                Traceback (most recent call last)",
            "\u001b[0;32m<ipython-input-33-f2bb783be094>\u001b[0m in \u001b[0;36m<module>\u001b[0;34m()\u001b[0m\n\u001b[1;32m      2\u001b[0m \u001b[0;31m# names.index('Govinda')\u001b[0m\u001b[0;34m\u001b[0m\u001b[0;34m\u001b[0m\u001b[0;34m\u001b[0m\u001b[0m\n\u001b[1;32m      3\u001b[0m \u001b[0;31m# names.index('Damodara')\u001b[0m\u001b[0;34m\u001b[0m\u001b[0;34m\u001b[0m\u001b[0;34m\u001b[0m\u001b[0m\n\u001b[0;32m----> 4\u001b[0;31m \u001b[0mnames\u001b[0m\u001b[0;34m.\u001b[0m\u001b[0mindex\u001b[0m\u001b[0;34m(\u001b[0m\u001b[0;34m'Murari'\u001b[0m\u001b[0;34m)\u001b[0m\u001b[0;34m\u001b[0m\u001b[0;34m\u001b[0m\u001b[0m\n\u001b[0m",
            "\u001b[0;31mValueError\u001b[0m: 'Murari' is not in list"
          ]
        }
      ]
    },
    {
      "cell_type": "markdown",
      "metadata": {
        "id": "WrK16TCo058j"
      },
      "source": [
        "- Finds the first instance if multiple items of the same value are present"
      ]
    },
    {
      "cell_type": "code",
      "metadata": {
        "id": "-pXNKAV70-0z",
        "outputId": "18932a0d-f899-45c3-f9c3-abf8c54586e8",
        "colab": {
          "base_uri": "https://localhost:8080/",
          "height": 34
        }
      },
      "source": [
        "##Example\n",
        "l = [1, 2, 3, 3]\n",
        "l.index(3)"
      ],
      "execution_count": null,
      "outputs": [
        {
          "output_type": "execute_result",
          "data": {
            "text/plain": [
              "2"
            ]
          },
          "metadata": {
            "tags": []
          },
          "execution_count": 34
        }
      ]
    },
    {
      "cell_type": "markdown",
      "metadata": {
        "id": "yw-1_RyQxdpT"
      },
      "source": [
        "#### Adding values to list with ```append()``` and ```insert()``` methods\n",
        "- ```append``` method adds an item at the end of a list\n",
        "- ```insert``` method can be used to add an item at any index of a list"
      ]
    },
    {
      "cell_type": "code",
      "metadata": {
        "id": "s6GzMlPBxdUR",
        "outputId": "cf2f2255-44ba-4d52-997c-21e8247d04d9",
        "colab": {
          "base_uri": "https://localhost:8080/",
          "height": 34
        }
      },
      "source": [
        "names = ['Hari', 'Govinda', 'Madhava', 'Damodara']\n",
        "names.append('Murari')\n",
        "print(names)"
      ],
      "execution_count": null,
      "outputs": [
        {
          "output_type": "stream",
          "text": [
            "['Hari', 'Govinda', 'Madhava', 'Damodara', 'Murari']\n"
          ],
          "name": "stdout"
        }
      ]
    },
    {
      "cell_type": "code",
      "metadata": {
        "id": "XdYWroUryR_3",
        "outputId": "9fb5bd41-6072-4788-c830-551381d9bf91",
        "colab": {
          "base_uri": "https://localhost:8080/",
          "height": 34
        }
      },
      "source": [
        "names.insert(2, 'Vasudeva')\n",
        "print(names)"
      ],
      "execution_count": null,
      "outputs": [
        {
          "output_type": "stream",
          "text": [
            "['Hari', 'Govinda', 'Vasudeva', 'Madhava', 'Damodara', 'Murari']\n"
          ],
          "name": "stdout"
        }
      ]
    },
    {
      "cell_type": "markdown",
      "metadata": {
        "id": "nQ5o5pui0Kul"
      },
      "source": [
        "- Modifying lists in place vs creating a new list"
      ]
    },
    {
      "cell_type": "code",
      "metadata": {
        "id": "4CqjS4XpyaUT",
        "outputId": "4880434f-5506-4e80-c930-bcd9e1aec59b",
        "colab": {
          "base_uri": "https://localhost:8080/",
          "height": 34
        }
      },
      "source": [
        "## append and insert functions do not return anything. They return None value. They change the lists in place.\n",
        "names = names.append('Rama') ## Do not do this\n",
        "# print(names)\n",
        "# names = names + ('Rama')"
      ],
      "execution_count": null,
      "outputs": [
        {
          "output_type": "stream",
          "text": [
            "None\n"
          ],
          "name": "stdout"
        }
      ]
    },
    {
      "cell_type": "code",
      "metadata": {
        "id": "ZgUjG9YIabkP",
        "outputId": "bea8002f-3e40-4279-dba6-01f98d24a439",
        "colab": {
          "base_uri": "https://localhost:8080/",
          "height": 51
        }
      },
      "source": [
        "names = ['Hari', 'Govinda', 'Madhava', 'Damodara']\n",
        "names.append('Rama')\n",
        "print(names)\n",
        "\n",
        "names = names + ['Rama']  ## in this case an entire new list is created and assigned to names\n",
        "names = names + ['Shyama']\n",
        "print(names)"
      ],
      "execution_count": null,
      "outputs": [
        {
          "output_type": "stream",
          "text": [
            "['Hari', 'Govinda', 'Madhava', 'Damodara', 'Rama']\n",
            "['Hari', 'Govinda', 'Madhava', 'Damodara', 'Rama', 'Rama', 'Shyama']\n"
          ],
          "name": "stdout"
        }
      ]
    },
    {
      "cell_type": "markdown",
      "metadata": {
        "id": "bnhnTtt71My0"
      },
      "source": [
        "- Reversing values using ```reverse()``` method"
      ]
    },
    {
      "cell_type": "code",
      "metadata": {
        "id": "ptxR-RdI1FeG",
        "outputId": "b2165312-59b1-4354-845b-231b473c92cf",
        "colab": {
          "base_uri": "https://localhost:8080/",
          "height": 51
        }
      },
      "source": [
        "## Example\n",
        "l = [1, 2, 3, 4]\n",
        "l.reverse()\n",
        "print(l)  ## reverse changes list in place. So do not use assignment operation on top of it\n",
        "l = l.reverse()  ## Do not do this\n",
        "print(l)"
      ],
      "execution_count": null,
      "outputs": [
        {
          "output_type": "stream",
          "text": [
            "[4, 3, 2, 1]\n",
            "None\n"
          ],
          "name": "stdout"
        }
      ]
    },
    {
      "cell_type": "code",
      "metadata": {
        "id": "cDxxp7k23p_l",
        "outputId": "0a8526da-4b11-40d3-a73c-2f903be5f5f3",
        "colab": {
          "base_uri": "https://localhost:8080/",
          "height": 34
        }
      },
      "source": [
        "## Example problem\n",
        "## List contains numbers. Create a list of even numbers from that list\n",
        "l = [1, 2, 3, 4, 6, 9, 11, 24]\n",
        "evens = []\n",
        "\n",
        "## look at each item in l and if it is even add it to evens list\n",
        "for i in l:\n",
        "  if(i % 2 == 0):\n",
        "    evens.append(i)\n",
        "\n",
        "print(evens)"
      ],
      "execution_count": null,
      "outputs": [
        {
          "output_type": "stream",
          "text": [
            "[2, 4, 6, 24]\n"
          ],
          "name": "stdout"
        }
      ]
    },
    {
      "cell_type": "markdown",
      "metadata": {
        "id": "f64Qgieo3yyQ"
      },
      "source": [
        "###### Practice problem"
      ]
    },
    {
      "cell_type": "code",
      "metadata": {
        "id": "HxIgtfG23x7d"
      },
      "source": [
        "## Example \n",
        "## List contatins lists. Create a list of all lists with length greater than or equal to 3\n",
        "l = [[1, 2, 3], ['ram'], ['a', 'b'], [4, 5 ,6, 7]]\n",
        "m = [[1, 2, 3], [4, 5, 6, 7]] ## contains only lists with length greater than or equal to 3"
      ],
      "execution_count": null,
      "outputs": []
    },
    {
      "cell_type": "markdown",
      "metadata": {
        "id": "grIaEMIQ1gM7"
      },
      "source": [
        "## Tuple data type\n",
        "- Behaves exactly like list datatype\n",
        "- Use parantheses to define instead of square brackets\n",
        "- Immutable datatype"
      ]
    },
    {
      "cell_type": "code",
      "metadata": {
        "id": "ihwDs5k31dgp"
      },
      "source": [
        "l = [1, 2] ## list of two numbers\n",
        "t = (1, 2) ## tuple of two numbers "
      ],
      "execution_count": null,
      "outputs": []
    },
    {
      "cell_type": "code",
      "metadata": {
        "id": "LRBixWuKcupb",
        "outputId": "dccfabce-8088-4b28-95c2-a2262c791f8a",
        "colab": {
          "base_uri": "https://localhost:8080/",
          "height": 34
        }
      },
      "source": [
        "l[1] = 3\n",
        "print(l)"
      ],
      "execution_count": null,
      "outputs": [
        {
          "output_type": "stream",
          "text": [
            "[1, 3]\n"
          ],
          "name": "stdout"
        }
      ]
    },
    {
      "cell_type": "code",
      "metadata": {
        "id": "9imlntoZc2yF",
        "outputId": "318d8ae3-a227-4b22-c214-6c1b7ab40216",
        "colab": {
          "base_uri": "https://localhost:8080/",
          "height": 164
        }
      },
      "source": [
        "t[1] = 3 ## This operation is not supported because tuples are immutable."
      ],
      "execution_count": null,
      "outputs": [
        {
          "output_type": "error",
          "ename": "TypeError",
          "evalue": "ignored",
          "traceback": [
            "\u001b[0;31m---------------------------------------------------------------------------\u001b[0m",
            "\u001b[0;31mTypeError\u001b[0m                                 Traceback (most recent call last)",
            "\u001b[0;32m<ipython-input-50-91448c5f771b>\u001b[0m in \u001b[0;36m<module>\u001b[0;34m()\u001b[0m\n\u001b[0;32m----> 1\u001b[0;31m \u001b[0mt\u001b[0m\u001b[0;34m[\u001b[0m\u001b[0;36m1\u001b[0m\u001b[0;34m]\u001b[0m \u001b[0;34m=\u001b[0m \u001b[0;36m3\u001b[0m\u001b[0;34m\u001b[0m\u001b[0;34m\u001b[0m\u001b[0m\n\u001b[0m",
            "\u001b[0;31mTypeError\u001b[0m: 'tuple' object does not support item assignment"
          ]
        }
      ]
    },
    {
      "cell_type": "code",
      "metadata": {
        "id": "N9zSeDBLclhB",
        "outputId": "7b62ad84-a605-44f1-e152-d14bb2d78be0",
        "colab": {
          "base_uri": "https://localhost:8080/",
          "height": 34
        }
      },
      "source": [
        "print(len(l), len(t))"
      ],
      "execution_count": null,
      "outputs": [
        {
          "output_type": "stream",
          "text": [
            "2 2\n"
          ],
          "name": "stdout"
        }
      ]
    },
    {
      "cell_type": "markdown",
      "metadata": {
        "id": "XjU_s67F1p8U"
      },
      "source": [
        "##### ```list``` and ```tuple``` functions"
      ]
    },
    {
      "cell_type": "code",
      "metadata": {
        "id": "_rekWGlM2kUs",
        "outputId": "4b3fea44-5e77-4411-b9f2-807029ee28eb",
        "colab": {
          "base_uri": "https://localhost:8080/",
          "height": 51
        }
      },
      "source": [
        "t = (1, 2, 3)\n",
        "l = list(t) ## Convert tuple to list\n",
        "print(l)\n",
        "t2 = tuple(l) ## Convert list to tuple\n",
        "print(t2)"
      ],
      "execution_count": null,
      "outputs": [
        {
          "output_type": "stream",
          "text": [
            "[1, 2, 3]\n",
            "(1, 2, 3)\n"
          ],
          "name": "stdout"
        }
      ]
    },
    {
      "cell_type": "code",
      "metadata": {
        "id": "5qbKAGJsdO7-"
      },
      "source": [
        ""
      ],
      "execution_count": null,
      "outputs": []
    }
  ]
}